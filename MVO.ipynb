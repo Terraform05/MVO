{
 "cells": [
  {
   "cell_type": "code",
   "execution_count": null,
   "metadata": {},
   "outputs": [],
   "source": [
    "from tqdm import tqdm\n",
    "\n",
    "import numpy as np\n",
    "import pandas as pd\n",
    "\n",
    "import yfinance as yf\n",
    "\n",
    "import matplotlib.pyplot as plt\n",
    "%matplotlib inline\n",
    "\n",
    "import plotly.express as px\n",
    "from plotly.offline import init_notebook_mode\n",
    "init_notebook_mode(connected=True)\n",
    "\n",
    "risk_free_rate = 0.03\n",
    "trial_n = 100\n",
    "\n",
    "tickers = ['NKE', 'MSFT', 'DIS', 'COST']\n",
    "\n",
    "#start = '2012-1-1'\n",
    "#end = '2022-3-1'\n",
    "start = '2012-1-1'\n",
    "end = '2022-1-1'\n",
    "\n",
    "\n",
    "df_close = yf.download(tickers, start, end, interval='1mo')['Close']\n",
    "\n",
    "df_close.to_csv('./data/df_close.csv')"
   ]
  },
  {
   "cell_type": "code",
   "execution_count": null,
   "metadata": {},
   "outputs": [],
   "source": [
    "df_close.shape"
   ]
  },
  {
   "cell_type": "code",
   "execution_count": null,
   "metadata": {},
   "outputs": [],
   "source": [
    "df_close.head()"
   ]
  },
  {
   "cell_type": "code",
   "execution_count": null,
   "metadata": {},
   "outputs": [],
   "source": [
    "df_close.tail()"
   ]
  },
  {
   "cell_type": "code",
   "execution_count": null,
   "metadata": {},
   "outputs": [],
   "source": [
    "df_close.isnull().sum()"
   ]
  },
  {
   "cell_type": "code",
   "execution_count": null,
   "metadata": {},
   "outputs": [],
   "source": [
    "if df_close.isnull().values.any():\n",
    "    df_close.fillna(method='ffill', inplace = True) #front fills\n",
    "    df_close.fillna(method='bfill', inplace = True) #back fills"
   ]
  },
  {
   "cell_type": "code",
   "execution_count": null,
   "metadata": {},
   "outputs": [],
   "source": [
    "def plot(df, xlabel, ylabel, title):\n",
    "    #matplotlib\n",
    "    ax = df_close.plot(title = title, figsize=(16, 8), ax = None)\n",
    "    ax.set_xlabel(xlabel)\n",
    "    ax.set_ylabel(ylabel)\n",
    "    ax.axhline(y=0, color = 'black')\n",
    "    ax.legend(loc='upper left')\n",
    "    plt.show()\n",
    "\n",
    "    #plotly\n",
    "    fig = px.line(df_close, title = title)\n",
    "    fig.update_layout(xaxis_title=xlabel, yaxis_title=ylabel,showlegend=True, template='seaborn')\n",
    "    fig.show()"
   ]
  },
  {
   "cell_type": "code",
   "execution_count": null,
   "metadata": {},
   "outputs": [],
   "source": [
    "plot(df_close, 'Date', 'Stock Price', 'Close Price')"
   ]
  },
  {
   "cell_type": "code",
   "execution_count": null,
   "metadata": {},
   "outputs": [],
   "source": [
    "df_pct_change = df_close.pct_change().iloc[1:] #get rid of last row\n",
    "df_pct_change.head()"
   ]
  },
  {
   "cell_type": "code",
   "execution_count": null,
   "metadata": {},
   "outputs": [],
   "source": [
    "plot(df_pct_change, 'Date', 'Percent', 'Percent Change (monthly return)')"
   ]
  },
  {
   "cell_type": "code",
   "execution_count": null,
   "metadata": {},
   "outputs": [],
   "source": [
    "mean_return = df_pct_change.mean() * 12\n",
    "mean_return"
   ]
  },
  {
   "cell_type": "code",
   "execution_count": null,
   "metadata": {},
   "outputs": [],
   "source": [
    "var_risk = df_pct_change.var() * 12\n",
    "var_risk"
   ]
  },
  {
   "cell_type": "code",
   "execution_count": null,
   "metadata": {},
   "outputs": [],
   "source": [
    "cov_mat = df_pct_change.cov()*12\n",
    "cov_mat"
   ]
  },
  {
   "cell_type": "code",
   "execution_count": null,
   "metadata": {},
   "outputs": [],
   "source": [
    "corr_mat = df_pct_change.corr()\n",
    "corr_mat"
   ]
  },
  {
   "cell_type": "code",
   "execution_count": null,
   "metadata": {},
   "outputs": [],
   "source": [
    "fig = px.imshow(corr_mat, title='Correlation Heatmap')\n",
    "fig.show()"
   ]
  },
  {
   "cell_type": "code",
   "execution_count": null,
   "metadata": {},
   "outputs": [],
   "source": [
    "weight = 1/len(tickers)\n",
    "eq_weights = [weight for i in tickers]\n",
    "eq_weights"
   ]
  },
  {
   "cell_type": "code",
   "execution_count": null,
   "metadata": {},
   "outputs": [],
   "source": [
    "eq_return = eq_weights @ (mean_return)\n",
    "eq_return"
   ]
  },
  {
   "cell_type": "code",
   "execution_count": null,
   "metadata": {},
   "outputs": [],
   "source": [
    "eq_risk = ((eq_weights @ cov_mat) @ eq_weights)**(1/2)\n",
    "eq_risk"
   ]
  },
  {
   "cell_type": "code",
   "execution_count": null,
   "metadata": {},
   "outputs": [],
   "source": [
    "eq_sharpe = (eq_return - risk_free_rate)/eq_risk\n",
    "eq_sharpe"
   ]
  },
  {
   "cell_type": "code",
   "execution_count": null,
   "metadata": {},
   "outputs": [],
   "source": [
    "efficient_frontier_data = []\n",
    "for trial in tqdm(range(trial_n)):\n",
    "    t_weight = np.random.random(len(tickers, ))\n",
    "    t_weights = t_weight/sum(t_weight)\n",
    "    t_return = t_weights @ (mean_return)\n",
    "    t_risk = ((t_weights @ cov_mat) @ t_weights)**(1/2)\n",
    "    t_sharpe = (t_return - risk_free_rate)/t_risk\n",
    "    efficient_frontier_data.append([t_weights, t_risk, t_return, t_sharpe])\n",
    "\n",
    "efficient_frontier_data = pd.DataFrame(efficient_frontier_data, columns=['Weights', 'Risk', 'Return', 'Sharpe'])\n",
    "efficient_frontier_data.head()"
   ]
  },
  {
   "cell_type": "code",
   "execution_count": null,
   "metadata": {},
   "outputs": [],
   "source": [
    "i_max_sharpe = efficient_frontier_data['Sharpe'].idxmax()\n",
    "max_sharpe = efficient_frontier_data.iloc[i_max_sharpe, :]\n",
    "max_sharpe"
   ]
  },
  {
   "cell_type": "code",
   "execution_count": null,
   "metadata": {},
   "outputs": [],
   "source": [
    "i_min_risk = efficient_frontier_data['Risk'].idxmin()\n",
    "min_risk = efficient_frontier_data.iloc[i_min_risk, :]\n",
    "min_risk"
   ]
  },
  {
   "cell_type": "code",
   "execution_count": null,
   "metadata": {},
   "outputs": [],
   "source": [
    "i_max_return = efficient_frontier_data['Return'].idxmax()\n",
    "max_return = efficient_frontier_data.iloc[i_max_return, :]\n",
    "max_return"
   ]
  },
  {
   "cell_type": "code",
   "execution_count": null,
   "metadata": {},
   "outputs": [],
   "source": [
    "print(eq_risk, eq_return)\n",
    "print(max_sharpe['Risk'], max_sharpe['Return'])\n"
   ]
  },
  {
   "cell_type": "code",
   "execution_count": null,
   "metadata": {},
   "outputs": [],
   "source": [
    "from plotly import graph_objects as go\n",
    "\n",
    "\n",
    "def addMarker(fig, x, y, color):\n",
    "    fig.add_trace(\n",
    "        go.Scatter(\n",
    "            x=[x],\n",
    "            y=[y],\n",
    "            mode=\"markers\",\n",
    "            marker_symbol='star',\n",
    "            marker_size=10,\n",
    "            marker_color=color\n",
    "        )\n",
    "    )\n"
   ]
  },
  {
   "cell_type": "code",
   "execution_count": null,
   "metadata": {},
   "outputs": [],
   "source": [
    "fig = px.scatter(efficient_frontier_data, x='Risk', y='Return', title='Efficient Frontier', color='Risk')\n",
    "addMarker(fig, max_sharpe['Risk'], max_sharpe['Return'], 'Green')\n",
    "addMarker(fig, min_risk['Risk'], min_risk['Return'], 'Cyan')\n",
    "addMarker(fig, max_return['Risk'], max_return['Return'], 'Red')\n",
    "fig.show()"
   ]
  },
  {
   "attachments": {},
   "cell_type": "markdown",
   "metadata": {},
   "source": [
    "## Process data for recent past year for same stocks and the spy"
   ]
  },
  {
   "cell_type": "code",
   "execution_count": null,
   "metadata": {},
   "outputs": [],
   "source": [
    "tickers = ['NKE', 'MSFT', 'DIS', 'COST']\n",
    "\n",
    "start = '2022-1-1'\n",
    "end = '2023-1-1'\n",
    "\n",
    "df_recent_close = yf.download(tickers, start, end, interval='1d')['Close']\n",
    "df_recent_close.to_csv('./data/df_recent_close.csv')\n",
    "\n",
    "df_spy_close = yf.download('SPY', start, end, interval='1d')['Close']\n",
    "df_spy_close.to_csv('./data/df_spy_close.csv')"
   ]
  },
  {
   "attachments": {},
   "cell_type": "markdown",
   "metadata": {},
   "source": [
    "## Percent Change for recent past year"
   ]
  },
  {
   "cell_type": "code",
   "execution_count": null,
   "metadata": {},
   "outputs": [],
   "source": [
    "recent_pct_change = df_recent_close.pct_change().iloc[1:] #get rid of last row\n",
    "recent_mean_return = recent_pct_change.mean() * 365\n",
    "recent_risk = recent_pct_change.var() * 365 "
   ]
  },
  {
   "cell_type": "code",
   "execution_count": null,
   "metadata": {},
   "outputs": [],
   "source": [
    "plot(recent_pct_change, 'Date', 'Percent', 'Percent Change (daily return)')"
   ]
  },
  {
   "cell_type": "code",
   "execution_count": null,
   "metadata": {},
   "outputs": [],
   "source": [
    "spy_pct_change = df_spy_close.pct_change().iloc[1:] #get rid of last row\n",
    "spy_mean_return = spy_pct_change.mean() * 365\n",
    "spy_risk = spy_pct_change.var() * 365"
   ]
  },
  {
   "cell_type": "code",
   "execution_count": null,
   "metadata": {},
   "outputs": [],
   "source": [
    "plot(spy_pct_change, 'Date', 'Percent', 'Percent Change (daily return)')"
   ]
  },
  {
   "attachments": {},
   "cell_type": "markdown",
   "metadata": {},
   "source": [
    "## Cumulative Product Past Recent Year"
   ]
  },
  {
   "cell_type": "code",
   "execution_count": null,
   "metadata": {},
   "outputs": [],
   "source": [
    "recent_cumulative_product = recent_pct_change.add(1).cumprod().sub(1)"
   ]
  },
  {
   "cell_type": "code",
   "execution_count": null,
   "metadata": {},
   "outputs": [],
   "source": [
    "plot(recent_cumulative_product, 'date', 'cumulative product', 'cumulative product' )"
   ]
  },
  {
   "cell_type": "code",
   "execution_count": null,
   "metadata": {},
   "outputs": [],
   "source": [
    "spy_cumulative_product = spy_pct_change.add(1).cumprod().sub(1)"
   ]
  },
  {
   "cell_type": "code",
   "execution_count": null,
   "metadata": {},
   "outputs": [],
   "source": [
    "plot(spy_cumulative_product, 'date', 'cumulative product', 'cumulative product')"
   ]
  }
 ],
 "metadata": {
  "kernelspec": {
   "display_name": "Python 3",
   "language": "python",
   "name": "python3"
  },
  "language_info": {
   "codemirror_mode": {
    "name": "ipython",
    "version": 3
   },
   "file_extension": ".py",
   "mimetype": "text/x-python",
   "name": "python",
   "nbconvert_exporter": "python",
   "pygments_lexer": "ipython3",
   "version": "3.10.9"
  },
  "orig_nbformat": 4,
  "vscode": {
   "interpreter": {
    "hash": "822b2de4bfe9cac38b44aa91bbae90cafa35cd8f4bbd8210ef9d2a5c9a49e948"
   }
  }
 },
 "nbformat": 4,
 "nbformat_minor": 2
}
