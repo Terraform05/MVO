{
 "cells": [
  {
   "cell_type": "code",
   "execution_count": null,
   "metadata": {},
   "outputs": [],
   "source": [
    "import numpy as np\n",
    "import pandas as pd\n",
    "import yfinance as yf\n",
    "\n",
    "risk_free_rate = 0.03\n",
    "\n",
    "tickers = ['NKE', 'MSFT', 'DIS', 'COST']\n",
    "\n",
    "start = '2012-1-1'\n",
    "end = '2022-3-1'\n",
    "\n",
    "df_close = yf.download(tickers, start, end, interval='1mo')['Close']\n",
    "\n",
    "df_close.to_csv('./data/df_close.csv')"
   ]
  },
  {
   "cell_type": "code",
   "execution_count": null,
   "metadata": {},
   "outputs": [],
   "source": [
    "df_close.shape"
   ]
  },
  {
   "cell_type": "code",
   "execution_count": null,
   "metadata": {},
   "outputs": [],
   "source": [
    "df_close.head()"
   ]
  },
  {
   "cell_type": "code",
   "execution_count": null,
   "metadata": {},
   "outputs": [],
   "source": [
    "df_close.tail()"
   ]
  },
  {
   "cell_type": "code",
   "execution_count": null,
   "metadata": {},
   "outputs": [],
   "source": [
    "df_close.isnull().sum()"
   ]
  },
  {
   "cell_type": "code",
   "execution_count": null,
   "metadata": {},
   "outputs": [],
   "source": [
    "if df_close.isnull().values.any():\n",
    "    df_close.fillna(method='ffill', inplace = True) #front fills\n",
    "    df_close.fillna(method='bfill', inplace = True) #back fills"
   ]
  },
  {
   "cell_type": "code",
   "execution_count": null,
   "metadata": {},
   "outputs": [],
   "source": [
    "df_pct_change = df_close.pct_change().iloc[1:] #get rid of last row because cannot calc pct change for index +1\n",
    "df_pct_change.head()"
   ]
  },
  {
   "cell_type": "code",
   "execution_count": null,
   "metadata": {},
   "outputs": [],
   "source": [
    "mean_return = df_pct_change.mean() * 12\n",
    "mean_return"
   ]
  },
  {
   "cell_type": "code",
   "execution_count": null,
   "metadata": {},
   "outputs": [],
   "source": [
    "var_risk = df_pct_change.var() * 12\n",
    "var_risk"
   ]
  },
  {
   "cell_type": "code",
   "execution_count": null,
   "metadata": {},
   "outputs": [],
   "source": [
    "cov_mat = df_pct_change.cov()*12\n",
    "cov_mat"
   ]
  },
  {
   "cell_type": "code",
   "execution_count": null,
   "metadata": {},
   "outputs": [],
   "source": [
    "corr_mat = df_pct_change.corr()\n",
    "corr_mat"
   ]
  },
  {
   "cell_type": "code",
   "execution_count": null,
   "metadata": {},
   "outputs": [],
   "source": [
    "weight = 1/len(tickers)\n",
    "eq_weights = [weight for i in tickers]\n",
    "eq_weights"
   ]
  },
  {
   "cell_type": "code",
   "execution_count": null,
   "metadata": {},
   "outputs": [],
   "source": [
    "eq_return = eq_weights @ (mean_return)\n",
    "eq_return"
   ]
  },
  {
   "cell_type": "code",
   "execution_count": null,
   "metadata": {},
   "outputs": [],
   "source": [
    "eq_risk = ((eq_weights @ cov_mat) @ eq_weights)**(1/2)\n",
    "eq_risk"
   ]
  },
  {
   "cell_type": "code",
   "execution_count": null,
   "metadata": {},
   "outputs": [],
   "source": [
    "eq_sharpe = (eq_return - risk_free_rate)/eq_risk\n",
    "eq_sharpe"
   ]
  }
 ],
 "metadata": {
  "kernelspec": {
   "display_name": "Python 3",
   "language": "python",
   "name": "python3"
  },
  "language_info": {
   "codemirror_mode": {
    "name": "ipython",
    "version": 3
   },
   "file_extension": ".py",
   "mimetype": "text/x-python",
   "name": "python",
   "nbconvert_exporter": "python",
   "pygments_lexer": "ipython3",
   "version": "3.10.9"
  },
  "orig_nbformat": 4,
  "vscode": {
   "interpreter": {
    "hash": "822b2de4bfe9cac38b44aa91bbae90cafa35cd8f4bbd8210ef9d2a5c9a49e948"
   }
  }
 },
 "nbformat": 4,
 "nbformat_minor": 2
}
