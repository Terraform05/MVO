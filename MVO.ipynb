{
 "cells": [
  {
   "cell_type": "code",
   "execution_count": null,
   "metadata": {},
   "outputs": [],
   "source": [
    "#imports\n",
    "from tqdm import tqdm\n",
    "\n",
    "import numpy as np\n",
    "import pandas as pd\n",
    "\n",
    "import yfinance as yf\n",
    "\n",
    "import matplotlib.pyplot as plt\n",
    "%matplotlib inline\n",
    "\n",
    "import plotly.express as px\n",
    "from plotly.offline import init_notebook_mode\n",
    "init_notebook_mode(connected=True)"
   ]
  },
  {
   "cell_type": "code",
   "execution_count": 2,
   "metadata": {},
   "outputs": [],
   "source": [
    "#define constants\n",
    "risk_free_rate = 0.03\n",
    "trial_n = 100000\n",
    "\n",
    "tickers = ['NKE', 'MSFT', 'DIS', 'COST']\n",
    "\n",
    "start = '2012-1-1'\n",
    "end = '2022-1-1'"
   ]
  },
  {
   "cell_type": "code",
   "execution_count": null,
   "metadata": {},
   "outputs": [],
   "source": [
    "#download data\n",
    "df_close = yf.download(tickers, start, end, interval='1mo')['Close']\n",
    "# output [*********************100%***********************]  4 of 4 completed\n",
    "df_close.to_csv('./data/df_close.csv')"
   ]
  },
  {
   "cell_type": "code",
   "execution_count": null,
   "metadata": {},
   "outputs": [],
   "source": [
    "df_close.shape\n",
    "# output (120, 4)"
   ]
  },
  {
   "cell_type": "code",
   "execution_count": null,
   "metadata": {},
   "outputs": [],
   "source": [
    "df_close.head()"
   ]
  },
  {
   "cell_type": "code",
   "execution_count": null,
   "metadata": {},
   "outputs": [],
   "source": [
    "df_close.tail()"
   ]
  },
  {
   "cell_type": "code",
   "execution_count": null,
   "metadata": {},
   "outputs": [],
   "source": [
    "df_close.isnull().sum()"
   ]
  },
  {
   "cell_type": "code",
   "execution_count": null,
   "metadata": {},
   "outputs": [],
   "source": [
    "if df_close.isnull().values.any():\n",
    "    df_close.fillna(method='ffill', inplace = True) #front fills\n",
    "    df_close.fillna(method='bfill', inplace = True) #back fills\n",
    "\n",
    "df_close.isnull().sum()"
   ]
  },
  {
   "cell_type": "code",
   "execution_count": 9,
   "metadata": {},
   "outputs": [],
   "source": [
    "def plot_line(df, xlabel, ylabel, title):\n",
    "    # matplotlib\n",
    "    ax = df.plot(title = title, figsize=(16, 8), ax = None)\n",
    "    ax.set_xlabel(xlabel)\n",
    "    ax.set_ylabel(ylabel)\n",
    "    ax.axhline(y=0, color='black')\n",
    "    ax.legend(loc='upper left')\n",
    "    plt.show()\n",
    "\n",
    "    # plotly\n",
    "    fig = px.line(df, title=title)\n",
    "    fig.update_layout(xaxis_title=xlabel, yaxis_title=ylabel, showlegend=True, template='seaborn')\n",
    "    fig.show()\n"
   ]
  },
  {
   "cell_type": "code",
   "execution_count": null,
   "metadata": {},
   "outputs": [],
   "source": [
    "plot_line(df_close, 'Date', 'Stock Price', 'Close Price')"
   ]
  },
  {
   "cell_type": "code",
   "execution_count": null,
   "metadata": {},
   "outputs": [],
   "source": [
    "df_pct_change = df_close.pct_change().iloc[1:] \n",
    "#.iloc[1:] gets rid of NaN value row because of indexing\n",
    "df_pct_change.head()"
   ]
  },
  {
   "cell_type": "code",
   "execution_count": null,
   "metadata": {},
   "outputs": [],
   "source": [
    "plot_line(df_pct_change, 'Date', 'Percent', 'Percent Change (monthly return)')"
   ]
  },
  {
   "cell_type": "code",
   "execution_count": null,
   "metadata": {},
   "outputs": [],
   "source": [
    "mean_return = df_pct_change.mean() * 12\n",
    "mean_return"
   ]
  },
  {
   "cell_type": "code",
   "execution_count": null,
   "metadata": {},
   "outputs": [],
   "source": [
    "var_risk = df_pct_change.var() * 12\n",
    "var_risk"
   ]
  },
  {
   "cell_type": "code",
   "execution_count": null,
   "metadata": {},
   "outputs": [],
   "source": [
    "cov_mat = df_pct_change.cov() * 12\n",
    "cov_mat"
   ]
  },
  {
   "cell_type": "code",
   "execution_count": null,
   "metadata": {},
   "outputs": [],
   "source": [
    "corr_mat = df_pct_change.corr()\n",
    "corr_mat"
   ]
  },
  {
   "cell_type": "code",
   "execution_count": 17,
   "metadata": {},
   "outputs": [],
   "source": [
    "def plot_matrix(df, title):\n",
    "    # matplotlib\n",
    "    fig, ax = plt.subplots()\n",
    "    im = ax.imshow(df)\n",
    "    plt.title(title)\n",
    "    plt.colorbar(im)\n",
    "    column_names = list(df.columns.values)\n",
    "    plt.xticks(np.arange(len(column_names)), column_names)\n",
    "    plt.yticks(np.arange(len(column_names)), column_names)\n",
    "    plt.show()\n",
    "\n",
    "    # plotly\n",
    "    fig = px.imshow(df, title=title)\n",
    "    fig.show()"
   ]
  },
  {
   "cell_type": "code",
   "execution_count": null,
   "metadata": {},
   "outputs": [],
   "source": [
    "plot_matrix(corr_mat, 'Correlation Heatmap')"
   ]
  },
  {
   "cell_type": "code",
   "execution_count": null,
   "metadata": {},
   "outputs": [],
   "source": [
    "weight = 1/len(tickers)\n",
    "eq_weights = [weight for i in tickers]\n",
    "eq_weights\n",
    "\n",
    "# output [0.25, 0.25, 0.25, 0.25]"
   ]
  },
  {
   "cell_type": "code",
   "execution_count": null,
   "metadata": {},
   "outputs": [],
   "source": [
    "eq_return = eq_weights @ (mean_return)\n",
    "eq_return\n",
    "\n",
    "# output 0.21426419041415923"
   ]
  },
  {
   "cell_type": "code",
   "execution_count": null,
   "metadata": {},
   "outputs": [],
   "source": [
    "eq_risk = ((eq_weights @ cov_mat) @ eq_weights)**(1/2)\n",
    "eq_risk\n",
    "\n",
    "# output 0.14462260526809836"
   ]
  },
  {
   "cell_type": "code",
   "execution_count": null,
   "metadata": {},
   "outputs": [],
   "source": [
    "eq_sharpe = (eq_return - risk_free_rate)/eq_risk\n",
    "eq_sharpe\n",
    "\n",
    "# output = 1.2741036580870198"
   ]
  },
  {
   "cell_type": "code",
   "execution_count": null,
   "metadata": {},
   "outputs": [],
   "source": [
    "efficient_frontier_data = []\n",
    "for trial in tqdm(range(trial_n)):\n",
    "    t_weight = np.random.random(len(tickers, ))\n",
    "    t_weights = t_weight/sum(t_weight)\n",
    "    t_return = t_weights @ (mean_return)\n",
    "    t_risk = ((t_weights @ cov_mat) @ t_weights)**(1/2)\n",
    "    t_sharpe = (t_return - risk_free_rate)/t_risk\n",
    "    efficient_frontier_data.append([t_weights, t_risk, t_return, t_sharpe])\n",
    "\n",
    "efficient_frontier_data = pd.DataFrame(efficient_frontier_data, columns=['Weights', 'Risk', 'Return', 'Sharpe'])\n",
    "efficient_frontier_data"
   ]
  },
  {
   "cell_type": "code",
   "execution_count": null,
   "metadata": {},
   "outputs": [],
   "source": [
    "i_max_sharpe = efficient_frontier_data['Sharpe'].idxmax()\n",
    "max_sharpe = efficient_frontier_data.iloc[i_max_sharpe, :]\n",
    "max_sharpe"
   ]
  },
  {
   "cell_type": "code",
   "execution_count": null,
   "metadata": {},
   "outputs": [],
   "source": [
    "i_min_risk = efficient_frontier_data['Risk'].idxmin()\n",
    "min_risk = efficient_frontier_data.iloc[i_min_risk, :]\n",
    "min_risk"
   ]
  },
  {
   "cell_type": "code",
   "execution_count": null,
   "metadata": {},
   "outputs": [],
   "source": [
    "i_max_return = efficient_frontier_data['Return'].idxmax()\n",
    "max_return = efficient_frontier_data.iloc[i_max_return, :]\n",
    "max_return"
   ]
  },
  {
   "cell_type": "code",
   "execution_count": 27,
   "metadata": {},
   "outputs": [],
   "source": [
    "from plotly import graph_objects as go\n",
    "\n",
    "def addMarker(fig, x, y, color):\n",
    "    fig.add_trace(\n",
    "        go.Scatter(\n",
    "            x=[x],\n",
    "            y=[y],\n",
    "            mode=\"markers\",\n",
    "            marker_symbol='star',\n",
    "            marker_size=15,\n",
    "            marker_color=color\n",
    "        )\n",
    "    )\n"
   ]
  },
  {
   "cell_type": "code",
   "execution_count": null,
   "metadata": {},
   "outputs": [],
   "source": [
    "def plot_efficient_frontier():\n",
    "    #matplotlib\n",
    "    plt.figure(figsize=(16,8))\n",
    "    plt.scatter(efficient_frontier_data['Risk'], efficient_frontier_data['Return'], c=efficient_frontier_data['Sharpe'], cmap='viridis')\n",
    "    plt.colorbar(label='Sharpe Ratio')\n",
    "    plt.xlabel('Risk')\n",
    "    plt.ylabel('Return')\n",
    "    plt.scatter(max_sharpe['Risk'], max_sharpe['Return'],c='green', s=50)\n",
    "    plt.scatter(min_risk['Risk'], min_risk['Return'],c='blue', s=50)\n",
    "    plt.scatter(max_return['Risk'], max_return['Return'],c='red', s=50)\n",
    "    plt.show()\n",
    "\n",
    "    #plotly\n",
    "    fig = px.scatter(efficient_frontier_data, x='Risk', y='Return', title='Efficient Frontier', color='Risk')\n",
    "    addMarker(fig, max_sharpe['Risk'], max_sharpe['Return'], 'Dark Green')\n",
    "    addMarker(fig, min_risk['Risk'], min_risk['Return'], 'Cyan')\n",
    "    addMarker(fig, max_return['Risk'], max_return['Return'], 'Red')\n",
    "    fig.show()\n",
    "\n",
    "plot_efficient_frontier()"
   ]
  },
  {
   "attachments": {},
   "cell_type": "markdown",
   "metadata": {},
   "source": [
    "## Process data for recent past year for same stocks and the spy"
   ]
  },
  {
   "cell_type": "code",
   "execution_count": null,
   "metadata": {},
   "outputs": [],
   "source": [
    "tickers = tickers\n",
    "\n",
    "start = '2022-1-1'\n",
    "end = '2023-1-1'\n",
    "\n",
    "df_recent_close = yf.download(tickers, start, end, interval='1d')['Close']\n",
    "df_recent_close.to_csv('./data/df_recent_close.csv')\n",
    "\n",
    "df_spy_close = yf.download('SPY', start, end, interval='1d')['Close'].to_frame('SPY')\n",
    "df_spy_close.to_csv('./data/df_spy_close.csv')"
   ]
  },
  {
   "attachments": {},
   "cell_type": "markdown",
   "metadata": {},
   "source": [
    "## Percent Change for recent past year"
   ]
  },
  {
   "cell_type": "code",
   "execution_count": null,
   "metadata": {},
   "outputs": [],
   "source": [
    "recent_pct_change = df_recent_close.pct_change().iloc[1:] #get rid of last row\n",
    "recent_mean_return = recent_pct_change.mean() * 365\n",
    "recent_risk = recent_pct_change.var() * 365 \n",
    "recent_cov_mat = recent_pct_change.cov() * 365\n",
    "\n",
    "recent_risk"
   ]
  },
  {
   "cell_type": "code",
   "execution_count": null,
   "metadata": {},
   "outputs": [],
   "source": [
    "plot_line(recent_pct_change, 'Date', 'Percent', 'Percent Change (daily return)')"
   ]
  },
  {
   "cell_type": "code",
   "execution_count": null,
   "metadata": {},
   "outputs": [],
   "source": [
    "spy_pct_change = df_spy_close.pct_change().iloc[1:] #get rid of last row\n",
    "spy_mean_return = spy_pct_change.mean() * 365\n",
    "spy_risk = spy_pct_change.var() * 365"
   ]
  },
  {
   "cell_type": "code",
   "execution_count": null,
   "metadata": {},
   "outputs": [],
   "source": [
    "plot_line(spy_pct_change, 'Date', 'Percent', 'Percent Change (daily return)')"
   ]
  },
  {
   "attachments": {},
   "cell_type": "markdown",
   "metadata": {},
   "source": [
    "## Cumulative Product Past Recent Year"
   ]
  },
  {
   "cell_type": "code",
   "execution_count": null,
   "metadata": {},
   "outputs": [],
   "source": [
    "recent_cumulative_product = recent_pct_change.add(1).cumprod().sub(1)\n",
    "recent_cumulative_product.tail()"
   ]
  },
  {
   "cell_type": "code",
   "execution_count": null,
   "metadata": {},
   "outputs": [],
   "source": [
    "plot_line(recent_cumulative_product, 'date', 'cumulative product', 'cumulative product' )"
   ]
  },
  {
   "cell_type": "code",
   "execution_count": null,
   "metadata": {},
   "outputs": [],
   "source": [
    "spy_cumulative_product = spy_pct_change.add(1).cumprod().sub(1)\n",
    "spy_cumulative_product.tail()"
   ]
  },
  {
   "cell_type": "code",
   "execution_count": null,
   "metadata": {},
   "outputs": [],
   "source": [
    "plot_line(spy_cumulative_product, 'date', 'cumulative product', 'cumulative product')"
   ]
  },
  {
   "cell_type": "code",
   "execution_count": null,
   "metadata": {},
   "outputs": [],
   "source": [
    "recent_return = max_sharpe['Weights'] @ (recent_mean_return)\n",
    "recent_return"
   ]
  },
  {
   "cell_type": "code",
   "execution_count": null,
   "metadata": {},
   "outputs": [],
   "source": [
    "spy_recent_return = spy_mean_return['SPY']\n",
    "spy_recent_return"
   ]
  },
  {
   "cell_type": "code",
   "execution_count": null,
   "metadata": {},
   "outputs": [],
   "source": [
    "recent_risk = ((max_sharpe['Weights'] @ recent_cov_mat) @ max_sharpe['Weights'])**(1/2)\n",
    "recent_risk"
   ]
  },
  {
   "cell_type": "code",
   "execution_count": null,
   "metadata": {},
   "outputs": [],
   "source": [
    "spy_risk = spy_risk['SPY']\n",
    "spy_risk"
   ]
  }
 ],
 "metadata": {
  "kernelspec": {
   "display_name": "mvo",
   "language": "python",
   "name": "python3"
  },
  "language_info": {
   "codemirror_mode": {
    "name": "ipython",
    "version": 3
   },
   "file_extension": ".py",
   "mimetype": "text/x-python",
   "name": "python",
   "nbconvert_exporter": "python",
   "pygments_lexer": "ipython3",
   "version": "3.12.4"
  },
  "orig_nbformat": 4
 },
 "nbformat": 4,
 "nbformat_minor": 2
}
