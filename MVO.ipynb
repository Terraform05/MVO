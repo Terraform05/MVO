{
 "cells": [
  {
   "cell_type": "code",
   "execution_count": 1,
   "metadata": {},
   "outputs": [
    {
     "name": "stdout",
     "output_type": "stream",
     "text": [
      "[*********************100%***********************]  4 of 4 completed\n"
     ]
    }
   ],
   "source": [
    "import numpy as np\n",
    "import pandas as pd\n",
    "import yfinance as yf\n",
    "\n",
    "risk_free_rate = 0.03\n",
    "trial_n = 3\n",
    "\n",
    "tickers = ['NKE', 'MSFT', 'DIS', 'COST']\n",
    "\n",
    "start = '2012-1-1'\n",
    "end = '2022-3-1'\n",
    "\n",
    "df_close = yf.download(tickers, start, end, interval='1mo')['Close']\n",
    "\n",
    "df_close.to_csv('./data/df_close.csv')"
   ]
  },
  {
   "cell_type": "code",
   "execution_count": 2,
   "metadata": {},
   "outputs": [
    {
     "data": {
      "text/plain": [
       "(122, 4)"
      ]
     },
     "execution_count": 2,
     "metadata": {},
     "output_type": "execute_result"
    }
   ],
   "source": [
    "df_close.shape"
   ]
  },
  {
   "cell_type": "code",
   "execution_count": 3,
   "metadata": {},
   "outputs": [
    {
     "data": {
      "text/html": [
       "<div>\n",
       "<style scoped>\n",
       "    .dataframe tbody tr th:only-of-type {\n",
       "        vertical-align: middle;\n",
       "    }\n",
       "\n",
       "    .dataframe tbody tr th {\n",
       "        vertical-align: top;\n",
       "    }\n",
       "\n",
       "    .dataframe thead th {\n",
       "        text-align: right;\n",
       "    }\n",
       "</style>\n",
       "<table border=\"1\" class=\"dataframe\">\n",
       "  <thead>\n",
       "    <tr style=\"text-align: right;\">\n",
       "      <th></th>\n",
       "      <th>COST</th>\n",
       "      <th>DIS</th>\n",
       "      <th>MSFT</th>\n",
       "      <th>NKE</th>\n",
       "    </tr>\n",
       "    <tr>\n",
       "      <th>Date</th>\n",
       "      <th></th>\n",
       "      <th></th>\n",
       "      <th></th>\n",
       "      <th></th>\n",
       "    </tr>\n",
       "  </thead>\n",
       "  <tbody>\n",
       "    <tr>\n",
       "      <th>2012-01-01 00:00:00-05:00</th>\n",
       "      <td>82.269997</td>\n",
       "      <td>38.900002</td>\n",
       "      <td>29.530001</td>\n",
       "      <td>25.997499</td>\n",
       "    </tr>\n",
       "    <tr>\n",
       "      <th>2012-02-01 00:00:00-05:00</th>\n",
       "      <td>86.059998</td>\n",
       "      <td>41.990002</td>\n",
       "      <td>31.740000</td>\n",
       "      <td>26.980000</td>\n",
       "    </tr>\n",
       "    <tr>\n",
       "      <th>2012-03-01 00:00:00-05:00</th>\n",
       "      <td>90.800003</td>\n",
       "      <td>43.779999</td>\n",
       "      <td>32.259998</td>\n",
       "      <td>27.110001</td>\n",
       "    </tr>\n",
       "    <tr>\n",
       "      <th>2012-04-01 00:00:00-04:00</th>\n",
       "      <td>88.180000</td>\n",
       "      <td>43.110001</td>\n",
       "      <td>32.020000</td>\n",
       "      <td>27.967501</td>\n",
       "    </tr>\n",
       "    <tr>\n",
       "      <th>2012-05-01 00:00:00-04:00</th>\n",
       "      <td>86.389999</td>\n",
       "      <td>45.709999</td>\n",
       "      <td>29.190001</td>\n",
       "      <td>27.045000</td>\n",
       "    </tr>\n",
       "  </tbody>\n",
       "</table>\n",
       "</div>"
      ],
      "text/plain": [
       "                                COST        DIS       MSFT        NKE\n",
       "Date                                                                 \n",
       "2012-01-01 00:00:00-05:00  82.269997  38.900002  29.530001  25.997499\n",
       "2012-02-01 00:00:00-05:00  86.059998  41.990002  31.740000  26.980000\n",
       "2012-03-01 00:00:00-05:00  90.800003  43.779999  32.259998  27.110001\n",
       "2012-04-01 00:00:00-04:00  88.180000  43.110001  32.020000  27.967501\n",
       "2012-05-01 00:00:00-04:00  86.389999  45.709999  29.190001  27.045000"
      ]
     },
     "execution_count": 3,
     "metadata": {},
     "output_type": "execute_result"
    }
   ],
   "source": [
    "df_close.head()"
   ]
  },
  {
   "cell_type": "code",
   "execution_count": 4,
   "metadata": {},
   "outputs": [
    {
     "data": {
      "text/html": [
       "<div>\n",
       "<style scoped>\n",
       "    .dataframe tbody tr th:only-of-type {\n",
       "        vertical-align: middle;\n",
       "    }\n",
       "\n",
       "    .dataframe tbody tr th {\n",
       "        vertical-align: top;\n",
       "    }\n",
       "\n",
       "    .dataframe thead th {\n",
       "        text-align: right;\n",
       "    }\n",
       "</style>\n",
       "<table border=\"1\" class=\"dataframe\">\n",
       "  <thead>\n",
       "    <tr style=\"text-align: right;\">\n",
       "      <th></th>\n",
       "      <th>COST</th>\n",
       "      <th>DIS</th>\n",
       "      <th>MSFT</th>\n",
       "      <th>NKE</th>\n",
       "    </tr>\n",
       "    <tr>\n",
       "      <th>Date</th>\n",
       "      <th></th>\n",
       "      <th></th>\n",
       "      <th></th>\n",
       "      <th></th>\n",
       "    </tr>\n",
       "  </thead>\n",
       "  <tbody>\n",
       "    <tr>\n",
       "      <th>2021-10-01 00:00:00-04:00</th>\n",
       "      <td>491.540009</td>\n",
       "      <td>169.070007</td>\n",
       "      <td>331.619995</td>\n",
       "      <td>167.289993</td>\n",
       "    </tr>\n",
       "    <tr>\n",
       "      <th>2021-11-01 00:00:00-04:00</th>\n",
       "      <td>539.380005</td>\n",
       "      <td>144.899994</td>\n",
       "      <td>330.589996</td>\n",
       "      <td>169.240005</td>\n",
       "    </tr>\n",
       "    <tr>\n",
       "      <th>2021-12-01 00:00:00-05:00</th>\n",
       "      <td>567.700012</td>\n",
       "      <td>154.889999</td>\n",
       "      <td>336.320007</td>\n",
       "      <td>166.669998</td>\n",
       "    </tr>\n",
       "    <tr>\n",
       "      <th>2022-01-01 00:00:00-05:00</th>\n",
       "      <td>505.130005</td>\n",
       "      <td>142.970001</td>\n",
       "      <td>310.980011</td>\n",
       "      <td>148.070007</td>\n",
       "    </tr>\n",
       "    <tr>\n",
       "      <th>2022-02-01 00:00:00-05:00</th>\n",
       "      <td>519.250000</td>\n",
       "      <td>148.460007</td>\n",
       "      <td>298.790009</td>\n",
       "      <td>136.550003</td>\n",
       "    </tr>\n",
       "  </tbody>\n",
       "</table>\n",
       "</div>"
      ],
      "text/plain": [
       "                                 COST         DIS        MSFT         NKE\n",
       "Date                                                                     \n",
       "2021-10-01 00:00:00-04:00  491.540009  169.070007  331.619995  167.289993\n",
       "2021-11-01 00:00:00-04:00  539.380005  144.899994  330.589996  169.240005\n",
       "2021-12-01 00:00:00-05:00  567.700012  154.889999  336.320007  166.669998\n",
       "2022-01-01 00:00:00-05:00  505.130005  142.970001  310.980011  148.070007\n",
       "2022-02-01 00:00:00-05:00  519.250000  148.460007  298.790009  136.550003"
      ]
     },
     "execution_count": 4,
     "metadata": {},
     "output_type": "execute_result"
    }
   ],
   "source": [
    "df_close.tail()"
   ]
  },
  {
   "cell_type": "code",
   "execution_count": 5,
   "metadata": {},
   "outputs": [
    {
     "data": {
      "text/plain": [
       "COST    0\n",
       "DIS     0\n",
       "MSFT    0\n",
       "NKE     0\n",
       "dtype: int64"
      ]
     },
     "execution_count": 5,
     "metadata": {},
     "output_type": "execute_result"
    }
   ],
   "source": [
    "df_close.isnull().sum()"
   ]
  },
  {
   "cell_type": "code",
   "execution_count": 6,
   "metadata": {},
   "outputs": [],
   "source": [
    "if df_close.isnull().values.any():\n",
    "    df_close.fillna(method='ffill', inplace = True) #front fills\n",
    "    df_close.fillna(method='bfill', inplace = True) #back fills"
   ]
  },
  {
   "cell_type": "code",
   "execution_count": 7,
   "metadata": {},
   "outputs": [
    {
     "data": {
      "text/html": [
       "<div>\n",
       "<style scoped>\n",
       "    .dataframe tbody tr th:only-of-type {\n",
       "        vertical-align: middle;\n",
       "    }\n",
       "\n",
       "    .dataframe tbody tr th {\n",
       "        vertical-align: top;\n",
       "    }\n",
       "\n",
       "    .dataframe thead th {\n",
       "        text-align: right;\n",
       "    }\n",
       "</style>\n",
       "<table border=\"1\" class=\"dataframe\">\n",
       "  <thead>\n",
       "    <tr style=\"text-align: right;\">\n",
       "      <th></th>\n",
       "      <th>COST</th>\n",
       "      <th>DIS</th>\n",
       "      <th>MSFT</th>\n",
       "      <th>NKE</th>\n",
       "    </tr>\n",
       "    <tr>\n",
       "      <th>Date</th>\n",
       "      <th></th>\n",
       "      <th></th>\n",
       "      <th></th>\n",
       "      <th></th>\n",
       "    </tr>\n",
       "  </thead>\n",
       "  <tbody>\n",
       "    <tr>\n",
       "      <th>2012-02-01 00:00:00-05:00</th>\n",
       "      <td>0.046068</td>\n",
       "      <td>0.079434</td>\n",
       "      <td>0.074839</td>\n",
       "      <td>0.037792</td>\n",
       "    </tr>\n",
       "    <tr>\n",
       "      <th>2012-03-01 00:00:00-05:00</th>\n",
       "      <td>0.055078</td>\n",
       "      <td>0.042629</td>\n",
       "      <td>0.016383</td>\n",
       "      <td>0.004818</td>\n",
       "    </tr>\n",
       "    <tr>\n",
       "      <th>2012-04-01 00:00:00-04:00</th>\n",
       "      <td>-0.028855</td>\n",
       "      <td>-0.015304</td>\n",
       "      <td>-0.007439</td>\n",
       "      <td>0.031630</td>\n",
       "    </tr>\n",
       "    <tr>\n",
       "      <th>2012-05-01 00:00:00-04:00</th>\n",
       "      <td>-0.020299</td>\n",
       "      <td>0.060311</td>\n",
       "      <td>-0.088382</td>\n",
       "      <td>-0.032985</td>\n",
       "    </tr>\n",
       "    <tr>\n",
       "      <th>2012-06-01 00:00:00-04:00</th>\n",
       "      <td>0.099664</td>\n",
       "      <td>0.061037</td>\n",
       "      <td>0.047962</td>\n",
       "      <td>-0.188575</td>\n",
       "    </tr>\n",
       "  </tbody>\n",
       "</table>\n",
       "</div>"
      ],
      "text/plain": [
       "                               COST       DIS      MSFT       NKE\n",
       "Date                                                             \n",
       "2012-02-01 00:00:00-05:00  0.046068  0.079434  0.074839  0.037792\n",
       "2012-03-01 00:00:00-05:00  0.055078  0.042629  0.016383  0.004818\n",
       "2012-04-01 00:00:00-04:00 -0.028855 -0.015304 -0.007439  0.031630\n",
       "2012-05-01 00:00:00-04:00 -0.020299  0.060311 -0.088382 -0.032985\n",
       "2012-06-01 00:00:00-04:00  0.099664  0.061037  0.047962 -0.188575"
      ]
     },
     "execution_count": 7,
     "metadata": {},
     "output_type": "execute_result"
    }
   ],
   "source": [
    "df_pct_change = df_close.pct_change().iloc[1:] #get rid of last row because cannot calc pct change for index +1\n",
    "df_pct_change.head()"
   ]
  },
  {
   "cell_type": "code",
   "execution_count": 8,
   "metadata": {},
   "outputs": [
    {
     "data": {
      "text/plain": [
       "COST    0.198531\n",
       "DIS     0.160302\n",
       "MSFT    0.251882\n",
       "NKE     0.190050\n",
       "dtype: float64"
      ]
     },
     "execution_count": 8,
     "metadata": {},
     "output_type": "execute_result"
    }
   ],
   "source": [
    "mean_return = df_pct_change.mean() * 12\n",
    "mean_return"
   ]
  },
  {
   "cell_type": "code",
   "execution_count": 9,
   "metadata": {},
   "outputs": [
    {
     "data": {
      "text/plain": [
       "COST    0.029159\n",
       "DIS     0.055223\n",
       "MSFT    0.041740\n",
       "NKE     0.049432\n",
       "dtype: float64"
      ]
     },
     "execution_count": 9,
     "metadata": {},
     "output_type": "execute_result"
    }
   ],
   "source": [
    "var_risk = df_pct_change.var() * 12\n",
    "var_risk"
   ]
  },
  {
   "cell_type": "code",
   "execution_count": 10,
   "metadata": {},
   "outputs": [
    {
     "data": {
      "text/html": [
       "<div>\n",
       "<style scoped>\n",
       "    .dataframe tbody tr th:only-of-type {\n",
       "        vertical-align: middle;\n",
       "    }\n",
       "\n",
       "    .dataframe tbody tr th {\n",
       "        vertical-align: top;\n",
       "    }\n",
       "\n",
       "    .dataframe thead th {\n",
       "        text-align: right;\n",
       "    }\n",
       "</style>\n",
       "<table border=\"1\" class=\"dataframe\">\n",
       "  <thead>\n",
       "    <tr style=\"text-align: right;\">\n",
       "      <th></th>\n",
       "      <th>COST</th>\n",
       "      <th>DIS</th>\n",
       "      <th>MSFT</th>\n",
       "      <th>NKE</th>\n",
       "    </tr>\n",
       "  </thead>\n",
       "  <tbody>\n",
       "    <tr>\n",
       "      <th>COST</th>\n",
       "      <td>0.029159</td>\n",
       "      <td>0.011473</td>\n",
       "      <td>0.011932</td>\n",
       "      <td>0.012717</td>\n",
       "    </tr>\n",
       "    <tr>\n",
       "      <th>DIS</th>\n",
       "      <td>0.011473</td>\n",
       "      <td>0.055223</td>\n",
       "      <td>0.017132</td>\n",
       "      <td>0.020052</td>\n",
       "    </tr>\n",
       "    <tr>\n",
       "      <th>MSFT</th>\n",
       "      <td>0.011932</td>\n",
       "      <td>0.017132</td>\n",
       "      <td>0.041740</td>\n",
       "      <td>0.013990</td>\n",
       "    </tr>\n",
       "    <tr>\n",
       "      <th>NKE</th>\n",
       "      <td>0.012717</td>\n",
       "      <td>0.020052</td>\n",
       "      <td>0.013990</td>\n",
       "      <td>0.049432</td>\n",
       "    </tr>\n",
       "  </tbody>\n",
       "</table>\n",
       "</div>"
      ],
      "text/plain": [
       "          COST       DIS      MSFT       NKE\n",
       "COST  0.029159  0.011473  0.011932  0.012717\n",
       "DIS   0.011473  0.055223  0.017132  0.020052\n",
       "MSFT  0.011932  0.017132  0.041740  0.013990\n",
       "NKE   0.012717  0.020052  0.013990  0.049432"
      ]
     },
     "execution_count": 10,
     "metadata": {},
     "output_type": "execute_result"
    }
   ],
   "source": [
    "cov_mat = df_pct_change.cov()*12\n",
    "cov_mat"
   ]
  },
  {
   "cell_type": "code",
   "execution_count": 11,
   "metadata": {},
   "outputs": [
    {
     "data": {
      "text/html": [
       "<div>\n",
       "<style scoped>\n",
       "    .dataframe tbody tr th:only-of-type {\n",
       "        vertical-align: middle;\n",
       "    }\n",
       "\n",
       "    .dataframe tbody tr th {\n",
       "        vertical-align: top;\n",
       "    }\n",
       "\n",
       "    .dataframe thead th {\n",
       "        text-align: right;\n",
       "    }\n",
       "</style>\n",
       "<table border=\"1\" class=\"dataframe\">\n",
       "  <thead>\n",
       "    <tr style=\"text-align: right;\">\n",
       "      <th></th>\n",
       "      <th>COST</th>\n",
       "      <th>DIS</th>\n",
       "      <th>MSFT</th>\n",
       "      <th>NKE</th>\n",
       "    </tr>\n",
       "  </thead>\n",
       "  <tbody>\n",
       "    <tr>\n",
       "      <th>COST</th>\n",
       "      <td>1.000000</td>\n",
       "      <td>0.285910</td>\n",
       "      <td>0.342005</td>\n",
       "      <td>0.334956</td>\n",
       "    </tr>\n",
       "    <tr>\n",
       "      <th>DIS</th>\n",
       "      <td>0.285910</td>\n",
       "      <td>1.000000</td>\n",
       "      <td>0.356845</td>\n",
       "      <td>0.383797</td>\n",
       "    </tr>\n",
       "    <tr>\n",
       "      <th>MSFT</th>\n",
       "      <td>0.342005</td>\n",
       "      <td>0.356845</td>\n",
       "      <td>1.000000</td>\n",
       "      <td>0.308000</td>\n",
       "    </tr>\n",
       "    <tr>\n",
       "      <th>NKE</th>\n",
       "      <td>0.334956</td>\n",
       "      <td>0.383797</td>\n",
       "      <td>0.308000</td>\n",
       "      <td>1.000000</td>\n",
       "    </tr>\n",
       "  </tbody>\n",
       "</table>\n",
       "</div>"
      ],
      "text/plain": [
       "          COST       DIS      MSFT       NKE\n",
       "COST  1.000000  0.285910  0.342005  0.334956\n",
       "DIS   0.285910  1.000000  0.356845  0.383797\n",
       "MSFT  0.342005  0.356845  1.000000  0.308000\n",
       "NKE   0.334956  0.383797  0.308000  1.000000"
      ]
     },
     "execution_count": 11,
     "metadata": {},
     "output_type": "execute_result"
    }
   ],
   "source": [
    "corr_mat = df_pct_change.corr()\n",
    "corr_mat"
   ]
  },
  {
   "cell_type": "code",
   "execution_count": 12,
   "metadata": {},
   "outputs": [
    {
     "data": {
      "text/plain": [
       "[0.25, 0.25, 0.25, 0.25]"
      ]
     },
     "execution_count": 12,
     "metadata": {},
     "output_type": "execute_result"
    }
   ],
   "source": [
    "weight = 1/len(tickers)\n",
    "eq_weights = [weight for i in tickers]\n",
    "eq_weights"
   ]
  },
  {
   "cell_type": "code",
   "execution_count": 13,
   "metadata": {},
   "outputs": [
    {
     "data": {
      "text/plain": [
       "0.20019129578488354"
      ]
     },
     "execution_count": 13,
     "metadata": {},
     "output_type": "execute_result"
    }
   ],
   "source": [
    "eq_return = eq_weights @ (mean_return)\n",
    "eq_return"
   ]
  },
  {
   "cell_type": "code",
   "execution_count": 14,
   "metadata": {},
   "outputs": [
    {
     "data": {
      "text/plain": [
       "0.14793324244566944"
      ]
     },
     "execution_count": 14,
     "metadata": {},
     "output_type": "execute_result"
    }
   ],
   "source": [
    "eq_risk = ((eq_weights @ cov_mat) @ eq_weights)**(1/2)\n",
    "eq_risk"
   ]
  },
  {
   "cell_type": "code",
   "execution_count": 15,
   "metadata": {},
   "outputs": [
    {
     "data": {
      "text/plain": [
       "1.150460119519037"
      ]
     },
     "execution_count": 15,
     "metadata": {},
     "output_type": "execute_result"
    }
   ],
   "source": [
    "eq_sharpe = (eq_return - risk_free_rate)/eq_risk\n",
    "eq_sharpe"
   ]
  },
  {
   "cell_type": "code",
   "execution_count": 16,
   "metadata": {},
   "outputs": [
    {
     "data": {
      "text/html": [
       "<div>\n",
       "<style scoped>\n",
       "    .dataframe tbody tr th:only-of-type {\n",
       "        vertical-align: middle;\n",
       "    }\n",
       "\n",
       "    .dataframe tbody tr th {\n",
       "        vertical-align: top;\n",
       "    }\n",
       "\n",
       "    .dataframe thead th {\n",
       "        text-align: right;\n",
       "    }\n",
       "</style>\n",
       "<table border=\"1\" class=\"dataframe\">\n",
       "  <thead>\n",
       "    <tr style=\"text-align: right;\">\n",
       "      <th></th>\n",
       "      <th>Weights</th>\n",
       "      <th>Risk</th>\n",
       "      <th>Return</th>\n",
       "      <th>Sharpe</th>\n",
       "    </tr>\n",
       "  </thead>\n",
       "  <tbody>\n",
       "    <tr>\n",
       "      <th>0</th>\n",
       "      <td>[0.27714061477257074, 0.3010565731222685, 0.15...</td>\n",
       "      <td>0.150094</td>\n",
       "      <td>0.193207</td>\n",
       "      <td>1.087364</td>\n",
       "    </tr>\n",
       "    <tr>\n",
       "      <th>1</th>\n",
       "      <td>[0.03817834811651114, 0.21687362663057502, 0.2...</td>\n",
       "      <td>0.164076</td>\n",
       "      <td>0.202441</td>\n",
       "      <td>1.050982</td>\n",
       "    </tr>\n",
       "    <tr>\n",
       "      <th>2</th>\n",
       "      <td>[0.3971571050824094, 0.36762024472695254, 0.10...</td>\n",
       "      <td>0.150502</td>\n",
       "      <td>0.188934</td>\n",
       "      <td>1.056028</td>\n",
       "    </tr>\n",
       "  </tbody>\n",
       "</table>\n",
       "</div>"
      ],
      "text/plain": [
       "                                             Weights      Risk    Return  \\\n",
       "0  [0.27714061477257074, 0.3010565731222685, 0.15...  0.150094  0.193207   \n",
       "1  [0.03817834811651114, 0.21687362663057502, 0.2...  0.164076  0.202441   \n",
       "2  [0.3971571050824094, 0.36762024472695254, 0.10...  0.150502  0.188934   \n",
       "\n",
       "     Sharpe  \n",
       "0  1.087364  \n",
       "1  1.050982  \n",
       "2  1.056028  "
      ]
     },
     "execution_count": 16,
     "metadata": {},
     "output_type": "execute_result"
    }
   ],
   "source": [
    "efficient_frontier_data = []\n",
    "for trial in range(trial_n):\n",
    "    t_weight = np.random.random(len(tickers, ))\n",
    "    t_weights = t_weight/sum(t_weight)\n",
    "    t_return = t_weights @ (mean_return)\n",
    "    t_risk = ((t_weights @ cov_mat) @ t_weights)**(1/2)\n",
    "    t_sharpe = (t_return - risk_free_rate)/t_risk\n",
    "    efficient_frontier_data.append([t_weights, t_risk, t_return, t_sharpe])\n",
    "\n",
    "efficient_frontier_data = pd.DataFrame(efficient_frontier_data, columns=['Weights', 'Risk', 'Return', 'Sharpe'])\n",
    "efficient_frontier_data.head()"
   ]
  },
  {
   "cell_type": "code",
   "execution_count": 17,
   "metadata": {},
   "outputs": [
    {
     "data": {
      "text/plain": [
       "Weights    [0.27714061477257074, 0.3010565731222685, 0.15...\n",
       "Risk                                                0.150094\n",
       "Return                                              0.193207\n",
       "Sharpe                                              1.087364\n",
       "Name: 0, dtype: object"
      ]
     },
     "execution_count": 17,
     "metadata": {},
     "output_type": "execute_result"
    }
   ],
   "source": [
    "i = efficient_frontier_data['Sharpe'].idxmax()\n",
    "max_sharpe = efficient_frontier_data.iloc[i, :]\n",
    "max_sharpe"
   ]
  },
  {
   "cell_type": "code",
   "execution_count": 18,
   "metadata": {},
   "outputs": [
    {
     "data": {
      "text/plain": [
       "Weights    [0.27714061477257074, 0.3010565731222685, 0.15...\n",
       "Risk                                                0.150094\n",
       "Return                                              0.193207\n",
       "Sharpe                                              1.087364\n",
       "Name: 0, dtype: object"
      ]
     },
     "execution_count": 18,
     "metadata": {},
     "output_type": "execute_result"
    }
   ],
   "source": [
    "i = efficient_frontier_data['Risk'].idxmin()\n",
    "min_risk = efficient_frontier_data.iloc[i, :]\n",
    "min_risk"
   ]
  },
  {
   "cell_type": "code",
   "execution_count": 19,
   "metadata": {},
   "outputs": [
    {
     "data": {
      "text/plain": [
       "Weights    [0.03817834811651114, 0.21687362663057502, 0.2...\n",
       "Risk                                                0.164076\n",
       "Return                                              0.202441\n",
       "Sharpe                                              1.050982\n",
       "Name: 1, dtype: object"
      ]
     },
     "execution_count": 19,
     "metadata": {},
     "output_type": "execute_result"
    }
   ],
   "source": [
    "i = efficient_frontier_data['Return'].idxmax()\n",
    "max_return = efficient_frontier_data.iloc[i, :]\n",
    "max_return"
   ]
  }
 ],
 "metadata": {
  "kernelspec": {
   "display_name": "Python 3",
   "language": "python",
   "name": "python3"
  },
  "language_info": {
   "codemirror_mode": {
    "name": "ipython",
    "version": 3
   },
   "file_extension": ".py",
   "mimetype": "text/x-python",
   "name": "python",
   "nbconvert_exporter": "python",
   "pygments_lexer": "ipython3",
   "version": "3.10.9"
  },
  "orig_nbformat": 4,
  "vscode": {
   "interpreter": {
    "hash": "822b2de4bfe9cac38b44aa91bbae90cafa35cd8f4bbd8210ef9d2a5c9a49e948"
   }
  }
 },
 "nbformat": 4,
 "nbformat_minor": 2
}
