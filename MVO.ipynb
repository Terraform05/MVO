{
 "cells": [
  {
   "cell_type": "code",
   "execution_count": 61,
   "metadata": {},
   "outputs": [
    {
     "data": {
      "text/html": [
       "        <script type=\"text/javascript\">\n",
       "        window.PlotlyConfig = {MathJaxConfig: 'local'};\n",
       "        if (window.MathJax && window.MathJax.Hub && window.MathJax.Hub.Config) {window.MathJax.Hub.Config({SVG: {font: \"STIX-Web\"}});}\n",
       "        if (typeof require !== 'undefined') {\n",
       "        require.undef(\"plotly\");\n",
       "        requirejs.config({\n",
       "            paths: {\n",
       "                'plotly': ['https://cdn.plot.ly/plotly-2.18.0.min']\n",
       "            }\n",
       "        });\n",
       "        require(['plotly'], function(Plotly) {\n",
       "            window._Plotly = Plotly;\n",
       "        });\n",
       "        }\n",
       "        </script>\n",
       "        "
      ]
     },
     "metadata": {},
     "output_type": "display_data"
    },
    {
     "name": "stdout",
     "output_type": "stream",
     "text": [
      "[*********************100%***********************]  4 of 4 completed\n"
     ]
    }
   ],
   "source": [
    "import numpy as np\n",
    "import pandas as pd\n",
    "\n",
    "import yfinance as yf\n",
    "\n",
    "import matplotlib.pyplot as plt\n",
    "%matplotlib inline\n",
    "\n",
    "import plotly.express as px\n",
    "from plotly.offline import init_notebook_mode\n",
    "init_notebook_mode(connected=True)\n",
    "\n",
    "risk_free_rate = 0.03\n",
    "trial_n = 3\n",
    "\n",
    "tickers = ['NKE', 'MSFT', 'DIS', 'COST']\n",
    "\n",
    "start = '2012-1-1'\n",
    "end = '2022-3-1'\n",
    "\n",
    "df_close = yf.download(tickers, start, end, interval='1mo')['Close']\n",
    "\n",
    "df_close.to_csv('./data/df_close.csv')"
   ]
  },
  {
   "cell_type": "code",
   "execution_count": 62,
   "metadata": {},
   "outputs": [
    {
     "data": {
      "text/plain": [
       "(122, 4)"
      ]
     },
     "execution_count": 62,
     "metadata": {},
     "output_type": "execute_result"
    }
   ],
   "source": [
    "df_close.shape"
   ]
  },
  {
   "cell_type": "code",
   "execution_count": 63,
   "metadata": {},
   "outputs": [
    {
     "data": {
      "text/html": [
       "<div>\n",
       "<style scoped>\n",
       "    .dataframe tbody tr th:only-of-type {\n",
       "        vertical-align: middle;\n",
       "    }\n",
       "\n",
       "    .dataframe tbody tr th {\n",
       "        vertical-align: top;\n",
       "    }\n",
       "\n",
       "    .dataframe thead th {\n",
       "        text-align: right;\n",
       "    }\n",
       "</style>\n",
       "<table border=\"1\" class=\"dataframe\">\n",
       "  <thead>\n",
       "    <tr style=\"text-align: right;\">\n",
       "      <th></th>\n",
       "      <th>COST</th>\n",
       "      <th>DIS</th>\n",
       "      <th>MSFT</th>\n",
       "      <th>NKE</th>\n",
       "    </tr>\n",
       "    <tr>\n",
       "      <th>Date</th>\n",
       "      <th></th>\n",
       "      <th></th>\n",
       "      <th></th>\n",
       "      <th></th>\n",
       "    </tr>\n",
       "  </thead>\n",
       "  <tbody>\n",
       "    <tr>\n",
       "      <th>2012-01-01 00:00:00-05:00</th>\n",
       "      <td>82.269997</td>\n",
       "      <td>38.900002</td>\n",
       "      <td>29.530001</td>\n",
       "      <td>25.997499</td>\n",
       "    </tr>\n",
       "    <tr>\n",
       "      <th>2012-02-01 00:00:00-05:00</th>\n",
       "      <td>86.059998</td>\n",
       "      <td>41.990002</td>\n",
       "      <td>31.740000</td>\n",
       "      <td>26.980000</td>\n",
       "    </tr>\n",
       "    <tr>\n",
       "      <th>2012-03-01 00:00:00-05:00</th>\n",
       "      <td>90.800003</td>\n",
       "      <td>43.779999</td>\n",
       "      <td>32.259998</td>\n",
       "      <td>27.110001</td>\n",
       "    </tr>\n",
       "    <tr>\n",
       "      <th>2012-04-01 00:00:00-04:00</th>\n",
       "      <td>88.180000</td>\n",
       "      <td>43.110001</td>\n",
       "      <td>32.020000</td>\n",
       "      <td>27.967501</td>\n",
       "    </tr>\n",
       "    <tr>\n",
       "      <th>2012-05-01 00:00:00-04:00</th>\n",
       "      <td>86.389999</td>\n",
       "      <td>45.709999</td>\n",
       "      <td>29.190001</td>\n",
       "      <td>27.045000</td>\n",
       "    </tr>\n",
       "  </tbody>\n",
       "</table>\n",
       "</div>"
      ],
      "text/plain": [
       "                                COST        DIS       MSFT        NKE\n",
       "Date                                                                 \n",
       "2012-01-01 00:00:00-05:00  82.269997  38.900002  29.530001  25.997499\n",
       "2012-02-01 00:00:00-05:00  86.059998  41.990002  31.740000  26.980000\n",
       "2012-03-01 00:00:00-05:00  90.800003  43.779999  32.259998  27.110001\n",
       "2012-04-01 00:00:00-04:00  88.180000  43.110001  32.020000  27.967501\n",
       "2012-05-01 00:00:00-04:00  86.389999  45.709999  29.190001  27.045000"
      ]
     },
     "execution_count": 63,
     "metadata": {},
     "output_type": "execute_result"
    }
   ],
   "source": [
    "df_close.head()"
   ]
  },
  {
   "cell_type": "code",
   "execution_count": 64,
   "metadata": {},
   "outputs": [
    {
     "data": {
      "text/html": [
       "<div>\n",
       "<style scoped>\n",
       "    .dataframe tbody tr th:only-of-type {\n",
       "        vertical-align: middle;\n",
       "    }\n",
       "\n",
       "    .dataframe tbody tr th {\n",
       "        vertical-align: top;\n",
       "    }\n",
       "\n",
       "    .dataframe thead th {\n",
       "        text-align: right;\n",
       "    }\n",
       "</style>\n",
       "<table border=\"1\" class=\"dataframe\">\n",
       "  <thead>\n",
       "    <tr style=\"text-align: right;\">\n",
       "      <th></th>\n",
       "      <th>COST</th>\n",
       "      <th>DIS</th>\n",
       "      <th>MSFT</th>\n",
       "      <th>NKE</th>\n",
       "    </tr>\n",
       "    <tr>\n",
       "      <th>Date</th>\n",
       "      <th></th>\n",
       "      <th></th>\n",
       "      <th></th>\n",
       "      <th></th>\n",
       "    </tr>\n",
       "  </thead>\n",
       "  <tbody>\n",
       "    <tr>\n",
       "      <th>2021-10-01 00:00:00-04:00</th>\n",
       "      <td>491.540009</td>\n",
       "      <td>169.070007</td>\n",
       "      <td>331.619995</td>\n",
       "      <td>167.289993</td>\n",
       "    </tr>\n",
       "    <tr>\n",
       "      <th>2021-11-01 00:00:00-04:00</th>\n",
       "      <td>539.380005</td>\n",
       "      <td>144.899994</td>\n",
       "      <td>330.589996</td>\n",
       "      <td>169.240005</td>\n",
       "    </tr>\n",
       "    <tr>\n",
       "      <th>2021-12-01 00:00:00-05:00</th>\n",
       "      <td>567.700012</td>\n",
       "      <td>154.889999</td>\n",
       "      <td>336.320007</td>\n",
       "      <td>166.669998</td>\n",
       "    </tr>\n",
       "    <tr>\n",
       "      <th>2022-01-01 00:00:00-05:00</th>\n",
       "      <td>505.130005</td>\n",
       "      <td>142.970001</td>\n",
       "      <td>310.980011</td>\n",
       "      <td>148.070007</td>\n",
       "    </tr>\n",
       "    <tr>\n",
       "      <th>2022-02-01 00:00:00-05:00</th>\n",
       "      <td>519.250000</td>\n",
       "      <td>148.460007</td>\n",
       "      <td>298.790009</td>\n",
       "      <td>136.550003</td>\n",
       "    </tr>\n",
       "  </tbody>\n",
       "</table>\n",
       "</div>"
      ],
      "text/plain": [
       "                                 COST         DIS        MSFT         NKE\n",
       "Date                                                                     \n",
       "2021-10-01 00:00:00-04:00  491.540009  169.070007  331.619995  167.289993\n",
       "2021-11-01 00:00:00-04:00  539.380005  144.899994  330.589996  169.240005\n",
       "2021-12-01 00:00:00-05:00  567.700012  154.889999  336.320007  166.669998\n",
       "2022-01-01 00:00:00-05:00  505.130005  142.970001  310.980011  148.070007\n",
       "2022-02-01 00:00:00-05:00  519.250000  148.460007  298.790009  136.550003"
      ]
     },
     "execution_count": 64,
     "metadata": {},
     "output_type": "execute_result"
    }
   ],
   "source": [
    "df_close.tail()"
   ]
  },
  {
   "cell_type": "code",
   "execution_count": 65,
   "metadata": {},
   "outputs": [
    {
     "data": {
      "text/plain": [
       "COST    0\n",
       "DIS     0\n",
       "MSFT    0\n",
       "NKE     0\n",
       "dtype: int64"
      ]
     },
     "execution_count": 65,
     "metadata": {},
     "output_type": "execute_result"
    }
   ],
   "source": [
    "df_close.isnull().sum()"
   ]
  },
  {
   "cell_type": "code",
   "execution_count": 66,
   "metadata": {},
   "outputs": [],
   "source": [
    "if df_close.isnull().values.any():\n",
    "    df_close.fillna(method='ffill', inplace = True) #front fills\n",
    "    df_close.fillna(method='bfill', inplace = True) #back fills"
   ]
  },
  {
   "cell_type": "code",
   "execution_count": 67,
   "metadata": {},
   "outputs": [
    {
     "data": {
      "image/png": "[encoded data removed]",
      "text/plain": [
       "<Figure size 1600x800 with 1 Axes>"
      ]
     },
     "metadata": {},
     "output_type": "display_data"
    }
   ],
   "source": [
    "#matplotlib\n",
    "ax = df_close.plot(title = 'Close Price', figsize=(16, 8), ax = None)\n",
    "ax.set_xlabel('Stock Price')\n",
    "ax.set_ylabel('Date')\n",
    "ax.axhline(y=0, color = 'black')\n",
    "ax.legend(loc='upper left')\n",
    "plt.show()\n",
    "\n",
    "#plotly\n",
    "fig = px.line(df_close, title = 'Close Price')\n",
    "fig.update_layout(xaxis_title='Date', yaxis_title='Stock Price',showlegend=True, template='seaborn')\n",
    "fig.show()"
   ]
  },
  {
   "cell_type": "code",
   "execution_count": 69,
   "metadata": {},
   "outputs": [
    {
     "data": {
      "text/html": [
       "<div>\n",
       "<style scoped>\n",
       "    .dataframe tbody tr th:only-of-type {\n",
       "        vertical-align: middle;\n",
       "    }\n",
       "\n",
       "    .dataframe tbody tr th {\n",
       "        vertical-align: top;\n",
       "    }\n",
       "\n",
       "    .dataframe thead th {\n",
       "        text-align: right;\n",
       "    }\n",
       "</style>\n",
       "<table border=\"1\" class=\"dataframe\">\n",
       "  <thead>\n",
       "    <tr style=\"text-align: right;\">\n",
       "      <th></th>\n",
       "      <th>COST</th>\n",
       "      <th>DIS</th>\n",
       "      <th>MSFT</th>\n",
       "      <th>NKE</th>\n",
       "    </tr>\n",
       "    <tr>\n",
       "      <th>Date</th>\n",
       "      <th></th>\n",
       "      <th></th>\n",
       "      <th></th>\n",
       "      <th></th>\n",
       "    </tr>\n",
       "  </thead>\n",
       "  <tbody>\n",
       "    <tr>\n",
       "      <th>2012-02-01 00:00:00-05:00</th>\n",
       "      <td>0.046068</td>\n",
       "      <td>0.079434</td>\n",
       "      <td>0.074839</td>\n",
       "      <td>0.037792</td>\n",
       "    </tr>\n",
       "    <tr>\n",
       "      <th>2012-03-01 00:00:00-05:00</th>\n",
       "      <td>0.055078</td>\n",
       "      <td>0.042629</td>\n",
       "      <td>0.016383</td>\n",
       "      <td>0.004818</td>\n",
       "    </tr>\n",
       "    <tr>\n",
       "      <th>2012-04-01 00:00:00-04:00</th>\n",
       "      <td>-0.028855</td>\n",
       "      <td>-0.015304</td>\n",
       "      <td>-0.007439</td>\n",
       "      <td>0.031630</td>\n",
       "    </tr>\n",
       "    <tr>\n",
       "      <th>2012-05-01 00:00:00-04:00</th>\n",
       "      <td>-0.020299</td>\n",
       "      <td>0.060311</td>\n",
       "      <td>-0.088382</td>\n",
       "      <td>-0.032985</td>\n",
       "    </tr>\n",
       "    <tr>\n",
       "      <th>2012-06-01 00:00:00-04:00</th>\n",
       "      <td>0.099664</td>\n",
       "      <td>0.061037</td>\n",
       "      <td>0.047962</td>\n",
       "      <td>-0.188575</td>\n",
       "    </tr>\n",
       "  </tbody>\n",
       "</table>\n",
       "</div>"
      ],
      "text/plain": [
       "                               COST       DIS      MSFT       NKE\n",
       "Date                                                             \n",
       "2012-02-01 00:00:00-05:00  0.046068  0.079434  0.074839  0.037792\n",
       "2012-03-01 00:00:00-05:00  0.055078  0.042629  0.016383  0.004818\n",
       "2012-04-01 00:00:00-04:00 -0.028855 -0.015304 -0.007439  0.031630\n",
       "2012-05-01 00:00:00-04:00 -0.020299  0.060311 -0.088382 -0.032985\n",
       "2012-06-01 00:00:00-04:00  0.099664  0.061037  0.047962 -0.188575"
      ]
     },
     "execution_count": 69,
     "metadata": {},
     "output_type": "execute_result"
    }
   ],
   "source": [
    "df_pct_change = df_close.pct_change().iloc[1:] #get rid of last row\n",
    "df_pct_change.head()"
   ]
  },
  {
   "cell_type": "code",
   "execution_count": 83,
   "metadata": {},
   "outputs": [
    {
     "data": {
      "image/png": "[encoded data removed]",
      "text/plain": [
       "<Figure size 1600x800 with 1 Axes>"
      ]
     },
     "metadata": {},
     "output_type": "display_data"
    },
    {
     "data": {
      "application/vnd.plotly.v1+json": {
       "config": {
        "plotlyServerURL": "https://plot.ly"
       },
       "data": [
        {
         "hovertemplate": "variable=COST<br>Date=%{x}<br>value=%{y}<extra></extra>",
         "legendgroup": "COST",
         "line": {
          "color": "#636efa",
          "dash": "solid"
         },
         "marker": {
          "symbol": "circle"
         },
         "mode": "lines",
         "name": "COST",
         "orientation": "v",
         "showlegend": true,
         "type": "scatter",
         "x": [
          "2012-02-01T00:00:00-05:00",
          "2012-03-01T00:00:00-05:00",
          "2012-04-01T00:00:00-04:00",
          "2012-05-01T00:00:00-04:00",
          "2012-06-01T00:00:00-04:00",
          "2012-07-01T00:00:00-04:00",
          "2012-08-01T00:00:00-04:00",
          "2012-09-01T00:00:00-04:00",
          "2012-10-01T00:00:00-04:00",
          "2012-11-01T00:00:00-04:00",
          "2012-12-01T00:00:00-05:00",
          "2013-01-01T00:00:00-05:00",
          "2013-02-01T00:00:00-05:00",
          "2013-03-01T00:00:00-05:00",
          "2013-04-01T00:00:00-04:00",
          "2013-05-01T00:00:00-04:00",
          "2013-06-01T00:00:00-04:00",
          "2013-07-01T00:00:00-04:00",
          "2013-08-01T00:00:00-04:00",
          "2013-09-01T00:00:00-04:00",
          "2013-10-01T00:00:00-04:00",
          "2013-11-01T00:00:00-04:00",
          "2013-12-01T00:00:00-05:00",
          "2014-01-01T00:00:00-05:00",
          "2014-02-01T00:00:00-05:00",
          "2014-03-01T00:00:00-05:00",
          "2014-04-01T00:00:00-04:00",
          "2014-05-01T00:00:00-04:00",
          "2014-06-01T00:00:00-04:00",
          "2014-07-01T00:00:00-04:00",
          "2014-08-01T00:00:00-04:00",
          "2014-09-01T00:00:00-04:00",
          "2014-10-01T00:00:00-04:00",
          "2014-11-01T00:00:00-04:00",
          "2014-12-01T00:00:00-05:00",
          "2015-01-01T00:00:00-05:00",
          "2015-02-01T00:00:00-05:00",
          "2015-03-01T00:00:00-05:00",
          "2015-04-01T00:00:00-04:00",
          "2015-05-01T00:00:00-04:00",
          "2015-06-01T00:00:00-04:00",
          "2015-07-01T00:00:00-04:00",
          "2015-08-01T00:00:00-04:00",
          "2015-09-01T00:00:00-04:00",
          "2015-10-01T00:00:00-04:00",
          "2015-11-01T00:00:00-04:00",
          "2015-12-01T00:00:00-05:00",
          "2016-01-01T00:00:00-05:00",
          "2016-02-01T00:00:00-05:00",
          "2016-03-01T00:00:00-05:00",
          "2016-04-01T00:00:00-04:00",
          "2016-05-01T00:00:00-04:00",
          "2016-06-01T00:00:00-04:00",
          "2016-07-01T00:00:00-04:00",
          "2016-08-01T00:00:00-04:00",
          "2016-09-01T00:00:00-04:00",
          "2016-10-01T00:00:00-04:00",
          "2016-11-01T00:00:00-04:00",
          "2016-12-01T00:00:00-05:00",
          "2017-01-01T00:00:00-05:00",
          "2017-02-01T00:00:00-05:00",
          "2017-03-01T00:00:00-05:00",
          "2017-04-01T00:00:00-04:00",
          "2017-05-01T00:00:00-04:00",
          "2017-06-01T00:00:00-04:00",
          "2017-07-01T00:00:00-04:00",
          "2017-08-01T00:00:00-04:00",
          "2017-09-01T00:00:00-04:00",
          "2017-10-01T00:00:00-04:00",
          "2017-11-01T00:00:00-04:00",
          "2017-12-01T00:00:00-05:00",
          "2018-01-01T00:00:00-05:00",
          "2018-02-01T00:00:00-05:00",
          "2018-03-01T00:00:00-05:00",
          "2018-04-01T00:00:00-04:00",
          "2018-05-01T00:00:00-04:00",
          "2018-06-01T00:00:00-04:00",
          "2018-07-01T00:00:00-04:00",
          "2018-08-01T00:00:00-04:00",
          "2018-09-01T00:00:00-04:00",
          "2018-10-01T00:00:00-04:00",
          "2018-11-01T00:00:00-04:00",
          "2018-12-01T00:00:00-05:00",
          "2019-01-01T00:00:00-05:00",
          "2019-02-01T00:00:00-05:00",
          "2019-03-01T00:00:00-05:00",
          "2019-04-01T00:00:00-04:00",
          "2019-05-01T00:00:00-04:00",
          "2019-06-01T00:00:00-04:00",
          "2019-07-01T00:00:00-04:00",
          "2019-08-01T00:00:00-04:00",
          "2019-09-01T00:00:00-04:00",
          "2019-10-01T00:00:00-04:00",
          "2019-11-01T00:00:00-04:00",
          "2019-12-01T00:00:00-05:00",
          "2020-01-01T00:00:00-05:00",
          "2020-02-01T00:00:00-05:00",
          "2020-03-01T00:00:00-05:00",
          "2020-04-01T00:00:00-04:00",
          "2020-05-01T00:00:00-04:00",
          "2020-06-01T00:00:00-04:00",
          "2020-07-01T00:00:00-04:00",
          "2020-08-01T00:00:00-04:00",
          "2020-09-01T00:00:00-04:00",
          "2020-10-01T00:00:00-04:00",
          "2020-11-01T00:00:00-04:00",
          "2020-12-01T00:00:00-05:00",
          "2021-01-01T00:00:00-05:00",
          "2021-02-01T00:00:00-05:00",
          "2021-03-01T00:00:00-05:00",
          "2021-04-01T00:00:00-04:00",
          "2021-05-01T00:00:00-04:00",
          "2021-06-01T00:00:00-04:00",
          "2021-07-01T00:00:00-04:00",
          "2021-08-01T00:00:00-04:00",
          "2021-09-01T00:00:00-04:00",
          "2021-10-01T00:00:00-04:00",
          "2021-11-01T00:00:00-04:00",
          "2021-12-01T00:00:00-05:00",
          "2022-01-01T00:00:00-05:00",
          "2022-02-01T00:00:00-05:00"
         ],
         "xaxis": "x",
         "y": [
          0.04606783846084861,
          0.055077918052889085,
          -0.028854654829566173,
          -0.020299397928469687,
          0.09966432076839715,
          0.012421055843955697,
          0.017571245955956938,
          0.023398394311451298,
          -0.017272397101439574,
          0.05577565627093528,
          -0.049942214236515015,
          0.03656429513028581,
          -0.010259873558100985,
          0.047586135366352256,
          0.021864100287243726,
          0.011067019688875801,
          0.008574317841433254,
          0.06195169117325894,
          -0.04726618556387541,
          0.029498483430260736,
          0.024572387566623943,
          0.06296610428115068,
          -0.05110423061878022,
          -0.05595695026515379,
          0.039515863450406474,
          -0.0438356388082729,
          0.03581661881330267,
          0.0029391107969716224,
          -0.007412454799518575,
          0.020666873721201906,
          0.030117414394708497,
          0.03501815163238664,
          0.06423552060298765,
          0.06560696048846437,
          -0.0026033994504602864,
          0.008747834166942248,
          0.02776418678362047,
          0.030892712838345382,
          -0.055775557414139865,
          -0.003215705725645779,
          -0.05280874516227141,
          0.07581819693667313,
          -0.03613213964028539,
          0.03227421759348692,
          0.09372613340594893,
          0.02087024509020563,
          0.0004956128854056718,
          -0.06427247605456654,
          -0.007212787011046218,
          0.05032328943003139,
          -0.05996951921839522,
          0.004320525002039499,
          0.05558908903790871,
          0.06482430189628152,
          -0.03067817752280555,
          -0.05910298011904658,
          -0.030424231570216564,
          0.01514847884717141,
          0.06661781333248751,
          0.02398348837207087,
          0.08069530938579805,
          -0.05356129713663882,
          0.05862008281912612,
          0.016392453432200194,
          -0.11361747399079547,
          -0.008878873469493676,
          -0.011166418995715355,
          0.04816886262836095,
          -0.01953856951888422,
          0.1449589680860366,
          0.009163381817062666,
          0.04701268122476954,
          -0.020372562837679076,
          -0.012938718175352526,
          0.046330262302505476,
          0.005477793725879421,
          0.05417670468509628,
          0.04655953289909043,
          0.06593204575138922,
          0.0075065412574399915,
          -0.026609331871898956,
          0.011590752919078406,
          -0.11920612336105574,
          0.053605605071152196,
          0.019149235972834244,
          0.10697628832790551,
          0.014000162708323494,
          -0.024233278938719627,
          0.10301363947719633,
          0.04302578784914024,
          0.06940465313617028,
          -0.022560809450882346,
          0.03123807038141302,
          0.009087584868062937,
          -0.019645722887237094,
          0.03946643663579441,
          -0.07979829550250273,
          0.014192181925310132,
          0.0626731484276164,
          0.018052809309251128,
          -0.017051932910200795,
          0.0736123741078154,
          0.06798146089699153,
          0.021112570501564898,
          0.007380267935739537,
          0.09549240636081846,
          -0.03826222185143402,
          -0.06462658894422613,
          -0.060806381752803396,
          0.06489429301005467,
          0.05563431894106219,
          0.016608865426656738,
          0.04599895555931499,
          0.08605652851473344,
          0.05996925658677088,
          -0.013479954033018382,
          0.09389118030119059,
          0.09732675978809668,
          0.05250474075391742,
          -0.11021667426246318,
          0.027953190229638603
         ],
         "yaxis": "y"
        },
        {
         "hovertemplate": "variable=DIS<br>Date=%{x}<br>value=%{y}<extra></extra>",
         "legendgroup": "DIS",
         "line": {
          "color": "#EF553B",
          "dash": "solid"
         },
         "marker": {
          "symbol": "circle"
         },
         "mode": "lines",
         "name": "DIS",
         "orientation": "v",
         "showlegend": true,
         "type": "scatter",
         "x": [
          "2012-02-01T00:00:00-05:00",
          "2012-03-01T00:00:00-05:00",
          "2012-04-01T00:00:00-04:00",
          "2012-05-01T00:00:00-04:00",
          "2012-06-01T00:00:00-04:00",
          "2012-07-01T00:00:00-04:00",
          "2012-08-01T00:00:00-04:00",
          "2012-09-01T00:00:00-04:00",
          "2012-10-01T00:00:00-04:00",
          "2012-11-01T00:00:00-04:00",
          "2012-12-01T00:00:00-05:00",
          "2013-01-01T00:00:00-05:00",
          "2013-02-01T00:00:00-05:00",
          "2013-03-01T00:00:00-05:00",
          "2013-04-01T00:00:00-04:00",
          "2013-05-01T00:00:00-04:00",
          "2013-06-01T00:00:00-04:00",
          "2013-07-01T00:00:00-04:00",
          "2013-08-01T00:00:00-04:00",
          "2013-09-01T00:00:00-04:00",
          "2013-10-01T00:00:00-04:00",
          "2013-11-01T00:00:00-04:00",
          "2013-12-01T00:00:00-05:00",
          "2014-01-01T00:00:00-05:00",
          "2014-02-01T00:00:00-05:00",
          "2014-03-01T00:00:00-05:00",
          "2014-04-01T00:00:00-04:00",
          "2014-05-01T00:00:00-04:00",
          "2014-06-01T00:00:00-04:00",
          "2014-07-01T00:00:00-04:00",
          "2014-08-01T00:00:00-04:00",
          "2014-09-01T00:00:00-04:00",
          "2014-10-01T00:00:00-04:00",
          "2014-11-01T00:00:00-04:00",
          "2014-12-01T00:00:00-05:00",
          "2015-01-01T00:00:00-05:00",
          "2015-02-01T00:00:00-05:00",
          "2015-03-01T00:00:00-05:00",
          "2015-04-01T00:00:00-04:00",
          "2015-05-01T00:00:00-04:00",
          "2015-06-01T00:00:00-04:00",
          "2015-07-01T00:00:00-04:00",
          "2015-08-01T00:00:00-04:00",
          "2015-09-01T00:00:00-04:00",
          "2015-10-01T00:00:00-04:00",
          "2015-11-01T00:00:00-04:00",
          "2015-12-01T00:00:00-05:00",
          "2016-01-01T00:00:00-05:00",
          "2016-02-01T00:00:00-05:00",
          "2016-03-01T00:00:00-05:00",
          "2016-04-01T00:00:00-04:00",
          "2016-05-01T00:00:00-04:00",
          "2016-06-01T00:00:00-04:00",
          "2016-07-01T00:00:00-04:00",
          "2016-08-01T00:00:00-04:00",
          "2016-09-01T00:00:00-04:00",
          "2016-10-01T00:00:00-04:00",
          "2016-11-01T00:00:00-04:00",
          "2016-12-01T00:00:00-05:00",
          "2017-01-01T00:00:00-05:00",
          "2017-02-01T00:00:00-05:00",
          "2017-03-01T00:00:00-05:00",
          "2017-04-01T00:00:00-04:00",
          "2017-05-01T00:00:00-04:00",
          "2017-06-01T00:00:00-04:00",
          "2017-07-01T00:00:00-04:00",
          "2017-08-01T00:00:00-04:00",
          "2017-09-01T00:00:00-04:00",
          "2017-10-01T00:00:00-04:00",
          "2017-11-01T00:00:00-04:00",
          "2017-12-01T00:00:00-05:00",
          "2018-01-01T00:00:00-05:00",
          "2018-02-01T00:00:00-05:00",
          "2018-03-01T00:00:00-05:00",
          "2018-04-01T00:00:00-04:00",
          "2018-05-01T00:00:00-04:00",
          "2018-06-01T00:00:00-04:00",
          "2018-07-01T00:00:00-04:00",
          "2018-08-01T00:00:00-04:00",
          "2018-09-01T00:00:00-04:00",
          "2018-10-01T00:00:00-04:00",
          "2018-11-01T00:00:00-04:00",
          "2018-12-01T00:00:00-05:00",
          "2019-01-01T00:00:00-05:00",
          "2019-02-01T00:00:00-05:00",
          "2019-03-01T00:00:00-05:00",
          "2019-04-01T00:00:00-04:00",
          "2019-05-01T00:00:00-04:00",
          "2019-06-01T00:00:00-04:00",
          "2019-07-01T00:00:00-04:00",
          "2019-08-01T00:00:00-04:00",
          "2019-09-01T00:00:00-04:00",
          "2019-10-01T00:00:00-04:00",
          "2019-11-01T00:00:00-04:00",
          "2019-12-01T00:00:00-05:00",
          "2020-01-01T00:00:00-05:00",
          "2020-02-01T00:00:00-05:00",
          "2020-03-01T00:00:00-05:00",
          "2020-04-01T00:00:00-04:00",
          "2020-05-01T00:00:00-04:00",
          "2020-06-01T00:00:00-04:00",
          "2020-07-01T00:00:00-04:00",
          "2020-08-01T00:00:00-04:00",
          "2020-09-01T00:00:00-04:00",
          "2020-10-01T00:00:00-04:00",
          "2020-11-01T00:00:00-04:00",
          "2020-12-01T00:00:00-05:00",
          "2021-01-01T00:00:00-05:00",
          "2021-02-01T00:00:00-05:00",
          "2021-03-01T00:00:00-05:00",
          "2021-04-01T00:00:00-04:00",
          "2021-05-01T00:00:00-04:00",
          "2021-06-01T00:00:00-04:00",
          "2021-07-01T00:00:00-04:00",
          "2021-08-01T00:00:00-04:00",
          "2021-09-01T00:00:00-04:00",
          "2021-10-01T00:00:00-04:00",
          "2021-11-01T00:00:00-04:00",
          "2021-12-01T00:00:00-05:00",
          "2022-01-01T00:00:00-05:00",
          "2022-02-01T00:00:00-05:00"
         ],
         "xaxis": "x",
         "y": [
          0.07943444810746891,
          0.04262912667965013,
          -0.015303750288411355,
          0.06031079650453042,
          0.06103699346769598,
          0.013195863704091426,
          0.006715544060918344,
          0.05680205153133833,
          -0.06044376283848507,
          0.010993504219659389,
          0.0026178225637270014,
          0.08214501059212465,
          0.013177414075680405,
          0.040483588171741136,
          0.10633804571578942,
          0.003819250125461915,
          0.0011096970956294694,
          0.023752968547202657,
          -0.059087387543140246,
          0.06016761339050891,
          0.06357572662325173,
          0.028429868519463497,
          0.08307344108726333,
          -0.049607340835504554,
          0.11293206003737688,
          -0.009157256355972199,
          -0.009117064564954425,
          0.058860675748601876,
          0.02059273519281324,
          0.0016328364023390218,
          0.04657662002709029,
          -0.009457037161722526,
          0.02639558021276267,
          0.01236599821379647,
          0.01816020177690425,
          -0.03429242247809594,
          0.1442392576807059,
          0.007782451425284886,
          0.03651446137230763,
          0.015176614306040781,
          0.03415780147910841,
          0.0513404647072655,
          -0.1510000228881836,
          0.003140947226649926,
          0.11291586360194916,
          -0.002373805592908451,
          -0.07394024234942587,
          -0.08812335339619137,
          -0.003130902240798261,
          0.03967756541794709,
          0.03977449073348516,
          -0.03912454805295651,
          -0.014110073661103506,
          -0.01911677317947258,
          -0.01552889954309511,
          -0.01693837062914072,
          -0.0018306931706649765,
          0.06937102315042543,
          0.05145276768363449,
          0.06169641364289746,
          -0.00506104997980783,
          0.02997550332937937,
          0.01949024690332979,
          -0.06626294233411822,
          -0.015656868660195222,
          0.03463529698988976,
          -0.07941420297187574,
          -0.025988115936041556,
          -0.007710278366475198,
          0.0716695870688584,
          0.025663064770444555,
          0.010789656866018404,
          -0.05070391644131389,
          -0.026366819737737024,
          -0.0010951872528650597,
          -0.008571719272961964,
          0.05368449052335178,
          0.08348440228813425,
          -0.013561121421588163,
          0.04392078151918399,
          -0.018043445923552115,
          0.005747592285906933,
          -0.05056711789690571,
          0.01705421879767277,
          0.011836439513615238,
          -0.016040390086276224,
          0.23363057485904548,
          -0.035993340809178154,
          0.05755836481335086,
          0.024133451245469617,
          -0.04020698007736201,
          -0.05056088780676404,
          -0.003069437789995466,
          0.1667180108326598,
          -0.04585035535220794,
          -0.043697760567315114,
          -0.14937456725760134,
          -0.17892055060558198,
          0.11956525087163472,
          0.0846047285879088,
          -0.049360620331548866,
          0.04869518609229351,
          0.12767224528887833,
          -0.05907328106905718,
          -0.022807880313444606,
          0.22070098562338925,
          0.22410647523815252,
          -0.07180701530393108,
          0.1241005847917136,
          -0.023910226270640877,
          0.008129199898484263,
          -0.03961945063274919,
          -0.016120849271857196,
          0.0014223132156978568,
          0.029996583633323803,
          -0.06690570699742138,
          -0.0005910672448355969,
          -0.14295861111181307,
          0.06894414019299999,
          -0.07695782953009644,
          0.038399702359162236
         ],
         "yaxis": "y"
        },
        {
         "hovertemplate": "variable=MSFT<br>Date=%{x}<br>value=%{y}<extra></extra>",
         "legendgroup": "MSFT",
         "line": {
          "color": "#00cc96",
          "dash": "solid"
         },
         "marker": {
          "symbol": "circle"
         },
         "mode": "lines",
         "name": "MSFT",
         "orientation": "v",
         "showlegend": true,
         "type": "scatter",
         "x": [
          "2012-02-01T00:00:00-05:00",
          "2012-03-01T00:00:00-05:00",
          "2012-04-01T00:00:00-04:00",
          "2012-05-01T00:00:00-04:00",
          "2012-06-01T00:00:00-04:00",
          "2012-07-01T00:00:00-04:00",
          "2012-08-01T00:00:00-04:00",
          "2012-09-01T00:00:00-04:00",
          "2012-10-01T00:00:00-04:00",
          "2012-11-01T00:00:00-04:00",
          "2012-12-01T00:00:00-05:00",
          "2013-01-01T00:00:00-05:00",
          "2013-02-01T00:00:00-05:00",
          "2013-03-01T00:00:00-05:00",
          "2013-04-01T00:00:00-04:00",
          "2013-05-01T00:00:00-04:00",
          "2013-06-01T00:00:00-04:00",
          "2013-07-01T00:00:00-04:00",
          "2013-08-01T00:00:00-04:00",
          "2013-09-01T00:00:00-04:00",
          "2013-10-01T00:00:00-04:00",
          "2013-11-01T00:00:00-04:00",
          "2013-12-01T00:00:00-05:00",
          "2014-01-01T00:00:00-05:00",
          "2014-02-01T00:00:00-05:00",
          "2014-03-01T00:00:00-05:00",
          "2014-04-01T00:00:00-04:00",
          "2014-05-01T00:00:00-04:00",
          "2014-06-01T00:00:00-04:00",
          "2014-07-01T00:00:00-04:00",
          "2014-08-01T00:00:00-04:00",
          "2014-09-01T00:00:00-04:00",
          "2014-10-01T00:00:00-04:00",
          "2014-11-01T00:00:00-04:00",
          "2014-12-01T00:00:00-05:00",
          "2015-01-01T00:00:00-05:00",
          "2015-02-01T00:00:00-05:00",
          "2015-03-01T00:00:00-05:00",
          "2015-04-01T00:00:00-04:00",
          "2015-05-01T00:00:00-04:00",
          "2015-06-01T00:00:00-04:00",
          "2015-07-01T00:00:00-04:00",
          "2015-08-01T00:00:00-04:00",
          "2015-09-01T00:00:00-04:00",
          "2015-10-01T00:00:00-04:00",
          "2015-11-01T00:00:00-04:00",
          "2015-12-01T00:00:00-05:00",
          "2016-01-01T00:00:00-05:00",
          "2016-02-01T00:00:00-05:00",
          "2016-03-01T00:00:00-05:00",
          "2016-04-01T00:00:00-04:00",
          "2016-05-01T00:00:00-04:00",
          "2016-06-01T00:00:00-04:00",
          "2016-07-01T00:00:00-04:00",
          "2016-08-01T00:00:00-04:00",
          "2016-09-01T00:00:00-04:00",
          "2016-10-01T00:00:00-04:00",
          "2016-11-01T00:00:00-04:00",
          "2016-12-01T00:00:00-05:00",
          "2017-01-01T00:00:00-05:00",
          "2017-02-01T00:00:00-05:00",
          "2017-03-01T00:00:00-05:00",
          "2017-04-01T00:00:00-04:00",
          "2017-05-01T00:00:00-04:00",
          "2017-06-01T00:00:00-04:00",
          "2017-07-01T00:00:00-04:00",
          "2017-08-01T00:00:00-04:00",
          "2017-09-01T00:00:00-04:00",
          "2017-10-01T00:00:00-04:00",
          "2017-11-01T00:00:00-04:00",
          "2017-12-01T00:00:00-05:00",
          "2018-01-01T00:00:00-05:00",
          "2018-02-01T00:00:00-05:00",
          "2018-03-01T00:00:00-05:00",
          "2018-04-01T00:00:00-04:00",
          "2018-05-01T00:00:00-04:00",
          "2018-06-01T00:00:00-04:00",
          "2018-07-01T00:00:00-04:00",
          "2018-08-01T00:00:00-04:00",
          "2018-09-01T00:00:00-04:00",
          "2018-10-01T00:00:00-04:00",
          "2018-11-01T00:00:00-04:00",
          "2018-12-01T00:00:00-05:00",
          "2019-01-01T00:00:00-05:00",
          "2019-02-01T00:00:00-05:00",
          "2019-03-01T00:00:00-05:00",
          "2019-04-01T00:00:00-04:00",
          "2019-05-01T00:00:00-04:00",
          "2019-06-01T00:00:00-04:00",
          "2019-07-01T00:00:00-04:00",
          "2019-08-01T00:00:00-04:00",
          "2019-09-01T00:00:00-04:00",
          "2019-10-01T00:00:00-04:00",
          "2019-11-01T00:00:00-04:00",
          "2019-12-01T00:00:00-05:00",
          "2020-01-01T00:00:00-05:00",
          "2020-02-01T00:00:00-05:00",
          "2020-03-01T00:00:00-05:00",
          "2020-04-01T00:00:00-04:00",
          "2020-05-01T00:00:00-04:00",
          "2020-06-01T00:00:00-04:00",
          "2020-07-01T00:00:00-04:00",
          "2020-08-01T00:00:00-04:00",
          "2020-09-01T00:00:00-04:00",
          "2020-10-01T00:00:00-04:00",
          "2020-11-01T00:00:00-04:00",
          "2020-12-01T00:00:00-05:00",
          "2021-01-01T00:00:00-05:00",
          "2021-02-01T00:00:00-05:00",
          "2021-03-01T00:00:00-05:00",
          "2021-04-01T00:00:00-04:00",
          "2021-05-01T00:00:00-04:00",
          "2021-06-01T00:00:00-04:00",
          "2021-07-01T00:00:00-04:00",
          "2021-08-01T00:00:00-04:00",
          "2021-09-01T00:00:00-04:00",
          "2021-10-01T00:00:00-04:00",
          "2021-11-01T00:00:00-04:00",
          "2021-12-01T00:00:00-05:00",
          "2022-01-01T00:00:00-05:00",
          "2022-02-01T00:00:00-05:00"
         ],
         "xaxis": "x",
         "y": [
          0.07483911388705433,
          0.01638306723896732,
          -0.007439487794682731,
          -0.08838225744059547,
          0.047961616749435,
          -0.03661329956347348,
          0.0458093116024596,
          -0.03439323414790285,
          -0.04099460026786195,
          -0.06727400191670485,
          0.0033808505785850596,
          0.027705043198484436,
          0.012750399431450399,
          0.029136740846064102,
          0.15693805550444395,
          0.054380759357591124,
          -0.010315203284006036,
          -0.07817025742247963,
          0.04899501777057069,
          -0.0035928964401109598,
          0.064002438288558,
          0.07681449399672657,
          -0.018882800958146317,
          0.011494261078045076,
          0.012420751025577825,
          0.0699556306214133,
          -0.01439375770745177,
          0.013366264367197456,
          0.018563804634195824,
          0.03501196781200577,
          0.05259500615822588,
          0.020471060949339925,
          0.012726491475846702,
          0.018317371594813947,
          -0.028445943762539283,
          -0.1302475594766318,
          0.08539596084005674,
          -0.07274797577454017,
          0.19626167172118758,
          -0.03659537009936098,
          -0.05783181923121883,
          0.05775762511731375,
          -0.0680942238377733,
          0.017003627205558036,
          0.18933577464774176,
          0.032484785416029505,
          0.020791188589513787,
          -0.007029549258585233,
          -0.0764203861465208,
          0.08549525123432211,
          -0.0970487172691823,
          0.06276320704137905,
          -0.03452833643499409,
          0.10768032701581065,
          0.013761446279061618,
          0.002436466966221573,
          0.040277773546583795,
          0.005674235029668351,
          0.03119815998141906,
          0.040392696506022174,
          -0.01036352618451808,
          0.029384199461804483,
          0.039477656392739924,
          0.02015771650413245,
          -0.013029726237559047,
          0.054693118038232846,
          0.028473174439029636,
          -0.0037448012821710286,
          0.11665999047682751,
          0.01190187376938412,
          0.01627661609107056,
          0.11070845358132453,
          -0.013051315285585119,
          -0.02666097994560246,
          0.024652131946483635,
          0.05688622632364737,
          -0.002326949980378523,
          0.07575297814082926,
          0.05891779687140164,
          0.018160784138466557,
          -0.06610129410191179,
          0.038198688552693705,
          -0.08404725174607797,
          0.028157926739634576,
          0.07277600739166545,
          0.052753759943819034,
          0.10734274546415223,
          -0.05298625937930612,
          0.08311777476815885,
          0.01724393432980187,
          0.011667984795183273,
          0.008486857418869453,
          0.031216258188854207,
          0.05586949876839853,
          0.0417491865608155,
          0.07945465454516953,
          -0.048287619262234016,
          -0.026541497060462604,
          0.13632616248002183,
          0.022543346547512888,
          0.11055931518055084,
          0.007370645376090446,
          0.10009270192813302,
          -0.06739678548536188,
          -0.037369849959232315,
          0.05729246818579803,
          0.039005888536641775,
          0.04289186504567577,
          0.0018106490635836359,
          0.014588171608645784,
          0.06960168005238088,
          -0.009913554098695543,
          0.08498879302779416,
          0.051716537767728665,
          0.05956267243191915,
          -0.06611895830207914,
          0.17629107307840308,
          -0.0031059610230466106,
          0.017332681114983206,
          -0.07534489708030478,
          -0.03919866875926692
         ],
         "yaxis": "y"
        },
        {
         "hovertemplate": "variable=NKE<br>Date=%{x}<br>value=%{y}<extra></extra>",
         "legendgroup": "NKE",
         "line": {
          "color": "#ab63fa",
          "dash": "solid"
         },
         "marker": {
          "symbol": "circle"
         },
         "mode": "lines",
         "name": "NKE",
         "orientation": "v",
         "showlegend": true,
         "type": "scatter",
         "x": [
          "2012-02-01T00:00:00-05:00",
          "2012-03-01T00:00:00-05:00",
          "2012-04-01T00:00:00-04:00",
          "2012-05-01T00:00:00-04:00",
          "2012-06-01T00:00:00-04:00",
          "2012-07-01T00:00:00-04:00",
          "2012-08-01T00:00:00-04:00",
          "2012-09-01T00:00:00-04:00",
          "2012-10-01T00:00:00-04:00",
          "2012-11-01T00:00:00-04:00",
          "2012-12-01T00:00:00-05:00",
          "2013-01-01T00:00:00-05:00",
          "2013-02-01T00:00:00-05:00",
          "2013-03-01T00:00:00-05:00",
          "2013-04-01T00:00:00-04:00",
          "2013-05-01T00:00:00-04:00",
          "2013-06-01T00:00:00-04:00",
          "2013-07-01T00:00:00-04:00",
          "2013-08-01T00:00:00-04:00",
          "2013-09-01T00:00:00-04:00",
          "2013-10-01T00:00:00-04:00",
          "2013-11-01T00:00:00-04:00",
          "2013-12-01T00:00:00-05:00",
          "2014-01-01T00:00:00-05:00",
          "2014-02-01T00:00:00-05:00",
          "2014-03-01T00:00:00-05:00",
          "2014-04-01T00:00:00-04:00",
          "2014-05-01T00:00:00-04:00",
          "2014-06-01T00:00:00-04:00",
          "2014-07-01T00:00:00-04:00",
          "2014-08-01T00:00:00-04:00",
          "2014-09-01T00:00:00-04:00",
          "2014-10-01T00:00:00-04:00",
          "2014-11-01T00:00:00-04:00",
          "2014-12-01T00:00:00-05:00",
          "2015-01-01T00:00:00-05:00",
          "2015-02-01T00:00:00-05:00",
          "2015-03-01T00:00:00-05:00",
          "2015-04-01T00:00:00-04:00",
          "2015-05-01T00:00:00-04:00",
          "2015-06-01T00:00:00-04:00",
          "2015-07-01T00:00:00-04:00",
          "2015-08-01T00:00:00-04:00",
          "2015-09-01T00:00:00-04:00",
          "2015-10-01T00:00:00-04:00",
          "2015-11-01T00:00:00-04:00",
          "2015-12-01T00:00:00-05:00",
          "2016-01-01T00:00:00-05:00",
          "2016-02-01T00:00:00-05:00",
          "2016-03-01T00:00:00-05:00",
          "2016-04-01T00:00:00-04:00",
          "2016-05-01T00:00:00-04:00",
          "2016-06-01T00:00:00-04:00",
          "2016-07-01T00:00:00-04:00",
          "2016-08-01T00:00:00-04:00",
          "2016-09-01T00:00:00-04:00",
          "2016-10-01T00:00:00-04:00",
          "2016-11-01T00:00:00-04:00",
          "2016-12-01T00:00:00-05:00",
          "2017-01-01T00:00:00-05:00",
          "2017-02-01T00:00:00-05:00",
          "2017-03-01T00:00:00-05:00",
          "2017-04-01T00:00:00-04:00",
          "2017-05-01T00:00:00-04:00",
          "2017-06-01T00:00:00-04:00",
          "2017-07-01T00:00:00-04:00",
          "2017-08-01T00:00:00-04:00",
          "2017-09-01T00:00:00-04:00",
          "2017-10-01T00:00:00-04:00",
          "2017-11-01T00:00:00-04:00",
          "2017-12-01T00:00:00-05:00",
          "2018-01-01T00:00:00-05:00",
          "2018-02-01T00:00:00-05:00",
          "2018-03-01T00:00:00-05:00",
          "2018-04-01T00:00:00-04:00",
          "2018-05-01T00:00:00-04:00",
          "2018-06-01T00:00:00-04:00",
          "2018-07-01T00:00:00-04:00",
          "2018-08-01T00:00:00-04:00",
          "2018-09-01T00:00:00-04:00",
          "2018-10-01T00:00:00-04:00",
          "2018-11-01T00:00:00-04:00",
          "2018-12-01T00:00:00-05:00",
          "2019-01-01T00:00:00-05:00",
          "2019-02-01T00:00:00-05:00",
          "2019-03-01T00:00:00-05:00",
          "2019-04-01T00:00:00-04:00",
          "2019-05-01T00:00:00-04:00",
          "2019-06-01T00:00:00-04:00",
          "2019-07-01T00:00:00-04:00",
          "2019-08-01T00:00:00-04:00",
          "2019-09-01T00:00:00-04:00",
          "2019-10-01T00:00:00-04:00",
          "2019-11-01T00:00:00-04:00",
          "2019-12-01T00:00:00-05:00",
          "2020-01-01T00:00:00-05:00",
          "2020-02-01T00:00:00-05:00",
          "2020-03-01T00:00:00-05:00",
          "2020-04-01T00:00:00-04:00",
          "2020-05-01T00:00:00-04:00",
          "2020-06-01T00:00:00-04:00",
          "2020-07-01T00:00:00-04:00",
          "2020-08-01T00:00:00-04:00",
          "2020-09-01T00:00:00-04:00",
          "2020-10-01T00:00:00-04:00",
          "2020-11-01T00:00:00-04:00",
          "2020-12-01T00:00:00-05:00",
          "2021-01-01T00:00:00-05:00",
          "2021-02-01T00:00:00-05:00",
          "2021-03-01T00:00:00-05:00",
          "2021-04-01T00:00:00-04:00",
          "2021-05-01T00:00:00-04:00",
          "2021-06-01T00:00:00-04:00",
          "2021-07-01T00:00:00-04:00",
          "2021-08-01T00:00:00-04:00",
          "2021-09-01T00:00:00-04:00",
          "2021-10-01T00:00:00-04:00",
          "2021-11-01T00:00:00-04:00",
          "2021-12-01T00:00:00-05:00",
          "2022-01-01T00:00:00-05:00",
          "2022-02-01T00:00:00-05:00"
         ],
         "xaxis": "x",
         "y": [
          0.037792099104802634,
          0.004818423659041171,
          0.0316303967904199,
          -0.032984735414418265,
          -0.18857461146543264,
          0.06345408717569856,
          0.042956638476455256,
          -0.025164307034543087,
          -0.03719319642277796,
          0.06675428197484945,
          0.05867863555937958,
          0.04748063634475108,
          0.0075855662016546255,
          0.0835475452359642,
          0.07778343133612609,
          -0.030503123793287124,
          0.03276030591570711,
          -0.011934706855971866,
          -0.0015892955662933916,
          0.15631963932711224,
          0.042951580021993285,
          0.044614534821951324,
          -0.006317917663079986,
          -0.073626665316194,
          0.07481132040891869,
          -0.056705009812979434,
          -0.012320656032892563,
          0.05428385030196514,
          0.008321406308341439,
          -0.005415935290931317,
          0.018410551651833806,
          0.13558234860241725,
          0.042264623334555385,
          0.06797891375542808,
          -0.03162452775400659,
          -0.040561637690969876,
          0.052791357686525986,
          0.03305188420194538,
          -0.014851046207225993,
          0.02863215232606997,
          0.06245695474066282,
          0.06665436772256061,
          -0.03011630952907529,
          0.10040269548727632,
          0.06554442122943382,
          0.009539800134665821,
          -0.0550347659999848,
          -0.007840026855468696,
          -0.0067730717676776075,
          -0.001948350894422357,
          -0.04115832997807123,
          -0.06311498969598084,
          -0.0003621958949934223,
          0.005434768712212712,
          0.038558547561233114,
          -0.08657178897655726,
          -0.046913602072528926,
          -0.002192120559636912,
          0.015178792507742456,
          0.04072397442959663,
          0.08052926651522285,
          -0.02501750015733295,
          -0.005741964784724218,
          -0.04367439407344331,
          0.11341759069948187,
          0.0008474446959414461,
          -0.10567312352907243,
          -0.01817842973311201,
          0.06055936927197614,
          0.09874515956970442,
          0.035253246154681506,
          0.09064751483295197,
          -0.017443600412090143,
          -0.008801974468674034,
          0.029349742272539725,
          0.04986114479517778,
          0.10974926070320068,
          -0.034764013961562146,
          0.06878160231760577,
          0.030656987421151305,
          -0.11425873661118724,
          0.0010661224690649007,
          -0.013045837607855826,
          0.10439705863890536,
          0.04702010543063273,
          -0.0177301319601314,
          0.042987801756781074,
          -0.12171242421204764,
          0.08828101649567288,
          0.024776675481442467,
          -0.017784479844315304,
          0.1114792682715422,
          -0.046528909735780166,
          0.04399770717745799,
          0.08364530830580685,
          -0.04945212345838179,
          -0.07185883259651182,
          -0.07428954568908896,
          0.05366210485908729,
          0.13076395372760863,
          -0.005376331603291873,
          -0.004487531134231393,
          0.14629647259506817,
          0.12199483064025962,
          -0.04349210645733981,
          0.12175212270363689,
          0.05025986953112027,
          -0.05570088933921147,
          0.00890787090371914,
          -0.014022847653703652,
          -0.0020317877470166223,
          0.028954997270860483,
          0.1321266150682716,
          0.0842772253914379,
          -0.016536261145652653,
          -0.11842909502898236,
          0.15189697863779972,
          0.011656478482224175,
          -0.015185578118659171,
          -0.11159771434012167,
          -0.07780106505456152
         ],
         "yaxis": "y"
        }
       ],
       "layout": {
        "legend": {
         "title": {
          "text": "variable"
         },
         "tracegroupgap": 0
        },
        "showlegend": true,
        "template": {
         "data": {
          "bar": [
           {
            "error_x": {
             "color": "rgb(36,36,36)"
            },
            "error_y": {
             "color": "rgb(36,36,36)"
            },
            "marker": {
             "line": {
              "color": "rgb(234,234,242)",
              "width": 0.5
             },
             "pattern": {
              "fillmode": "overlay",
              "size": 10,
              "solidity": 0.2
             }
            },
            "type": "bar"
           }
          ],
          "barpolar": [
           {
            "marker": {
             "line": {
              "color": "rgb(234,234,242)",
              "width": 0.5
             },
             "pattern": {
              "fillmode": "overlay",
              "size": 10,
              "solidity": 0.2
             }
            },
            "type": "barpolar"
           }
          ],
          "carpet": [
           {
            "aaxis": {
             "endlinecolor": "rgb(36,36,36)",
             "gridcolor": "white",
             "linecolor": "white",
             "minorgridcolor": "white",
             "startlinecolor": "rgb(36,36,36)"
            },
            "baxis": {
             "endlinecolor": "rgb(36,36,36)",
             "gridcolor": "white",
             "linecolor": "white",
             "minorgridcolor": "white",
             "startlinecolor": "rgb(36,36,36)"
            },
            "type": "carpet"
           }
          ],
          "choropleth": [
           {
            "colorbar": {
             "outlinewidth": 0,
             "tickcolor": "rgb(36,36,36)",
             "ticklen": 8,
             "ticks": "outside",
             "tickwidth": 2
            },
            "type": "choropleth"
           }
          ],
          "contour": [
           {
            "colorbar": {
             "outlinewidth": 0,
             "tickcolor": "rgb(36,36,36)",
             "ticklen": 8,
             "ticks": "outside",
             "tickwidth": 2
            },
            "colorscale": [
             [
              0,
              "rgb(2,4,25)"
             ],
             [
              0.06274509803921569,
              "rgb(24,15,41)"
             ],
             [
              0.12549019607843137,
              "rgb(47,23,57)"
             ],
             [
              0.18823529411764706,
              "rgb(71,28,72)"
             ],
             [
              0.25098039215686274,
              "rgb(97,30,82)"
             ],
             [
              0.3137254901960784,
              "rgb(123,30,89)"
             ],
             [
              0.3764705882352941,
              "rgb(150,27,91)"
             ],
             [
              0.4392156862745098,
              "rgb(177,22,88)"
             ],
             [
              0.5019607843137255,
              "rgb(203,26,79)"
             ],
             [
              0.5647058823529412,
              "rgb(223,47,67)"
             ],
             [
              0.6274509803921569,
              "rgb(236,76,61)"
             ],
             [
              0.6901960784313725,
              "rgb(242,107,73)"
             ],
             [
              0.7529411764705882,
              "rgb(244,135,95)"
             ],
             [
              0.8156862745098039,
              "rgb(245,162,122)"
             ],
             [
              0.8784313725490196,
              "rgb(246,188,153)"
             ],
             [
              0.9411764705882353,
              "rgb(247,212,187)"
             ],
             [
              1,
              "rgb(250,234,220)"
             ]
            ],
            "type": "contour"
           }
          ],
          "contourcarpet": [
           {
            "colorbar": {
             "outlinewidth": 0,
             "tickcolor": "rgb(36,36,36)",
             "ticklen": 8,
             "ticks": "outside",
             "tickwidth": 2
            },
            "type": "contourcarpet"
           }
          ],
          "heatmap": [
           {
            "colorbar": {
             "outlinewidth": 0,
             "tickcolor": "rgb(36,36,36)",
             "ticklen": 8,
             "ticks": "outside",
             "tickwidth": 2
            },
            "colorscale": [
             [
              0,
              "rgb(2,4,25)"
             ],
             [
              0.06274509803921569,
              "rgb(24,15,41)"
             ],
             [
              0.12549019607843137,
              "rgb(47,23,57)"
             ],
             [
              0.18823529411764706,
              "rgb(71,28,72)"
             ],
             [
              0.25098039215686274,
              "rgb(97,30,82)"
             ],
             [
              0.3137254901960784,
              "rgb(123,30,89)"
             ],
             [
              0.3764705882352941,
              "rgb(150,27,91)"
             ],
             [
              0.4392156862745098,
              "rgb(177,22,88)"
             ],
             [
              0.5019607843137255,
              "rgb(203,26,79)"
             ],
             [
              0.5647058823529412,
              "rgb(223,47,67)"
             ],
             [
              0.6274509803921569,
              "rgb(236,76,61)"
             ],
             [
              0.6901960784313725,
              "rgb(242,107,73)"
             ],
             [
              0.7529411764705882,
              "rgb(244,135,95)"
             ],
             [
              0.8156862745098039,
              "rgb(245,162,122)"
             ],
             [
              0.8784313725490196,
              "rgb(246,188,153)"
             ],
             [
              0.9411764705882353,
              "rgb(247,212,187)"
             ],
             [
              1,
              "rgb(250,234,220)"
             ]
            ],
            "type": "heatmap"
           }
          ],
          "heatmapgl": [
           {
            "colorbar": {
             "outlinewidth": 0,
             "tickcolor": "rgb(36,36,36)",
             "ticklen": 8,
             "ticks": "outside",
             "tickwidth": 2
            },
            "colorscale": [
             [
              0,
              "rgb(2,4,25)"
             ],
             [
              0.06274509803921569,
              "rgb(24,15,41)"
             ],
             [
              0.12549019607843137,
              "rgb(47,23,57)"
             ],
             [
              0.18823529411764706,
              "rgb(71,28,72)"
             ],
             [
              0.25098039215686274,
              "rgb(97,30,82)"
             ],
             [
              0.3137254901960784,
              "rgb(123,30,89)"
             ],
             [
              0.3764705882352941,
              "rgb(150,27,91)"
             ],
             [
              0.4392156862745098,
              "rgb(177,22,88)"
             ],
             [
              0.5019607843137255,
              "rgb(203,26,79)"
             ],
             [
              0.5647058823529412,
              "rgb(223,47,67)"
             ],
             [
              0.6274509803921569,
              "rgb(236,76,61)"
             ],
             [
              0.6901960784313725,
              "rgb(242,107,73)"
             ],
             [
              0.7529411764705882,
              "rgb(244,135,95)"
             ],
             [
              0.8156862745098039,
              "rgb(245,162,122)"
             ],
             [
              0.8784313725490196,
              "rgb(246,188,153)"
             ],
             [
              0.9411764705882353,
              "rgb(247,212,187)"
             ],
             [
              1,
              "rgb(250,234,220)"
             ]
            ],
            "type": "heatmapgl"
           }
          ],
          "histogram": [
           {
            "marker": {
             "pattern": {
              "fillmode": "overlay",
              "size": 10,
              "solidity": 0.2
             }
            },
            "type": "histogram"
           }
          ],
          "histogram2d": [
           {
            "colorbar": {
             "outlinewidth": 0,
             "tickcolor": "rgb(36,36,36)",
             "ticklen": 8,
             "ticks": "outside",
             "tickwidth": 2
            },
            "colorscale": [
             [
              0,
              "rgb(2,4,25)"
             ],
             [
              0.06274509803921569,
              "rgb(24,15,41)"
             ],
             [
              0.12549019607843137,
              "rgb(47,23,57)"
             ],
             [
              0.18823529411764706,
              "rgb(71,28,72)"
             ],
             [
              0.25098039215686274,
              "rgb(97,30,82)"
             ],
             [
              0.3137254901960784,
              "rgb(123,30,89)"
             ],
             [
              0.3764705882352941,
              "rgb(150,27,91)"
             ],
             [
              0.4392156862745098,
              "rgb(177,22,88)"
             ],
             [
              0.5019607843137255,
              "rgb(203,26,79)"
             ],
             [
              0.5647058823529412,
              "rgb(223,47,67)"
             ],
             [
              0.6274509803921569,
              "rgb(236,76,61)"
             ],
             [
              0.6901960784313725,
              "rgb(242,107,73)"
             ],
             [
              0.7529411764705882,
              "rgb(244,135,95)"
             ],
             [
              0.8156862745098039,
              "rgb(245,162,122)"
             ],
             [
              0.8784313725490196,
              "rgb(246,188,153)"
             ],
             [
              0.9411764705882353,
              "rgb(247,212,187)"
             ],
             [
              1,
              "rgb(250,234,220)"
             ]
            ],
            "type": "histogram2d"
           }
          ],
          "histogram2dcontour": [
           {
            "colorbar": {
             "outlinewidth": 0,
             "tickcolor": "rgb(36,36,36)",
             "ticklen": 8,
             "ticks": "outside",
             "tickwidth": 2
            },
            "colorscale": [
             [
              0,
              "rgb(2,4,25)"
             ],
             [
              0.06274509803921569,
              "rgb(24,15,41)"
             ],
             [
              0.12549019607843137,
              "rgb(47,23,57)"
             ],
             [
              0.18823529411764706,
              "rgb(71,28,72)"
             ],
             [
              0.25098039215686274,
              "rgb(97,30,82)"
             ],
             [
              0.3137254901960784,
              "rgb(123,30,89)"
             ],
             [
              0.3764705882352941,
              "rgb(150,27,91)"
             ],
             [
              0.4392156862745098,
              "rgb(177,22,88)"
             ],
             [
              0.5019607843137255,
              "rgb(203,26,79)"
             ],
             [
              0.5647058823529412,
              "rgb(223,47,67)"
             ],
             [
              0.6274509803921569,
              "rgb(236,76,61)"
             ],
             [
              0.6901960784313725,
              "rgb(242,107,73)"
             ],
             [
              0.7529411764705882,
              "rgb(244,135,95)"
             ],
             [
              0.8156862745098039,
              "rgb(245,162,122)"
             ],
             [
              0.8784313725490196,
              "rgb(246,188,153)"
             ],
             [
              0.9411764705882353,
              "rgb(247,212,187)"
             ],
             [
              1,
              "rgb(250,234,220)"
             ]
            ],
            "type": "histogram2dcontour"
           }
          ],
          "mesh3d": [
           {
            "colorbar": {
             "outlinewidth": 0,
             "tickcolor": "rgb(36,36,36)",
             "ticklen": 8,
             "ticks": "outside",
             "tickwidth": 2
            },
            "type": "mesh3d"
           }
          ],
          "parcoords": [
           {
            "line": {
             "colorbar": {
              "outlinewidth": 0,
              "tickcolor": "rgb(36,36,36)",
              "ticklen": 8,
              "ticks": "outside",
              "tickwidth": 2
             }
            },
            "type": "parcoords"
           }
          ],
          "pie": [
           {
            "automargin": true,
            "type": "pie"
           }
          ],
          "scatter": [
           {
            "fillpattern": {
             "fillmode": "overlay",
             "size": 10,
             "solidity": 0.2
            },
            "type": "scatter"
           }
          ],
          "scatter3d": [
           {
            "line": {
             "colorbar": {
              "outlinewidth": 0,
              "tickcolor": "rgb(36,36,36)",
              "ticklen": 8,
              "ticks": "outside",
              "tickwidth": 2
             }
            },
            "marker": {
             "colorbar": {
              "outlinewidth": 0,
              "tickcolor": "rgb(36,36,36)",
              "ticklen": 8,
              "ticks": "outside",
              "tickwidth": 2
             }
            },
            "type": "scatter3d"
           }
          ],
          "scattercarpet": [
           {
            "marker": {
             "colorbar": {
              "outlinewidth": 0,
              "tickcolor": "rgb(36,36,36)",
              "ticklen": 8,
              "ticks": "outside",
              "tickwidth": 2
             }
            },
            "type": "scattercarpet"
           }
          ],
          "scattergeo": [
           {
            "marker": {
             "colorbar": {
              "outlinewidth": 0,
              "tickcolor": "rgb(36,36,36)",
              "ticklen": 8,
              "ticks": "outside",
              "tickwidth": 2
             }
            },
            "type": "scattergeo"
           }
          ],
          "scattergl": [
           {
            "marker": {
             "colorbar": {
              "outlinewidth": 0,
              "tickcolor": "rgb(36,36,36)",
              "ticklen": 8,
              "ticks": "outside",
              "tickwidth": 2
             }
            },
            "type": "scattergl"
           }
          ],
          "scattermapbox": [
           {
            "marker": {
             "colorbar": {
              "outlinewidth": 0,
              "tickcolor": "rgb(36,36,36)",
              "ticklen": 8,
              "ticks": "outside",
              "tickwidth": 2
             }
            },
            "type": "scattermapbox"
           }
          ],
          "scatterpolar": [
           {
            "marker": {
             "colorbar": {
              "outlinewidth": 0,
              "tickcolor": "rgb(36,36,36)",
              "ticklen": 8,
              "ticks": "outside",
              "tickwidth": 2
             }
            },
            "type": "scatterpolar"
           }
          ],
          "scatterpolargl": [
           {
            "marker": {
             "colorbar": {
              "outlinewidth": 0,
              "tickcolor": "rgb(36,36,36)",
              "ticklen": 8,
              "ticks": "outside",
              "tickwidth": 2
             }
            },
            "type": "scatterpolargl"
           }
          ],
          "scatterternary": [
           {
            "marker": {
             "colorbar": {
              "outlinewidth": 0,
              "tickcolor": "rgb(36,36,36)",
              "ticklen": 8,
              "ticks": "outside",
              "tickwidth": 2
             }
            },
            "type": "scatterternary"
           }
          ],
          "surface": [
           {
            "colorbar": {
             "outlinewidth": 0,
             "tickcolor": "rgb(36,36,36)",
             "ticklen": 8,
             "ticks": "outside",
             "tickwidth": 2
            },
            "colorscale": [
             [
              0,
              "rgb(2,4,25)"
             ],
             [
              0.06274509803921569,
              "rgb(24,15,41)"
             ],
             [
              0.12549019607843137,
              "rgb(47,23,57)"
             ],
             [
              0.18823529411764706,
              "rgb(71,28,72)"
             ],
             [
              0.25098039215686274,
              "rgb(97,30,82)"
             ],
             [
              0.3137254901960784,
              "rgb(123,30,89)"
             ],
             [
              0.3764705882352941,
              "rgb(150,27,91)"
             ],
             [
              0.4392156862745098,
              "rgb(177,22,88)"
             ],
             [
              0.5019607843137255,
              "rgb(203,26,79)"
             ],
             [
              0.5647058823529412,
              "rgb(223,47,67)"
             ],
             [
              0.6274509803921569,
              "rgb(236,76,61)"
             ],
             [
              0.6901960784313725,
              "rgb(242,107,73)"
             ],
             [
              0.7529411764705882,
              "rgb(244,135,95)"
             ],
             [
              0.8156862745098039,
              "rgb(245,162,122)"
             ],
             [
              0.8784313725490196,
              "rgb(246,188,153)"
             ],
             [
              0.9411764705882353,
              "rgb(247,212,187)"
             ],
             [
              1,
              "rgb(250,234,220)"
             ]
            ],
            "type": "surface"
           }
          ],
          "table": [
           {
            "cells": {
             "fill": {
              "color": "rgb(231,231,240)"
             },
             "line": {
              "color": "white"
             }
            },
            "header": {
             "fill": {
              "color": "rgb(183,183,191)"
             },
             "line": {
              "color": "white"
             }
            },
            "type": "table"
           }
          ]
         },
         "layout": {
          "annotationdefaults": {
           "arrowcolor": "rgb(67,103,167)"
          },
          "autotypenumbers": "strict",
          "coloraxis": {
           "colorbar": {
            "outlinewidth": 0,
            "tickcolor": "rgb(36,36,36)",
            "ticklen": 8,
            "ticks": "outside",
            "tickwidth": 2
           }
          },
          "colorscale": {
           "sequential": [
            [
             0,
             "rgb(2,4,25)"
            ],
            [
             0.06274509803921569,
             "rgb(24,15,41)"
            ],
            [
             0.12549019607843137,
             "rgb(47,23,57)"
            ],
            [
             0.18823529411764706,
             "rgb(71,28,72)"
            ],
            [
             0.25098039215686274,
             "rgb(97,30,82)"
            ],
            [
             0.3137254901960784,
             "rgb(123,30,89)"
            ],
            [
             0.3764705882352941,
             "rgb(150,27,91)"
            ],
            [
             0.4392156862745098,
             "rgb(177,22,88)"
            ],
            [
             0.5019607843137255,
             "rgb(203,26,79)"
            ],
            [
             0.5647058823529412,
             "rgb(223,47,67)"
            ],
            [
             0.6274509803921569,
             "rgb(236,76,61)"
            ],
            [
             0.6901960784313725,
             "rgb(242,107,73)"
            ],
            [
             0.7529411764705882,
             "rgb(244,135,95)"
            ],
            [
             0.8156862745098039,
             "rgb(245,162,122)"
            ],
            [
             0.8784313725490196,
             "rgb(246,188,153)"
            ],
            [
             0.9411764705882353,
             "rgb(247,212,187)"
            ],
            [
             1,
             "rgb(250,234,220)"
            ]
           ],
           "sequentialminus": [
            [
             0,
             "rgb(2,4,25)"
            ],
            [
             0.06274509803921569,
             "rgb(24,15,41)"
            ],
            [
             0.12549019607843137,
             "rgb(47,23,57)"
            ],
            [
             0.18823529411764706,
             "rgb(71,28,72)"
            ],
            [
             0.25098039215686274,
             "rgb(97,30,82)"
            ],
            [
             0.3137254901960784,
             "rgb(123,30,89)"
            ],
            [
             0.3764705882352941,
             "rgb(150,27,91)"
            ],
            [
             0.4392156862745098,
             "rgb(177,22,88)"
            ],
            [
             0.5019607843137255,
             "rgb(203,26,79)"
            ],
            [
             0.5647058823529412,
             "rgb(223,47,67)"
            ],
            [
             0.6274509803921569,
             "rgb(236,76,61)"
            ],
            [
             0.6901960784313725,
             "rgb(242,107,73)"
            ],
            [
             0.7529411764705882,
             "rgb(244,135,95)"
            ],
            [
             0.8156862745098039,
             "rgb(245,162,122)"
            ],
            [
             0.8784313725490196,
             "rgb(246,188,153)"
            ],
            [
             0.9411764705882353,
             "rgb(247,212,187)"
            ],
            [
             1,
             "rgb(250,234,220)"
            ]
           ]
          },
          "colorway": [
           "rgb(76,114,176)",
           "rgb(221,132,82)",
           "rgb(85,168,104)",
           "rgb(196,78,82)",
           "rgb(129,114,179)",
           "rgb(147,120,96)",
           "rgb(218,139,195)",
           "rgb(140,140,140)",
           "rgb(204,185,116)",
           "rgb(100,181,205)"
          ],
          "font": {
           "color": "rgb(36,36,36)"
          },
          "geo": {
           "bgcolor": "white",
           "lakecolor": "white",
           "landcolor": "rgb(234,234,242)",
           "showlakes": true,
           "showland": true,
           "subunitcolor": "white"
          },
          "hoverlabel": {
           "align": "left"
          },
          "hovermode": "closest",
          "paper_bgcolor": "white",
          "plot_bgcolor": "rgb(234,234,242)",
          "polar": {
           "angularaxis": {
            "gridcolor": "white",
            "linecolor": "white",
            "showgrid": true,
            "ticks": ""
           },
           "bgcolor": "rgb(234,234,242)",
           "radialaxis": {
            "gridcolor": "white",
            "linecolor": "white",
            "showgrid": true,
            "ticks": ""
           }
          },
          "scene": {
           "xaxis": {
            "backgroundcolor": "rgb(234,234,242)",
            "gridcolor": "white",
            "gridwidth": 2,
            "linecolor": "white",
            "showbackground": true,
            "showgrid": true,
            "ticks": "",
            "zerolinecolor": "white"
           },
           "yaxis": {
            "backgroundcolor": "rgb(234,234,242)",
            "gridcolor": "white",
            "gridwidth": 2,
            "linecolor": "white",
            "showbackground": true,
            "showgrid": true,
            "ticks": "",
            "zerolinecolor": "white"
           },
           "zaxis": {
            "backgroundcolor": "rgb(234,234,242)",
            "gridcolor": "white",
            "gridwidth": 2,
            "linecolor": "white",
            "showbackground": true,
            "showgrid": true,
            "ticks": "",
            "zerolinecolor": "white"
           }
          },
          "shapedefaults": {
           "fillcolor": "rgb(67,103,167)",
           "line": {
            "width": 0
           },
           "opacity": 0.5
          },
          "ternary": {
           "aaxis": {
            "gridcolor": "white",
            "linecolor": "white",
            "showgrid": true,
            "ticks": ""
           },
           "baxis": {
            "gridcolor": "white",
            "linecolor": "white",
            "showgrid": true,
            "ticks": ""
           },
           "bgcolor": "rgb(234,234,242)",
           "caxis": {
            "gridcolor": "white",
            "linecolor": "white",
            "showgrid": true,
            "ticks": ""
           }
          },
          "xaxis": {
           "automargin": true,
           "gridcolor": "white",
           "linecolor": "white",
           "showgrid": true,
           "ticks": "",
           "title": {
            "standoff": 15
           },
           "zerolinecolor": "white"
          },
          "yaxis": {
           "automargin": true,
           "gridcolor": "white",
           "linecolor": "white",
           "showgrid": true,
           "ticks": "",
           "title": {
            "standoff": 15
           },
           "zerolinecolor": "white"
          }
         }
        },
        "title": {
         "text": "Percent Change"
        },
        "xaxis": {
         "anchor": "y",
         "domain": [
          0,
          1
         ],
         "title": {
          "text": "Date"
         }
        },
        "yaxis": {
         "anchor": "x",
         "domain": [
          0,
          1
         ],
         "title": {
          "text": "Percent Change"
         }
        }
       }
      },
      "text/html": [
       "<div>                            <div id=\"b68a75e1-41fa-4b23-a283-9fd17e4d1f67\" class=\"plotly-graph-div\" style=\"height:525px; width:100%;\"></div>            <script type=\"text/javascript\">                require([\"plotly\"], function(Plotly) {                    window.PLOTLYENV=window.PLOTLYENV || {};                                    if (document.getElementById(\"b68a75e1-41fa-4b23-a283-9fd17e4d1f67\")) {                    Plotly.newPlot(                        \"b68a75e1-41fa-4b23-a283-9fd17e4d1f67\",                        [{\"hovertemplate\":\"variable=COST<br>Date=%{x}<br>value=%{y}<extra></extra>\",\"legendgroup\":\"COST\",\"line\":{\"color\":\"#636efa\",\"dash\":\"solid\"},\"marker\":{\"symbol\":\"circle\"},\"mode\":\"lines\",\"name\":\"COST\",\"orientation\":\"v\",\"showlegend\":true,\"x\":[\"2012-02-01T00:00:00-05:00\",\"2012-03-01T00:00:00-05:00\",\"2012-04-01T00:00:00-04:00\",\"2012-05-01T00:00:00-04:00\",\"2012-06-01T00:00:00-04:00\",\"2012-07-01T00:00:00-04:00\",\"2012-08-01T00:00:00-04:00\",\"2012-09-01T00:00:00-04:00\",\"2012-10-01T00:00:00-04:00\",\"2012-11-01T00:00:00-04:00\",\"2012-12-01T00:00:00-05:00\",\"2013-01-01T00:00:00-05:00\",\"2013-02-01T00:00:00-05:00\",\"2013-03-01T00:00:00-05:00\",\"2013-04-01T00:00:00-04:00\",\"2013-05-01T00:00:00-04:00\",\"2013-06-01T00:00:00-04:00\",\"2013-07-01T00:00:00-04:00\",\"2013-08-01T00:00:00-04:00\",\"2013-09-01T00:00:00-04:00\",\"2013-10-01T00:00:00-04:00\",\"2013-11-01T00:00:00-04:00\",\"2013-12-01T00:00:00-05:00\",\"2014-01-01T00:00:00-05:00\",\"2014-02-01T00:00:00-05:00\",\"2014-03-01T00:00:00-05:00\",\"2014-04-01T00:00:00-04:00\",\"2014-05-01T00:00:00-04:00\",\"2014-06-01T00:00:00-04:00\",\"2014-07-01T00:00:00-04:00\",\"2014-08-01T00:00:00-04:00\",\"2014-09-01T00:00:00-04:00\",\"2014-10-01T00:00:00-04:00\",\"2014-11-01T00:00:00-04:00\",\"2014-12-01T00:00:00-05:00\",\"2015-01-01T00:00:00-05:00\",\"2015-02-01T00:00:00-05:00\",\"2015-03-01T00:00:00-05:00\",\"2015-04-01T00:00:00-04:00\",\"2015-05-01T00:00:00-04:00\",\"2015-06-01T00:00:00-04:00\",\"2015-07-01T00:00:00-04:00\",\"2015-08-01T00:00:00-04:00\",\"2015-09-01T00:00:00-04:00\",\"2015-10-01T00:00:00-04:00\",\"2015-11-01T00:00:00-04:00\",\"2015-12-01T00:00:00-05:00\",\"2016-01-01T00:00:00-05:00\",\"2016-02-01T00:00:00-05:00\",\"2016-03-01T00:00:00-05:00\",\"2016-04-01T00:00:00-04:00\",\"2016-05-01T00:00:00-04:00\",\"2016-06-01T00:00:00-04:00\",\"2016-07-01T00:00:00-04:00\",\"2016-08-01T00:00:00-04:00\",\"2016-09-01T00:00:00-04:00\",\"2016-10-01T00:00:00-04:00\",\"2016-11-01T00:00:00-04:00\",\"2016-12-01T00:00:00-05:00\",\"2017-01-01T00:00:00-05:00\",\"2017-02-01T00:00:00-05:00\",\"2017-03-01T00:00:00-05:00\",\"2017-04-01T00:00:00-04:00\",\"2017-05-01T00:00:00-04:00\",\"2017-06-01T00:00:00-04:00\",\"2017-07-01T00:00:00-04:00\",\"2017-08-01T00:00:00-04:00\",\"2017-09-01T00:00:00-04:00\",\"2017-10-01T00:00:00-04:00\",\"2017-11-01T00:00:00-04:00\",\"2017-12-01T00:00:00-05:00\",\"2018-01-01T00:00:00-05:00\",\"2018-02-01T00:00:00-05:00\",\"2018-03-01T00:00:00-05:00\",\"2018-04-01T00:00:00-04:00\",\"2018-05-01T00:00:00-04:00\",\"2018-06-01T00:00:00-04:00\",\"2018-07-01T00:00:00-04:00\",\"2018-08-01T00:00:00-04:00\",\"2018-09-01T00:00:00-04:00\",\"2018-10-01T00:00:00-04:00\",\"2018-11-01T00:00:00-04:00\",\"2018-12-01T00:00:00-05:00\",\"2019-01-01T00:00:00-05:00\",\"2019-02-01T00:00:00-05:00\",\"2019-03-01T00:00:00-05:00\",\"2019-04-01T00:00:00-04:00\",\"2019-05-01T00:00:00-04:00\",\"2019-06-01T00:00:00-04:00\",\"2019-07-01T00:00:00-04:00\",\"2019-08-01T00:00:00-04:00\",\"2019-09-01T00:00:00-04:00\",\"2019-10-01T00:00:00-04:00\",\"2019-11-01T00:00:00-04:00\",\"2019-12-01T00:00:00-05:00\",\"2020-01-01T00:00:00-05:00\",\"2020-02-01T00:00:00-05:00\",\"2020-03-01T00:00:00-05:00\",\"2020-04-01T00:00:00-04:00\",\"2020-05-01T00:00:00-04:00\",\"2020-06-01T00:00:00-04:00\",\"2020-07-01T00:00:00-04:00\",\"2020-08-01T00:00:00-04:00\",\"2020-09-01T00:00:00-04:00\",\"2020-10-01T00:00:00-04:00\",\"2020-11-01T00:00:00-04:00\",\"2020-12-01T00:00:00-05:00\",\"2021-01-01T00:00:00-05:00\",\"2021-02-01T00:00:00-05:00\",\"2021-03-01T00:00:00-05:00\",\"2021-04-01T00:00:00-04:00\",\"2021-05-01T00:00:00-04:00\",\"2021-06-01T00:00:00-04:00\",\"2021-07-01T00:00:00-04:00\",\"2021-08-01T00:00:00-04:00\",\"2021-09-01T00:00:00-04:00\",\"2021-10-01T00:00:00-04:00\",\"2021-11-01T00:00:00-04:00\",\"2021-12-01T00:00:00-05:00\",\"2022-01-01T00:00:00-05:00\",\"2022-02-01T00:00:00-05:00\"],\"xaxis\":\"x\",\"y\":[0.04606783846084861,0.055077918052889085,-0.028854654829566173,-0.020299397928469687,0.09966432076839715,0.012421055843955697,0.017571245955956938,0.023398394311451298,-0.017272397101439574,0.05577565627093528,-0.049942214236515015,0.03656429513028581,-0.010259873558100985,0.047586135366352256,0.021864100287243726,0.011067019688875801,0.008574317841433254,0.06195169117325894,-0.04726618556387541,0.029498483430260736,0.024572387566623943,0.06296610428115068,-0.05110423061878022,-0.05595695026515379,0.039515863450406474,-0.0438356388082729,0.03581661881330267,0.0029391107969716224,-0.007412454799518575,0.020666873721201906,0.030117414394708497,0.03501815163238664,0.06423552060298765,0.06560696048846437,-0.0026033994504602864,0.008747834166942248,0.02776418678362047,0.030892712838345382,-0.055775557414139865,-0.003215705725645779,-0.05280874516227141,0.07581819693667313,-0.03613213964028539,0.03227421759348692,0.09372613340594893,0.02087024509020563,0.0004956128854056718,-0.06427247605456654,-0.007212787011046218,0.05032328943003139,-0.05996951921839522,0.004320525002039499,0.05558908903790871,0.06482430189628152,-0.03067817752280555,-0.05910298011904658,-0.030424231570216564,0.01514847884717141,0.06661781333248751,0.02398348837207087,0.08069530938579805,-0.05356129713663882,0.05862008281912612,0.016392453432200194,-0.11361747399079547,-0.008878873469493676,-0.011166418995715355,0.04816886262836095,-0.01953856951888422,0.1449589680860366,0.009163381817062666,0.04701268122476954,-0.020372562837679076,-0.012938718175352526,0.046330262302505476,0.005477793725879421,0.05417670468509628,0.04655953289909043,0.06593204575138922,0.0075065412574399915,-0.026609331871898956,0.011590752919078406,-0.11920612336105574,0.053605605071152196,0.019149235972834244,0.10697628832790551,0.014000162708323494,-0.024233278938719627,0.10301363947719633,0.04302578784914024,0.06940465313617028,-0.022560809450882346,0.03123807038141302,0.009087584868062937,-0.019645722887237094,0.03946643663579441,-0.07979829550250273,0.014192181925310132,0.0626731484276164,0.018052809309251128,-0.017051932910200795,0.0736123741078154,0.06798146089699153,0.021112570501564898,0.007380267935739537,0.09549240636081846,-0.03826222185143402,-0.06462658894422613,-0.060806381752803396,0.06489429301005467,0.05563431894106219,0.016608865426656738,0.04599895555931499,0.08605652851473344,0.05996925658677088,-0.013479954033018382,0.09389118030119059,0.09732675978809668,0.05250474075391742,-0.11021667426246318,0.027953190229638603],\"yaxis\":\"y\",\"type\":\"scatter\"},{\"hovertemplate\":\"variable=DIS<br>Date=%{x}<br>value=%{y}<extra></extra>\",\"legendgroup\":\"DIS\",\"line\":{\"color\":\"#EF553B\",\"dash\":\"solid\"},\"marker\":{\"symbol\":\"circle\"},\"mode\":\"lines\",\"name\":\"DIS\",\"orientation\":\"v\",\"showlegend\":true,\"x\":[\"2012-02-01T00:00:00-05:00\",\"2012-03-01T00:00:00-05:00\",\"2012-04-01T00:00:00-04:00\",\"2012-05-01T00:00:00-04:00\",\"2012-06-01T00:00:00-04:00\",\"2012-07-01T00:00:00-04:00\",\"2012-08-01T00:00:00-04:00\",\"2012-09-01T00:00:00-04:00\",\"2012-10-01T00:00:00-04:00\",\"2012-11-01T00:00:00-04:00\",\"2012-12-01T00:00:00-05:00\",\"2013-01-01T00:00:00-05:00\",\"2013-02-01T00:00:00-05:00\",\"2013-03-01T00:00:00-05:00\",\"2013-04-01T00:00:00-04:00\",\"2013-05-01T00:00:00-04:00\",\"2013-06-01T00:00:00-04:00\",\"2013-07-01T00:00:00-04:00\",\"2013-08-01T00:00:00-04:00\",\"2013-09-01T00:00:00-04:00\",\"2013-10-01T00:00:00-04:00\",\"2013-11-01T00:00:00-04:00\",\"2013-12-01T00:00:00-05:00\",\"2014-01-01T00:00:00-05:00\",\"2014-02-01T00:00:00-05:00\",\"2014-03-01T00:00:00-05:00\",\"2014-04-01T00:00:00-04:00\",\"2014-05-01T00:00:00-04:00\",\"2014-06-01T00:00:00-04:00\",\"2014-07-01T00:00:00-04:00\",\"2014-08-01T00:00:00-04:00\",\"2014-09-01T00:00:00-04:00\",\"2014-10-01T00:00:00-04:00\",\"2014-11-01T00:00:00-04:00\",\"2014-12-01T00:00:00-05:00\",\"2015-01-01T00:00:00-05:00\",\"2015-02-01T00:00:00-05:00\",\"2015-03-01T00:00:00-05:00\",\"2015-04-01T00:00:00-04:00\",\"2015-05-01T00:00:00-04:00\",\"2015-06-01T00:00:00-04:00\",\"2015-07-01T00:00:00-04:00\",\"2015-08-01T00:00:00-04:00\",\"2015-09-01T00:00:00-04:00\",\"2015-10-01T00:00:00-04:00\",\"2015-11-01T00:00:00-04:00\",\"2015-12-01T00:00:00-05:00\",\"2016-01-01T00:00:00-05:00\",\"2016-02-01T00:00:00-05:00\",\"2016-03-01T00:00:00-05:00\",\"2016-04-01T00:00:00-04:00\",\"2016-05-01T00:00:00-04:00\",\"2016-06-01T00:00:00-04:00\",\"2016-07-01T00:00:00-04:00\",\"2016-08-01T00:00:00-04:00\",\"2016-09-01T00:00:00-04:00\",\"2016-10-01T00:00:00-04:00\",\"2016-11-01T00:00:00-04:00\",\"2016-12-01T00:00:00-05:00\",\"2017-01-01T00:00:00-05:00\",\"2017-02-01T00:00:00-05:00\",\"2017-03-01T00:00:00-05:00\",\"2017-04-01T00:00:00-04:00\",\"2017-05-01T00:00:00-04:00\",\"2017-06-01T00:00:00-04:00\",\"2017-07-01T00:00:00-04:00\",\"2017-08-01T00:00:00-04:00\",\"2017-09-01T00:00:00-04:00\",\"2017-10-01T00:00:00-04:00\",\"2017-11-01T00:00:00-04:00\",\"2017-12-01T00:00:00-05:00\",\"2018-01-01T00:00:00-05:00\",\"2018-02-01T00:00:00-05:00\",\"2018-03-01T00:00:00-05:00\",\"2018-04-01T00:00:00-04:00\",\"2018-05-01T00:00:00-04:00\",\"2018-06-01T00:00:00-04:00\",\"2018-07-01T00:00:00-04:00\",\"2018-08-01T00:00:00-04:00\",\"2018-09-01T00:00:00-04:00\",\"2018-10-01T00:00:00-04:00\",\"2018-11-01T00:00:00-04:00\",\"2018-12-01T00:00:00-05:00\",\"2019-01-01T00:00:00-05:00\",\"2019-02-01T00:00:00-05:00\",\"2019-03-01T00:00:00-05:00\",\"2019-04-01T00:00:00-04:00\",\"2019-05-01T00:00:00-04:00\",\"2019-06-01T00:00:00-04:00\",\"2019-07-01T00:00:00-04:00\",\"2019-08-01T00:00:00-04:00\",\"2019-09-01T00:00:00-04:00\",\"2019-10-01T00:00:00-04:00\",\"2019-11-01T00:00:00-04:00\",\"2019-12-01T00:00:00-05:00\",\"2020-01-01T00:00:00-05:00\",\"2020-02-01T00:00:00-05:00\",\"2020-03-01T00:00:00-05:00\",\"2020-04-01T00:00:00-04:00\",\"2020-05-01T00:00:00-04:00\",\"2020-06-01T00:00:00-04:00\",\"2020-07-01T00:00:00-04:00\",\"2020-08-01T00:00:00-04:00\",\"2020-09-01T00:00:00-04:00\",\"2020-10-01T00:00:00-04:00\",\"2020-11-01T00:00:00-04:00\",\"2020-12-01T00:00:00-05:00\",\"2021-01-01T00:00:00-05:00\",\"2021-02-01T00:00:00-05:00\",\"2021-03-01T00:00:00-05:00\",\"2021-04-01T00:00:00-04:00\",\"2021-05-01T00:00:00-04:00\",\"2021-06-01T00:00:00-04:00\",\"2021-07-01T00:00:00-04:00\",\"2021-08-01T00:00:00-04:00\",\"2021-09-01T00:00:00-04:00\",\"2021-10-01T00:00:00-04:00\",\"2021-11-01T00:00:00-04:00\",\"2021-12-01T00:00:00-05:00\",\"2022-01-01T00:00:00-05:00\",\"2022-02-01T00:00:00-05:00\"],\"xaxis\":\"x\",\"y\":[0.07943444810746891,0.04262912667965013,-0.015303750288411355,0.06031079650453042,0.06103699346769598,0.013195863704091426,0.006715544060918344,0.05680205153133833,-0.06044376283848507,0.010993504219659389,0.0026178225637270014,0.08214501059212465,0.013177414075680405,0.040483588171741136,0.10633804571578942,0.003819250125461915,0.0011096970956294694,0.023752968547202657,-0.059087387543140246,0.06016761339050891,0.06357572662325173,0.028429868519463497,0.08307344108726333,-0.049607340835504554,0.11293206003737688,-0.009157256355972199,-0.009117064564954425,0.058860675748601876,0.02059273519281324,0.0016328364023390218,0.04657662002709029,-0.009457037161722526,0.02639558021276267,0.01236599821379647,0.01816020177690425,-0.03429242247809594,0.1442392576807059,0.007782451425284886,0.03651446137230763,0.015176614306040781,0.03415780147910841,0.0513404647072655,-0.1510000228881836,0.003140947226649926,0.11291586360194916,-0.002373805592908451,-0.07394024234942587,-0.08812335339619137,-0.003130902240798261,0.03967756541794709,0.03977449073348516,-0.03912454805295651,-0.014110073661103506,-0.01911677317947258,-0.01552889954309511,-0.01693837062914072,-0.0018306931706649765,0.06937102315042543,0.05145276768363449,0.06169641364289746,-0.00506104997980783,0.02997550332937937,0.01949024690332979,-0.06626294233411822,-0.015656868660195222,0.03463529698988976,-0.07941420297187574,-0.025988115936041556,-0.007710278366475198,0.0716695870688584,0.025663064770444555,0.010789656866018404,-0.05070391644131389,-0.026366819737737024,-0.0010951872528650597,-0.008571719272961964,0.05368449052335178,0.08348440228813425,-0.013561121421588163,0.04392078151918399,-0.018043445923552115,0.005747592285906933,-0.05056711789690571,0.01705421879767277,0.011836439513615238,-0.016040390086276224,0.23363057485904548,-0.035993340809178154,0.05755836481335086,0.024133451245469617,-0.04020698007736201,-0.05056088780676404,-0.003069437789995466,0.1667180108326598,-0.04585035535220794,-0.043697760567315114,-0.14937456725760134,-0.17892055060558198,0.11956525087163472,0.0846047285879088,-0.049360620331548866,0.04869518609229351,0.12767224528887833,-0.05907328106905718,-0.022807880313444606,0.22070098562338925,0.22410647523815252,-0.07180701530393108,0.1241005847917136,-0.023910226270640877,0.008129199898484263,-0.03961945063274919,-0.016120849271857196,0.0014223132156978568,0.029996583633323803,-0.06690570699742138,-0.0005910672448355969,-0.14295861111181307,0.06894414019299999,-0.07695782953009644,0.038399702359162236],\"yaxis\":\"y\",\"type\":\"scatter\"},{\"hovertemplate\":\"variable=MSFT<br>Date=%{x}<br>value=%{y}<extra></extra>\",\"legendgroup\":\"MSFT\",\"line\":{\"color\":\"#00cc96\",\"dash\":\"solid\"},\"marker\":{\"symbol\":\"circle\"},\"mode\":\"lines\",\"name\":\"MSFT\",\"orientation\":\"v\",\"showlegend\":true,\"x\":[\"2012-02-01T00:00:00-05:00\",\"2012-03-01T00:00:00-05:00\",\"2012-04-01T00:00:00-04:00\",\"2012-05-01T00:00:00-04:00\",\"2012-06-01T00:00:00-04:00\",\"2012-07-01T00:00:00-04:00\",\"2012-08-01T00:00:00-04:00\",\"2012-09-01T00:00:00-04:00\",\"2012-10-01T00:00:00-04:00\",\"2012-11-01T00:00:00-04:00\",\"2012-12-01T00:00:00-05:00\",\"2013-01-01T00:00:00-05:00\",\"2013-02-01T00:00:00-05:00\",\"2013-03-01T00:00:00-05:00\",\"2013-04-01T00:00:00-04:00\",\"2013-05-01T00:00:00-04:00\",\"2013-06-01T00:00:00-04:00\",\"2013-07-01T00:00:00-04:00\",\"2013-08-01T00:00:00-04:00\",\"2013-09-01T00:00:00-04:00\",\"2013-10-01T00:00:00-04:00\",\"2013-11-01T00:00:00-04:00\",\"2013-12-01T00:00:00-05:00\",\"2014-01-01T00:00:00-05:00\",\"2014-02-01T00:00:00-05:00\",\"2014-03-01T00:00:00-05:00\",\"2014-04-01T00:00:00-04:00\",\"2014-05-01T00:00:00-04:00\",\"2014-06-01T00:00:00-04:00\",\"2014-07-01T00:00:00-04:00\",\"2014-08-01T00:00:00-04:00\",\"2014-09-01T00:00:00-04:00\",\"2014-10-01T00:00:00-04:00\",\"2014-11-01T00:00:00-04:00\",\"2014-12-01T00:00:00-05:00\",\"2015-01-01T00:00:00-05:00\",\"2015-02-01T00:00:00-05:00\",\"2015-03-01T00:00:00-05:00\",\"2015-04-01T00:00:00-04:00\",\"2015-05-01T00:00:00-04:00\",\"2015-06-01T00:00:00-04:00\",\"2015-07-01T00:00:00-04:00\",\"2015-08-01T00:00:00-04:00\",\"2015-09-01T00:00:00-04:00\",\"2015-10-01T00:00:00-04:00\",\"2015-11-01T00:00:00-04:00\",\"2015-12-01T00:00:00-05:00\",\"2016-01-01T00:00:00-05:00\",\"2016-02-01T00:00:00-05:00\",\"2016-03-01T00:00:00-05:00\",\"2016-04-01T00:00:00-04:00\",\"2016-05-01T00:00:00-04:00\",\"2016-06-01T00:00:00-04:00\",\"2016-07-01T00:00:00-04:00\",\"2016-08-01T00:00:00-04:00\",\"2016-09-01T00:00:00-04:00\",\"2016-10-01T00:00:00-04:00\",\"2016-11-01T00:00:00-04:00\",\"2016-12-01T00:00:00-05:00\",\"2017-01-01T00:00:00-05:00\",\"2017-02-01T00:00:00-05:00\",\"2017-03-01T00:00:00-05:00\",\"2017-04-01T00:00:00-04:00\",\"2017-05-01T00:00:00-04:00\",\"2017-06-01T00:00:00-04:00\",\"2017-07-01T00:00:00-04:00\",\"2017-08-01T00:00:00-04:00\",\"2017-09-01T00:00:00-04:00\",\"2017-10-01T00:00:00-04:00\",\"2017-11-01T00:00:00-04:00\",\"2017-12-01T00:00:00-05:00\",\"2018-01-01T00:00:00-05:00\",\"2018-02-01T00:00:00-05:00\",\"2018-03-01T00:00:00-05:00\",\"2018-04-01T00:00:00-04:00\",\"2018-05-01T00:00:00-04:00\",\"2018-06-01T00:00:00-04:00\",\"2018-07-01T00:00:00-04:00\",\"2018-08-01T00:00:00-04:00\",\"2018-09-01T00:00:00-04:00\",\"2018-10-01T00:00:00-04:00\",\"2018-11-01T00:00:00-04:00\",\"2018-12-01T00:00:00-05:00\",\"2019-01-01T00:00:00-05:00\",\"2019-02-01T00:00:00-05:00\",\"2019-03-01T00:00:00-05:00\",\"2019-04-01T00:00:00-04:00\",\"2019-05-01T00:00:00-04:00\",\"2019-06-01T00:00:00-04:00\",\"2019-07-01T00:00:00-04:00\",\"2019-08-01T00:00:00-04:00\",\"2019-09-01T00:00:00-04:00\",\"2019-10-01T00:00:00-04:00\",\"2019-11-01T00:00:00-04:00\",\"2019-12-01T00:00:00-05:00\",\"2020-01-01T00:00:00-05:00\",\"2020-02-01T00:00:00-05:00\",\"2020-03-01T00:00:00-05:00\",\"2020-04-01T00:00:00-04:00\",\"2020-05-01T00:00:00-04:00\",\"2020-06-01T00:00:00-04:00\",\"2020-07-01T00:00:00-04:00\",\"2020-08-01T00:00:00-04:00\",\"2020-09-01T00:00:00-04:00\",\"2020-10-01T00:00:00-04:00\",\"2020-11-01T00:00:00-04:00\",\"2020-12-01T00:00:00-05:00\",\"2021-01-01T00:00:00-05:00\",\"2021-02-01T00:00:00-05:00\",\"2021-03-01T00:00:00-05:00\",\"2021-04-01T00:00:00-04:00\",\"2021-05-01T00:00:00-04:00\",\"2021-06-01T00:00:00-04:00\",\"2021-07-01T00:00:00-04:00\",\"2021-08-01T00:00:00-04:00\",\"2021-09-01T00:00:00-04:00\",\"2021-10-01T00:00:00-04:00\",\"2021-11-01T00:00:00-04:00\",\"2021-12-01T00:00:00-05:00\",\"2022-01-01T00:00:00-05:00\",\"2022-02-01T00:00:00-05:00\"],\"xaxis\":\"x\",\"y\":[0.07483911388705433,0.01638306723896732,-0.007439487794682731,-0.08838225744059547,0.047961616749435,-0.03661329956347348,0.0458093116024596,-0.03439323414790285,-0.04099460026786195,-0.06727400191670485,0.0033808505785850596,0.027705043198484436,0.012750399431450399,0.029136740846064102,0.15693805550444395,0.054380759357591124,-0.010315203284006036,-0.07817025742247963,0.04899501777057069,-0.0035928964401109598,0.064002438288558,0.07681449399672657,-0.018882800958146317,0.011494261078045076,0.012420751025577825,0.0699556306214133,-0.01439375770745177,0.013366264367197456,0.018563804634195824,0.03501196781200577,0.05259500615822588,0.020471060949339925,0.012726491475846702,0.018317371594813947,-0.028445943762539283,-0.1302475594766318,0.08539596084005674,-0.07274797577454017,0.19626167172118758,-0.03659537009936098,-0.05783181923121883,0.05775762511731375,-0.0680942238377733,0.017003627205558036,0.18933577464774176,0.032484785416029505,0.020791188589513787,-0.007029549258585233,-0.0764203861465208,0.08549525123432211,-0.0970487172691823,0.06276320704137905,-0.03452833643499409,0.10768032701581065,0.013761446279061618,0.002436466966221573,0.040277773546583795,0.005674235029668351,0.03119815998141906,0.040392696506022174,-0.01036352618451808,0.029384199461804483,0.039477656392739924,0.02015771650413245,-0.013029726237559047,0.054693118038232846,0.028473174439029636,-0.0037448012821710286,0.11665999047682751,0.01190187376938412,0.01627661609107056,0.11070845358132453,-0.013051315285585119,-0.02666097994560246,0.024652131946483635,0.05688622632364737,-0.002326949980378523,0.07575297814082926,0.05891779687140164,0.018160784138466557,-0.06610129410191179,0.038198688552693705,-0.08404725174607797,0.028157926739634576,0.07277600739166545,0.052753759943819034,0.10734274546415223,-0.05298625937930612,0.08311777476815885,0.01724393432980187,0.011667984795183273,0.008486857418869453,0.031216258188854207,0.05586949876839853,0.0417491865608155,0.07945465454516953,-0.048287619262234016,-0.026541497060462604,0.13632616248002183,0.022543346547512888,0.11055931518055084,0.007370645376090446,0.10009270192813302,-0.06739678548536188,-0.037369849959232315,0.05729246818579803,0.039005888536641775,0.04289186504567577,0.0018106490635836359,0.014588171608645784,0.06960168005238088,-0.009913554098695543,0.08498879302779416,0.051716537767728665,0.05956267243191915,-0.06611895830207914,0.17629107307840308,-0.0031059610230466106,0.017332681114983206,-0.07534489708030478,-0.03919866875926692],\"yaxis\":\"y\",\"type\":\"scatter\"},{\"hovertemplate\":\"variable=NKE<br>Date=%{x}<br>value=%{y}<extra></extra>\",\"legendgroup\":\"NKE\",\"line\":{\"color\":\"#ab63fa\",\"dash\":\"solid\"},\"marker\":{\"symbol\":\"circle\"},\"mode\":\"lines\",\"name\":\"NKE\",\"orientation\":\"v\",\"showlegend\":true,\"x\":[\"2012-02-01T00:00:00-05:00\",\"2012-03-01T00:00:00-05:00\",\"2012-04-01T00:00:00-04:00\",\"2012-05-01T00:00:00-04:00\",\"2012-06-01T00:00:00-04:00\",\"2012-07-01T00:00:00-04:00\",\"2012-08-01T00:00:00-04:00\",\"2012-09-01T00:00:00-04:00\",\"2012-10-01T00:00:00-04:00\",\"2012-11-01T00:00:00-04:00\",\"2012-12-01T00:00:00-05:00\",\"2013-01-01T00:00:00-05:00\",\"2013-02-01T00:00:00-05:00\",\"2013-03-01T00:00:00-05:00\",\"2013-04-01T00:00:00-04:00\",\"2013-05-01T00:00:00-04:00\",\"2013-06-01T00:00:00-04:00\",\"2013-07-01T00:00:00-04:00\",\"2013-08-01T00:00:00-04:00\",\"2013-09-01T00:00:00-04:00\",\"2013-10-01T00:00:00-04:00\",\"2013-11-01T00:00:00-04:00\",\"2013-12-01T00:00:00-05:00\",\"2014-01-01T00:00:00-05:00\",\"2014-02-01T00:00:00-05:00\",\"2014-03-01T00:00:00-05:00\",\"2014-04-01T00:00:00-04:00\",\"2014-05-01T00:00:00-04:00\",\"2014-06-01T00:00:00-04:00\",\"2014-07-01T00:00:00-04:00\",\"2014-08-01T00:00:00-04:00\",\"2014-09-01T00:00:00-04:00\",\"2014-10-01T00:00:00-04:00\",\"2014-11-01T00:00:00-04:00\",\"2014-12-01T00:00:00-05:00\",\"2015-01-01T00:00:00-05:00\",\"2015-02-01T00:00:00-05:00\",\"2015-03-01T00:00:00-05:00\",\"2015-04-01T00:00:00-04:00\",\"2015-05-01T00:00:00-04:00\",\"2015-06-01T00:00:00-04:00\",\"2015-07-01T00:00:00-04:00\",\"2015-08-01T00:00:00-04:00\",\"2015-09-01T00:00:00-04:00\",\"2015-10-01T00:00:00-04:00\",\"2015-11-01T00:00:00-04:00\",\"2015-12-01T00:00:00-05:00\",\"2016-01-01T00:00:00-05:00\",\"2016-02-01T00:00:00-05:00\",\"2016-03-01T00:00:00-05:00\",\"2016-04-01T00:00:00-04:00\",\"2016-05-01T00:00:00-04:00\",\"2016-06-01T00:00:00-04:00\",\"2016-07-01T00:00:00-04:00\",\"2016-08-01T00:00:00-04:00\",\"2016-09-01T00:00:00-04:00\",\"2016-10-01T00:00:00-04:00\",\"2016-11-01T00:00:00-04:00\",\"2016-12-01T00:00:00-05:00\",\"2017-01-01T00:00:00-05:00\",\"2017-02-01T00:00:00-05:00\",\"2017-03-01T00:00:00-05:00\",\"2017-04-01T00:00:00-04:00\",\"2017-05-01T00:00:00-04:00\",\"2017-06-01T00:00:00-04:00\",\"2017-07-01T00:00:00-04:00\",\"2017-08-01T00:00:00-04:00\",\"2017-09-01T00:00:00-04:00\",\"2017-10-01T00:00:00-04:00\",\"2017-11-01T00:00:00-04:00\",\"2017-12-01T00:00:00-05:00\",\"2018-01-01T00:00:00-05:00\",\"2018-02-01T00:00:00-05:00\",\"2018-03-01T00:00:00-05:00\",\"2018-04-01T00:00:00-04:00\",\"2018-05-01T00:00:00-04:00\",\"2018-06-01T00:00:00-04:00\",\"2018-07-01T00:00:00-04:00\",\"2018-08-01T00:00:00-04:00\",\"2018-09-01T00:00:00-04:00\",\"2018-10-01T00:00:00-04:00\",\"2018-11-01T00:00:00-04:00\",\"2018-12-01T00:00:00-05:00\",\"2019-01-01T00:00:00-05:00\",\"2019-02-01T00:00:00-05:00\",\"2019-03-01T00:00:00-05:00\",\"2019-04-01T00:00:00-04:00\",\"2019-05-01T00:00:00-04:00\",\"2019-06-01T00:00:00-04:00\",\"2019-07-01T00:00:00-04:00\",\"2019-08-01T00:00:00-04:00\",\"2019-09-01T00:00:00-04:00\",\"2019-10-01T00:00:00-04:00\",\"2019-11-01T00:00:00-04:00\",\"2019-12-01T00:00:00-05:00\",\"2020-01-01T00:00:00-05:00\",\"2020-02-01T00:00:00-05:00\",\"2020-03-01T00:00:00-05:00\",\"2020-04-01T00:00:00-04:00\",\"2020-05-01T00:00:00-04:00\",\"2020-06-01T00:00:00-04:00\",\"2020-07-01T00:00:00-04:00\",\"2020-08-01T00:00:00-04:00\",\"2020-09-01T00:00:00-04:00\",\"2020-10-01T00:00:00-04:00\",\"2020-11-01T00:00:00-04:00\",\"2020-12-01T00:00:00-05:00\",\"2021-01-01T00:00:00-05:00\",\"2021-02-01T00:00:00-05:00\",\"2021-03-01T00:00:00-05:00\",\"2021-04-01T00:00:00-04:00\",\"2021-05-01T00:00:00-04:00\",\"2021-06-01T00:00:00-04:00\",\"2021-07-01T00:00:00-04:00\",\"2021-08-01T00:00:00-04:00\",\"2021-09-01T00:00:00-04:00\",\"2021-10-01T00:00:00-04:00\",\"2021-11-01T00:00:00-04:00\",\"2021-12-01T00:00:00-05:00\",\"2022-01-01T00:00:00-05:00\",\"2022-02-01T00:00:00-05:00\"],\"xaxis\":\"x\",\"y\":[0.037792099104802634,0.004818423659041171,0.0316303967904199,-0.032984735414418265,-0.18857461146543264,0.06345408717569856,0.042956638476455256,-0.025164307034543087,-0.03719319642277796,0.06675428197484945,0.05867863555937958,0.04748063634475108,0.0075855662016546255,0.0835475452359642,0.07778343133612609,-0.030503123793287124,0.03276030591570711,-0.011934706855971866,-0.0015892955662933916,0.15631963932711224,0.042951580021993285,0.044614534821951324,-0.006317917663079986,-0.073626665316194,0.07481132040891869,-0.056705009812979434,-0.012320656032892563,0.05428385030196514,0.008321406308341439,-0.005415935290931317,0.018410551651833806,0.13558234860241725,0.042264623334555385,0.06797891375542808,-0.03162452775400659,-0.040561637690969876,0.052791357686525986,0.03305188420194538,-0.014851046207225993,0.02863215232606997,0.06245695474066282,0.06665436772256061,-0.03011630952907529,0.10040269548727632,0.06554442122943382,0.009539800134665821,-0.0550347659999848,-0.007840026855468696,-0.0067730717676776075,-0.001948350894422357,-0.04115832997807123,-0.06311498969598084,-0.0003621958949934223,0.005434768712212712,0.038558547561233114,-0.08657178897655726,-0.046913602072528926,-0.002192120559636912,0.015178792507742456,0.04072397442959663,0.08052926651522285,-0.02501750015733295,-0.005741964784724218,-0.04367439407344331,0.11341759069948187,0.0008474446959414461,-0.10567312352907243,-0.01817842973311201,0.06055936927197614,0.09874515956970442,0.035253246154681506,0.09064751483295197,-0.017443600412090143,-0.008801974468674034,0.029349742272539725,0.04986114479517778,0.10974926070320068,-0.034764013961562146,0.06878160231760577,0.030656987421151305,-0.11425873661118724,0.0010661224690649007,-0.013045837607855826,0.10439705863890536,0.04702010543063273,-0.0177301319601314,0.042987801756781074,-0.12171242421204764,0.08828101649567288,0.024776675481442467,-0.017784479844315304,0.1114792682715422,-0.046528909735780166,0.04399770717745799,0.08364530830580685,-0.04945212345838179,-0.07185883259651182,-0.07428954568908896,0.05366210485908729,0.13076395372760863,-0.005376331603291873,-0.004487531134231393,0.14629647259506817,0.12199483064025962,-0.04349210645733981,0.12175212270363689,0.05025986953112027,-0.05570088933921147,0.00890787090371914,-0.014022847653703652,-0.0020317877470166223,0.028954997270860483,0.1321266150682716,0.0842772253914379,-0.016536261145652653,-0.11842909502898236,0.15189697863779972,0.011656478482224175,-0.015185578118659171,-0.11159771434012167,-0.07780106505456152],\"yaxis\":\"y\",\"type\":\"scatter\"}],                        {\"template\":{\"data\":{\"barpolar\":[{\"marker\":{\"line\":{\"color\":\"rgb(234,234,242)\",\"width\":0.5},\"pattern\":{\"fillmode\":\"overlay\",\"size\":10,\"solidity\":0.2}},\"type\":\"barpolar\"}],\"bar\":[{\"error_x\":{\"color\":\"rgb(36,36,36)\"},\"error_y\":{\"color\":\"rgb(36,36,36)\"},\"marker\":{\"line\":{\"color\":\"rgb(234,234,242)\",\"width\":0.5},\"pattern\":{\"fillmode\":\"overlay\",\"size\":10,\"solidity\":0.2}},\"type\":\"bar\"}],\"carpet\":[{\"aaxis\":{\"endlinecolor\":\"rgb(36,36,36)\",\"gridcolor\":\"white\",\"linecolor\":\"white\",\"minorgridcolor\":\"white\",\"startlinecolor\":\"rgb(36,36,36)\"},\"baxis\":{\"endlinecolor\":\"rgb(36,36,36)\",\"gridcolor\":\"white\",\"linecolor\":\"white\",\"minorgridcolor\":\"white\",\"startlinecolor\":\"rgb(36,36,36)\"},\"type\":\"carpet\"}],\"choropleth\":[{\"colorbar\":{\"outlinewidth\":0,\"tickcolor\":\"rgb(36,36,36)\",\"ticklen\":8,\"ticks\":\"outside\",\"tickwidth\":2},\"type\":\"choropleth\"}],\"contourcarpet\":[{\"colorbar\":{\"outlinewidth\":0,\"tickcolor\":\"rgb(36,36,36)\",\"ticklen\":8,\"ticks\":\"outside\",\"tickwidth\":2},\"type\":\"contourcarpet\"}],\"contour\":[{\"colorbar\":{\"outlinewidth\":0,\"tickcolor\":\"rgb(36,36,36)\",\"ticklen\":8,\"ticks\":\"outside\",\"tickwidth\":2},\"colorscale\":[[0.0,\"rgb(2,4,25)\"],[0.06274509803921569,\"rgb(24,15,41)\"],[0.12549019607843137,\"rgb(47,23,57)\"],[0.18823529411764706,\"rgb(71,28,72)\"],[0.25098039215686274,\"rgb(97,30,82)\"],[0.3137254901960784,\"rgb(123,30,89)\"],[0.3764705882352941,\"rgb(150,27,91)\"],[0.4392156862745098,\"rgb(177,22,88)\"],[0.5019607843137255,\"rgb(203,26,79)\"],[0.5647058823529412,\"rgb(223,47,67)\"],[0.6274509803921569,\"rgb(236,76,61)\"],[0.6901960784313725,\"rgb(242,107,73)\"],[0.7529411764705882,\"rgb(244,135,95)\"],[0.8156862745098039,\"rgb(245,162,122)\"],[0.8784313725490196,\"rgb(246,188,153)\"],[0.9411764705882353,\"rgb(247,212,187)\"],[1.0,\"rgb(250,234,220)\"]],\"type\":\"contour\"}],\"heatmapgl\":[{\"colorbar\":{\"outlinewidth\":0,\"tickcolor\":\"rgb(36,36,36)\",\"ticklen\":8,\"ticks\":\"outside\",\"tickwidth\":2},\"colorscale\":[[0.0,\"rgb(2,4,25)\"],[0.06274509803921569,\"rgb(24,15,41)\"],[0.12549019607843137,\"rgb(47,23,57)\"],[0.18823529411764706,\"rgb(71,28,72)\"],[0.25098039215686274,\"rgb(97,30,82)\"],[0.3137254901960784,\"rgb(123,30,89)\"],[0.3764705882352941,\"rgb(150,27,91)\"],[0.4392156862745098,\"rgb(177,22,88)\"],[0.5019607843137255,\"rgb(203,26,79)\"],[0.5647058823529412,\"rgb(223,47,67)\"],[0.6274509803921569,\"rgb(236,76,61)\"],[0.6901960784313725,\"rgb(242,107,73)\"],[0.7529411764705882,\"rgb(244,135,95)\"],[0.8156862745098039,\"rgb(245,162,122)\"],[0.8784313725490196,\"rgb(246,188,153)\"],[0.9411764705882353,\"rgb(247,212,187)\"],[1.0,\"rgb(250,234,220)\"]],\"type\":\"heatmapgl\"}],\"heatmap\":[{\"colorbar\":{\"outlinewidth\":0,\"tickcolor\":\"rgb(36,36,36)\",\"ticklen\":8,\"ticks\":\"outside\",\"tickwidth\":2},\"colorscale\":[[0.0,\"rgb(2,4,25)\"],[0.06274509803921569,\"rgb(24,15,41)\"],[0.12549019607843137,\"rgb(47,23,57)\"],[0.18823529411764706,\"rgb(71,28,72)\"],[0.25098039215686274,\"rgb(97,30,82)\"],[0.3137254901960784,\"rgb(123,30,89)\"],[0.3764705882352941,\"rgb(150,27,91)\"],[0.4392156862745098,\"rgb(177,22,88)\"],[0.5019607843137255,\"rgb(203,26,79)\"],[0.5647058823529412,\"rgb(223,47,67)\"],[0.6274509803921569,\"rgb(236,76,61)\"],[0.6901960784313725,\"rgb(242,107,73)\"],[0.7529411764705882,\"rgb(244,135,95)\"],[0.8156862745098039,\"rgb(245,162,122)\"],[0.8784313725490196,\"rgb(246,188,153)\"],[0.9411764705882353,\"rgb(247,212,187)\"],[1.0,\"rgb(250,234,220)\"]],\"type\":\"heatmap\"}],\"histogram2dcontour\":[{\"colorbar\":{\"outlinewidth\":0,\"tickcolor\":\"rgb(36,36,36)\",\"ticklen\":8,\"ticks\":\"outside\",\"tickwidth\":2},\"colorscale\":[[0.0,\"rgb(2,4,25)\"],[0.06274509803921569,\"rgb(24,15,41)\"],[0.12549019607843137,\"rgb(47,23,57)\"],[0.18823529411764706,\"rgb(71,28,72)\"],[0.25098039215686274,\"rgb(97,30,82)\"],[0.3137254901960784,\"rgb(123,30,89)\"],[0.3764705882352941,\"rgb(150,27,91)\"],[0.4392156862745098,\"rgb(177,22,88)\"],[0.5019607843137255,\"rgb(203,26,79)\"],[0.5647058823529412,\"rgb(223,47,67)\"],[0.6274509803921569,\"rgb(236,76,61)\"],[0.6901960784313725,\"rgb(242,107,73)\"],[0.7529411764705882,\"rgb(244,135,95)\"],[0.8156862745098039,\"rgb(245,162,122)\"],[0.8784313725490196,\"rgb(246,188,153)\"],[0.9411764705882353,\"rgb(247,212,187)\"],[1.0,\"rgb(250,234,220)\"]],\"type\":\"histogram2dcontour\"}],\"histogram2d\":[{\"colorbar\":{\"outlinewidth\":0,\"tickcolor\":\"rgb(36,36,36)\",\"ticklen\":8,\"ticks\":\"outside\",\"tickwidth\":2},\"colorscale\":[[0.0,\"rgb(2,4,25)\"],[0.06274509803921569,\"rgb(24,15,41)\"],[0.12549019607843137,\"rgb(47,23,57)\"],[0.18823529411764706,\"rgb(71,28,72)\"],[0.25098039215686274,\"rgb(97,30,82)\"],[0.3137254901960784,\"rgb(123,30,89)\"],[0.3764705882352941,\"rgb(150,27,91)\"],[0.4392156862745098,\"rgb(177,22,88)\"],[0.5019607843137255,\"rgb(203,26,79)\"],[0.5647058823529412,\"rgb(223,47,67)\"],[0.6274509803921569,\"rgb(236,76,61)\"],[0.6901960784313725,\"rgb(242,107,73)\"],[0.7529411764705882,\"rgb(244,135,95)\"],[0.8156862745098039,\"rgb(245,162,122)\"],[0.8784313725490196,\"rgb(246,188,153)\"],[0.9411764705882353,\"rgb(247,212,187)\"],[1.0,\"rgb(250,234,220)\"]],\"type\":\"histogram2d\"}],\"histogram\":[{\"marker\":{\"pattern\":{\"fillmode\":\"overlay\",\"size\":10,\"solidity\":0.2}},\"type\":\"histogram\"}],\"mesh3d\":[{\"colorbar\":{\"outlinewidth\":0,\"tickcolor\":\"rgb(36,36,36)\",\"ticklen\":8,\"ticks\":\"outside\",\"tickwidth\":2},\"type\":\"mesh3d\"}],\"parcoords\":[{\"line\":{\"colorbar\":{\"outlinewidth\":0,\"tickcolor\":\"rgb(36,36,36)\",\"ticklen\":8,\"ticks\":\"outside\",\"tickwidth\":2}},\"type\":\"parcoords\"}],\"pie\":[{\"automargin\":true,\"type\":\"pie\"}],\"scatter3d\":[{\"line\":{\"colorbar\":{\"outlinewidth\":0,\"tickcolor\":\"rgb(36,36,36)\",\"ticklen\":8,\"ticks\":\"outside\",\"tickwidth\":2}},\"marker\":{\"colorbar\":{\"outlinewidth\":0,\"tickcolor\":\"rgb(36,36,36)\",\"ticklen\":8,\"ticks\":\"outside\",\"tickwidth\":2}},\"type\":\"scatter3d\"}],\"scattercarpet\":[{\"marker\":{\"colorbar\":{\"outlinewidth\":0,\"tickcolor\":\"rgb(36,36,36)\",\"ticklen\":8,\"ticks\":\"outside\",\"tickwidth\":2}},\"type\":\"scattercarpet\"}],\"scattergeo\":[{\"marker\":{\"colorbar\":{\"outlinewidth\":0,\"tickcolor\":\"rgb(36,36,36)\",\"ticklen\":8,\"ticks\":\"outside\",\"tickwidth\":2}},\"type\":\"scattergeo\"}],\"scattergl\":[{\"marker\":{\"colorbar\":{\"outlinewidth\":0,\"tickcolor\":\"rgb(36,36,36)\",\"ticklen\":8,\"ticks\":\"outside\",\"tickwidth\":2}},\"type\":\"scattergl\"}],\"scattermapbox\":[{\"marker\":{\"colorbar\":{\"outlinewidth\":0,\"tickcolor\":\"rgb(36,36,36)\",\"ticklen\":8,\"ticks\":\"outside\",\"tickwidth\":2}},\"type\":\"scattermapbox\"}],\"scatterpolargl\":[{\"marker\":{\"colorbar\":{\"outlinewidth\":0,\"tickcolor\":\"rgb(36,36,36)\",\"ticklen\":8,\"ticks\":\"outside\",\"tickwidth\":2}},\"type\":\"scatterpolargl\"}],\"scatterpolar\":[{\"marker\":{\"colorbar\":{\"outlinewidth\":0,\"tickcolor\":\"rgb(36,36,36)\",\"ticklen\":8,\"ticks\":\"outside\",\"tickwidth\":2}},\"type\":\"scatterpolar\"}],\"scatter\":[{\"fillpattern\":{\"fillmode\":\"overlay\",\"size\":10,\"solidity\":0.2},\"type\":\"scatter\"}],\"scatterternary\":[{\"marker\":{\"colorbar\":{\"outlinewidth\":0,\"tickcolor\":\"rgb(36,36,36)\",\"ticklen\":8,\"ticks\":\"outside\",\"tickwidth\":2}},\"type\":\"scatterternary\"}],\"surface\":[{\"colorbar\":{\"outlinewidth\":0,\"tickcolor\":\"rgb(36,36,36)\",\"ticklen\":8,\"ticks\":\"outside\",\"tickwidth\":2},\"colorscale\":[[0.0,\"rgb(2,4,25)\"],[0.06274509803921569,\"rgb(24,15,41)\"],[0.12549019607843137,\"rgb(47,23,57)\"],[0.18823529411764706,\"rgb(71,28,72)\"],[0.25098039215686274,\"rgb(97,30,82)\"],[0.3137254901960784,\"rgb(123,30,89)\"],[0.3764705882352941,\"rgb(150,27,91)\"],[0.4392156862745098,\"rgb(177,22,88)\"],[0.5019607843137255,\"rgb(203,26,79)\"],[0.5647058823529412,\"rgb(223,47,67)\"],[0.6274509803921569,\"rgb(236,76,61)\"],[0.6901960784313725,\"rgb(242,107,73)\"],[0.7529411764705882,\"rgb(244,135,95)\"],[0.8156862745098039,\"rgb(245,162,122)\"],[0.8784313725490196,\"rgb(246,188,153)\"],[0.9411764705882353,\"rgb(247,212,187)\"],[1.0,\"rgb(250,234,220)\"]],\"type\":\"surface\"}],\"table\":[{\"cells\":{\"fill\":{\"color\":\"rgb(231,231,240)\"},\"line\":{\"color\":\"white\"}},\"header\":{\"fill\":{\"color\":\"rgb(183,183,191)\"},\"line\":{\"color\":\"white\"}},\"type\":\"table\"}]},\"layout\":{\"annotationdefaults\":{\"arrowcolor\":\"rgb(67,103,167)\"},\"autotypenumbers\":\"strict\",\"coloraxis\":{\"colorbar\":{\"outlinewidth\":0,\"tickcolor\":\"rgb(36,36,36)\",\"ticklen\":8,\"ticks\":\"outside\",\"tickwidth\":2}},\"colorscale\":{\"sequential\":[[0.0,\"rgb(2,4,25)\"],[0.06274509803921569,\"rgb(24,15,41)\"],[0.12549019607843137,\"rgb(47,23,57)\"],[0.18823529411764706,\"rgb(71,28,72)\"],[0.25098039215686274,\"rgb(97,30,82)\"],[0.3137254901960784,\"rgb(123,30,89)\"],[0.3764705882352941,\"rgb(150,27,91)\"],[0.4392156862745098,\"rgb(177,22,88)\"],[0.5019607843137255,\"rgb(203,26,79)\"],[0.5647058823529412,\"rgb(223,47,67)\"],[0.6274509803921569,\"rgb(236,76,61)\"],[0.6901960784313725,\"rgb(242,107,73)\"],[0.7529411764705882,\"rgb(244,135,95)\"],[0.8156862745098039,\"rgb(245,162,122)\"],[0.8784313725490196,\"rgb(246,188,153)\"],[0.9411764705882353,\"rgb(247,212,187)\"],[1.0,\"rgb(250,234,220)\"]],\"sequentialminus\":[[0.0,\"rgb(2,4,25)\"],[0.06274509803921569,\"rgb(24,15,41)\"],[0.12549019607843137,\"rgb(47,23,57)\"],[0.18823529411764706,\"rgb(71,28,72)\"],[0.25098039215686274,\"rgb(97,30,82)\"],[0.3137254901960784,\"rgb(123,30,89)\"],[0.3764705882352941,\"rgb(150,27,91)\"],[0.4392156862745098,\"rgb(177,22,88)\"],[0.5019607843137255,\"rgb(203,26,79)\"],[0.5647058823529412,\"rgb(223,47,67)\"],[0.6274509803921569,\"rgb(236,76,61)\"],[0.6901960784313725,\"rgb(242,107,73)\"],[0.7529411764705882,\"rgb(244,135,95)\"],[0.8156862745098039,\"rgb(245,162,122)\"],[0.8784313725490196,\"rgb(246,188,153)\"],[0.9411764705882353,\"rgb(247,212,187)\"],[1.0,\"rgb(250,234,220)\"]]},\"colorway\":[\"rgb(76,114,176)\",\"rgb(221,132,82)\",\"rgb(85,168,104)\",\"rgb(196,78,82)\",\"rgb(129,114,179)\",\"rgb(147,120,96)\",\"rgb(218,139,195)\",\"rgb(140,140,140)\",\"rgb(204,185,116)\",\"rgb(100,181,205)\"],\"font\":{\"color\":\"rgb(36,36,36)\"},\"geo\":{\"bgcolor\":\"white\",\"lakecolor\":\"white\",\"landcolor\":\"rgb(234,234,242)\",\"showlakes\":true,\"showland\":true,\"subunitcolor\":\"white\"},\"hoverlabel\":{\"align\":\"left\"},\"hovermode\":\"closest\",\"paper_bgcolor\":\"white\",\"plot_bgcolor\":\"rgb(234,234,242)\",\"polar\":{\"angularaxis\":{\"gridcolor\":\"white\",\"linecolor\":\"white\",\"showgrid\":true,\"ticks\":\"\"},\"bgcolor\":\"rgb(234,234,242)\",\"radialaxis\":{\"gridcolor\":\"white\",\"linecolor\":\"white\",\"showgrid\":true,\"ticks\":\"\"}},\"scene\":{\"xaxis\":{\"backgroundcolor\":\"rgb(234,234,242)\",\"gridcolor\":\"white\",\"gridwidth\":2,\"linecolor\":\"white\",\"showbackground\":true,\"showgrid\":true,\"ticks\":\"\",\"zerolinecolor\":\"white\"},\"yaxis\":{\"backgroundcolor\":\"rgb(234,234,242)\",\"gridcolor\":\"white\",\"gridwidth\":2,\"linecolor\":\"white\",\"showbackground\":true,\"showgrid\":true,\"ticks\":\"\",\"zerolinecolor\":\"white\"},\"zaxis\":{\"backgroundcolor\":\"rgb(234,234,242)\",\"gridcolor\":\"white\",\"gridwidth\":2,\"linecolor\":\"white\",\"showbackground\":true,\"showgrid\":true,\"ticks\":\"\",\"zerolinecolor\":\"white\"}},\"shapedefaults\":{\"fillcolor\":\"rgb(67,103,167)\",\"line\":{\"width\":0},\"opacity\":0.5},\"ternary\":{\"aaxis\":{\"gridcolor\":\"white\",\"linecolor\":\"white\",\"showgrid\":true,\"ticks\":\"\"},\"baxis\":{\"gridcolor\":\"white\",\"linecolor\":\"white\",\"showgrid\":true,\"ticks\":\"\"},\"bgcolor\":\"rgb(234,234,242)\",\"caxis\":{\"gridcolor\":\"white\",\"linecolor\":\"white\",\"showgrid\":true,\"ticks\":\"\"}},\"xaxis\":{\"automargin\":true,\"gridcolor\":\"white\",\"linecolor\":\"white\",\"showgrid\":true,\"ticks\":\"\",\"title\":{\"standoff\":15},\"zerolinecolor\":\"white\"},\"yaxis\":{\"automargin\":true,\"gridcolor\":\"white\",\"linecolor\":\"white\",\"showgrid\":true,\"ticks\":\"\",\"title\":{\"standoff\":15},\"zerolinecolor\":\"white\"}}},\"xaxis\":{\"anchor\":\"y\",\"domain\":[0.0,1.0],\"title\":{\"text\":\"Date\"}},\"yaxis\":{\"anchor\":\"x\",\"domain\":[0.0,1.0],\"title\":{\"text\":\"Percent Change\"}},\"legend\":{\"title\":{\"text\":\"variable\"},\"tracegroupgap\":0},\"title\":{\"text\":\"Percent Change\"},\"showlegend\":true},                        {\"responsive\": true}                    ).then(function(){\n",
       "                            \n",
       "var gd = document.getElementById('b68a75e1-41fa-4b23-a283-9fd17e4d1f67');\n",
       "var x = new MutationObserver(function (mutations, observer) {{\n",
       "        var display = window.getComputedStyle(gd).display;\n",
       "        if (!display || display === 'none') {{\n",
       "            console.log([gd, 'removed!']);\n",
       "            Plotly.purge(gd);\n",
       "            observer.disconnect();\n",
       "        }}\n",
       "}});\n",
       "\n",
       "// Listen for the removal of the full notebook cells\n",
       "var notebookContainer = gd.closest('#notebook-container');\n",
       "if (notebookContainer) {{\n",
       "    x.observe(notebookContainer, {childList: true});\n",
       "}}\n",
       "\n",
       "// Listen for the clearing of the current output cell\n",
       "var outputEl = gd.closest('.output');\n",
       "if (outputEl) {{\n",
       "    x.observe(outputEl, {childList: true});\n",
       "}}\n",
       "\n",
       "                        })                };                });            </script>        </div>"
      ]
     },
     "metadata": {},
     "output_type": "display_data"
    }
   ],
   "source": [
    "#matplotlib\n",
    "ax = df_pct_change.plot(title = 'Percent Change', figsize=(16, 8), ax = None)\n",
    "ax.set_xlabel('Percent Change')\n",
    "ax.set_ylabel('Date')\n",
    "ax.axhline(y=0, color = 'black')\n",
    "ax.legend(loc='upper left')\n",
    "plt.show()\n",
    "\n",
    "#plotly\n",
    "fig = px.line(df_pct_change, title = 'Percent Change')\n",
    "fig.update_layout(xaxis_title='Date', yaxis_title='Percent Change',showlegend=True, template='seaborn')\n",
    "fig.show()"
   ]
  },
  {
   "cell_type": "code",
   "execution_count": 70,
   "metadata": {},
   "outputs": [
    {
     "data": {
      "text/plain": [
       "COST    0.198531\n",
       "DIS     0.160302\n",
       "MSFT    0.251882\n",
       "NKE     0.190050\n",
       "dtype: float64"
      ]
     },
     "execution_count": 70,
     "metadata": {},
     "output_type": "execute_result"
    }
   ],
   "source": [
    "mean_return = df_pct_change.mean() * 12\n",
    "mean_return"
   ]
  },
  {
   "cell_type": "code",
   "execution_count": 71,
   "metadata": {},
   "outputs": [
    {
     "data": {
      "text/plain": [
       "COST    0.029159\n",
       "DIS     0.055223\n",
       "MSFT    0.041740\n",
       "NKE     0.049432\n",
       "dtype: float64"
      ]
     },
     "execution_count": 71,
     "metadata": {},
     "output_type": "execute_result"
    }
   ],
   "source": [
    "var_risk = df_pct_change.var() * 12\n",
    "var_risk"
   ]
  },
  {
   "cell_type": "code",
   "execution_count": 72,
   "metadata": {},
   "outputs": [
    {
     "data": {
      "text/html": [
       "<div>\n",
       "<style scoped>\n",
       "    .dataframe tbody tr th:only-of-type {\n",
       "        vertical-align: middle;\n",
       "    }\n",
       "\n",
       "    .dataframe tbody tr th {\n",
       "        vertical-align: top;\n",
       "    }\n",
       "\n",
       "    .dataframe thead th {\n",
       "        text-align: right;\n",
       "    }\n",
       "</style>\n",
       "<table border=\"1\" class=\"dataframe\">\n",
       "  <thead>\n",
       "    <tr style=\"text-align: right;\">\n",
       "      <th></th>\n",
       "      <th>COST</th>\n",
       "      <th>DIS</th>\n",
       "      <th>MSFT</th>\n",
       "      <th>NKE</th>\n",
       "    </tr>\n",
       "  </thead>\n",
       "  <tbody>\n",
       "    <tr>\n",
       "      <th>COST</th>\n",
       "      <td>0.029159</td>\n",
       "      <td>0.011473</td>\n",
       "      <td>0.011932</td>\n",
       "      <td>0.012717</td>\n",
       "    </tr>\n",
       "    <tr>\n",
       "      <th>DIS</th>\n",
       "      <td>0.011473</td>\n",
       "      <td>0.055223</td>\n",
       "      <td>0.017132</td>\n",
       "      <td>0.020052</td>\n",
       "    </tr>\n",
       "    <tr>\n",
       "      <th>MSFT</th>\n",
       "      <td>0.011932</td>\n",
       "      <td>0.017132</td>\n",
       "      <td>0.041740</td>\n",
       "      <td>0.013990</td>\n",
       "    </tr>\n",
       "    <tr>\n",
       "      <th>NKE</th>\n",
       "      <td>0.012717</td>\n",
       "      <td>0.020052</td>\n",
       "      <td>0.013990</td>\n",
       "      <td>0.049432</td>\n",
       "    </tr>\n",
       "  </tbody>\n",
       "</table>\n",
       "</div>"
      ],
      "text/plain": [
       "          COST       DIS      MSFT       NKE\n",
       "COST  0.029159  0.011473  0.011932  0.012717\n",
       "DIS   0.011473  0.055223  0.017132  0.020052\n",
       "MSFT  0.011932  0.017132  0.041740  0.013990\n",
       "NKE   0.012717  0.020052  0.013990  0.049432"
      ]
     },
     "execution_count": 72,
     "metadata": {},
     "output_type": "execute_result"
    }
   ],
   "source": [
    "cov_mat = df_pct_change.cov()*12\n",
    "cov_mat"
   ]
  },
  {
   "cell_type": "code",
   "execution_count": 73,
   "metadata": {},
   "outputs": [
    {
     "data": {
      "text/html": [
       "<div>\n",
       "<style scoped>\n",
       "    .dataframe tbody tr th:only-of-type {\n",
       "        vertical-align: middle;\n",
       "    }\n",
       "\n",
       "    .dataframe tbody tr th {\n",
       "        vertical-align: top;\n",
       "    }\n",
       "\n",
       "    .dataframe thead th {\n",
       "        text-align: right;\n",
       "    }\n",
       "</style>\n",
       "<table border=\"1\" class=\"dataframe\">\n",
       "  <thead>\n",
       "    <tr style=\"text-align: right;\">\n",
       "      <th></th>\n",
       "      <th>COST</th>\n",
       "      <th>DIS</th>\n",
       "      <th>MSFT</th>\n",
       "      <th>NKE</th>\n",
       "    </tr>\n",
       "  </thead>\n",
       "  <tbody>\n",
       "    <tr>\n",
       "      <th>COST</th>\n",
       "      <td>1.000000</td>\n",
       "      <td>0.285910</td>\n",
       "      <td>0.342005</td>\n",
       "      <td>0.334956</td>\n",
       "    </tr>\n",
       "    <tr>\n",
       "      <th>DIS</th>\n",
       "      <td>0.285910</td>\n",
       "      <td>1.000000</td>\n",
       "      <td>0.356845</td>\n",
       "      <td>0.383797</td>\n",
       "    </tr>\n",
       "    <tr>\n",
       "      <th>MSFT</th>\n",
       "      <td>0.342005</td>\n",
       "      <td>0.356845</td>\n",
       "      <td>1.000000</td>\n",
       "      <td>0.308000</td>\n",
       "    </tr>\n",
       "    <tr>\n",
       "      <th>NKE</th>\n",
       "      <td>0.334956</td>\n",
       "      <td>0.383797</td>\n",
       "      <td>0.308000</td>\n",
       "      <td>1.000000</td>\n",
       "    </tr>\n",
       "  </tbody>\n",
       "</table>\n",
       "</div>"
      ],
      "text/plain": [
       "          COST       DIS      MSFT       NKE\n",
       "COST  1.000000  0.285910  0.342005  0.334956\n",
       "DIS   0.285910  1.000000  0.356845  0.383797\n",
       "MSFT  0.342005  0.356845  1.000000  0.308000\n",
       "NKE   0.334956  0.383797  0.308000  1.000000"
      ]
     },
     "execution_count": 73,
     "metadata": {},
     "output_type": "execute_result"
    }
   ],
   "source": [
    "corr_mat = df_pct_change.corr()\n",
    "corr_mat"
   ]
  },
  {
   "cell_type": "code",
   "execution_count": 74,
   "metadata": {},
   "outputs": [
    {
     "data": {
      "text/plain": [
       "[0.25, 0.25, 0.25, 0.25]"
      ]
     },
     "execution_count": 74,
     "metadata": {},
     "output_type": "execute_result"
    }
   ],
   "source": [
    "weight = 1/len(tickers)\n",
    "eq_weights = [weight for i in tickers]\n",
    "eq_weights"
   ]
  },
  {
   "cell_type": "code",
   "execution_count": 75,
   "metadata": {},
   "outputs": [
    {
     "data": {
      "text/plain": [
       "0.20019129578488354"
      ]
     },
     "execution_count": 75,
     "metadata": {},
     "output_type": "execute_result"
    }
   ],
   "source": [
    "eq_return = eq_weights @ (mean_return)\n",
    "eq_return"
   ]
  },
  {
   "cell_type": "code",
   "execution_count": 76,
   "metadata": {},
   "outputs": [
    {
     "data": {
      "text/plain": [
       "0.14793324244566944"
      ]
     },
     "execution_count": 76,
     "metadata": {},
     "output_type": "execute_result"
    }
   ],
   "source": [
    "eq_risk = ((eq_weights @ cov_mat) @ eq_weights)**(1/2)\n",
    "eq_risk"
   ]
  },
  {
   "cell_type": "code",
   "execution_count": 77,
   "metadata": {},
   "outputs": [
    {
     "data": {
      "text/plain": [
       "1.150460119519037"
      ]
     },
     "execution_count": 77,
     "metadata": {},
     "output_type": "execute_result"
    }
   ],
   "source": [
    "eq_sharpe = (eq_return - risk_free_rate)/eq_risk\n",
    "eq_sharpe"
   ]
  },
  {
   "cell_type": "code",
   "execution_count": 78,
   "metadata": {},
   "outputs": [
    {
     "data": {
      "text/html": [
       "<div>\n",
       "<style scoped>\n",
       "    .dataframe tbody tr th:only-of-type {\n",
       "        vertical-align: middle;\n",
       "    }\n",
       "\n",
       "    .dataframe tbody tr th {\n",
       "        vertical-align: top;\n",
       "    }\n",
       "\n",
       "    .dataframe thead th {\n",
       "        text-align: right;\n",
       "    }\n",
       "</style>\n",
       "<table border=\"1\" class=\"dataframe\">\n",
       "  <thead>\n",
       "    <tr style=\"text-align: right;\">\n",
       "      <th></th>\n",
       "      <th>Weights</th>\n",
       "      <th>Risk</th>\n",
       "      <th>Return</th>\n",
       "      <th>Sharpe</th>\n",
       "    </tr>\n",
       "  </thead>\n",
       "  <tbody>\n",
       "    <tr>\n",
       "      <th>0</th>\n",
       "      <td>[0.32445885367665855, 0.34641750091185247, 0.0...</td>\n",
       "      <td>0.157048</td>\n",
       "      <td>0.183121</td>\n",
       "      <td>0.974994</td>\n",
       "    </tr>\n",
       "    <tr>\n",
       "      <th>1</th>\n",
       "      <td>[0.26028389180134764, 0.3198204468006213, 0.33...</td>\n",
       "      <td>0.150958</td>\n",
       "      <td>0.203546</td>\n",
       "      <td>1.149637</td>\n",
       "    </tr>\n",
       "    <tr>\n",
       "      <th>2</th>\n",
       "      <td>[0.23745363958458088, 0.36053746784852625, 0.3...</td>\n",
       "      <td>0.155880</td>\n",
       "      <td>0.204569</td>\n",
       "      <td>1.119889</td>\n",
       "    </tr>\n",
       "  </tbody>\n",
       "</table>\n",
       "</div>"
      ],
      "text/plain": [
       "                                             Weights      Risk    Return  \\\n",
       "0  [0.32445885367665855, 0.34641750091185247, 0.0...  0.157048  0.183121   \n",
       "1  [0.26028389180134764, 0.3198204468006213, 0.33...  0.150958  0.203546   \n",
       "2  [0.23745363958458088, 0.36053746784852625, 0.3...  0.155880  0.204569   \n",
       "\n",
       "     Sharpe  \n",
       "0  0.974994  \n",
       "1  1.149637  \n",
       "2  1.119889  "
      ]
     },
     "execution_count": 78,
     "metadata": {},
     "output_type": "execute_result"
    }
   ],
   "source": [
    "efficient_frontier_data = []\n",
    "for trial in range(trial_n):\n",
    "    t_weight = np.random.random(len(tickers, ))\n",
    "    t_weights = t_weight/sum(t_weight)\n",
    "    t_return = t_weights @ (mean_return)\n",
    "    t_risk = ((t_weights @ cov_mat) @ t_weights)**(1/2)\n",
    "    t_sharpe = (t_return - risk_free_rate)/t_risk\n",
    "    efficient_frontier_data.append([t_weights, t_risk, t_return, t_sharpe])\n",
    "\n",
    "efficient_frontier_data = pd.DataFrame(efficient_frontier_data, columns=['Weights', 'Risk', 'Return', 'Sharpe'])\n",
    "efficient_frontier_data.head()"
   ]
  },
  {
   "cell_type": "code",
   "execution_count": 79,
   "metadata": {},
   "outputs": [
    {
     "data": {
      "text/plain": [
       "Weights    [0.26028389180134764, 0.3198204468006213, 0.33...\n",
       "Risk                                                0.150958\n",
       "Return                                              0.203546\n",
       "Sharpe                                              1.149637\n",
       "Name: 1, dtype: object"
      ]
     },
     "execution_count": 79,
     "metadata": {},
     "output_type": "execute_result"
    }
   ],
   "source": [
    "i = efficient_frontier_data['Sharpe'].idxmax()\n",
    "max_sharpe = efficient_frontier_data.iloc[i, :]\n",
    "max_sharpe"
   ]
  },
  {
   "cell_type": "code",
   "execution_count": 80,
   "metadata": {},
   "outputs": [
    {
     "data": {
      "text/plain": [
       "Weights    [0.26028389180134764, 0.3198204468006213, 0.33...\n",
       "Risk                                                0.150958\n",
       "Return                                              0.203546\n",
       "Sharpe                                              1.149637\n",
       "Name: 1, dtype: object"
      ]
     },
     "execution_count": 80,
     "metadata": {},
     "output_type": "execute_result"
    }
   ],
   "source": [
    "i = efficient_frontier_data['Risk'].idxmin()\n",
    "min_risk = efficient_frontier_data.iloc[i, :]\n",
    "min_risk"
   ]
  },
  {
   "cell_type": "code",
   "execution_count": 81,
   "metadata": {},
   "outputs": [
    {
     "data": {
      "text/plain": [
       "Weights    [0.23745363958458088, 0.36053746784852625, 0.3...\n",
       "Risk                                                 0.15588\n",
       "Return                                              0.204569\n",
       "Sharpe                                              1.119889\n",
       "Name: 2, dtype: object"
      ]
     },
     "execution_count": 81,
     "metadata": {},
     "output_type": "execute_result"
    }
   ],
   "source": [
    "i = efficient_frontier_data['Return'].idxmax()\n",
    "max_return = efficient_frontier_data.iloc[i, :]\n",
    "max_return"
   ]
  }
 ],
 "metadata": {
  "kernelspec": {
   "display_name": "Python 3",
   "language": "python",
   "name": "python3"
  },
  "language_info": {
   "codemirror_mode": {
    "name": "ipython",
    "version": 3
   },
   "file_extension": ".py",
   "mimetype": "text/x-python",
   "name": "python",
   "nbconvert_exporter": "python",
   "pygments_lexer": "ipython3",
   "version": "3.10.9"
  },
  "orig_nbformat": 4,
  "vscode": {
   "interpreter": {
    "hash": "822b2de4bfe9cac38b44aa91bbae90cafa35cd8f4bbd8210ef9d2a5c9a49e948"
   }
  }
 },
 "nbformat": 4,
 "nbformat_minor": 2
}
